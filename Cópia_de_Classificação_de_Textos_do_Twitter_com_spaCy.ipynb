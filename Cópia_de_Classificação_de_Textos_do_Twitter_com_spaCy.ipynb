{
  "nbformat": 4,
  "nbformat_minor": 0,
  "metadata": {
    "colab": {
      "name": "Cópia_de_Classificação_de_Textos_do_Twitter_com_spaCy.ipynb",
      "provenance": [],
      "collapsed_sections": [],
      "machine_shape": "hm",
      "toc_visible": true,
      "include_colab_link": true
    },
    "kernelspec": {
      "name": "python3",
      "display_name": "Python 3"
    }
  },
  "cells": [
    {
      "cell_type": "markdown",
      "metadata": {
        "id": "view-in-github",
        "colab_type": "text"
      },
      "source": [
        "<a href=\"https://colab.research.google.com/github/DeepFluxion/Sentiment_Analisy_NLP_Stuff-/blob/main/C%C3%B3pia_de_Classifica%C3%A7%C3%A3o_de_Textos_do_Twitter_com_spaCy.ipynb\" target=\"_parent\"><img src=\"https://colab.research.google.com/assets/colab-badge.svg\" alt=\"Open In Colab\"/></a>"
      ]
    },
    {
      "cell_type": "markdown",
      "metadata": {
        "id": "AGgw36kc8udU"
      },
      "source": [
        "# Portuguese Tweets for Sentiment Analysis\n",
        "\n",
        "Este notebook foi desenvolvido para realizar ua análise de sentimentos da base [\n",
        "Portuguese Tweets for Sentiment Analysis](https://www.kaggle.com/datasets/augustop/portuguese-tweets-for-sentiment-analysis) disponibilizada no site kaggle.\n",
        "\n",
        "Apesar da disponibilização de dataset de diferentes tamanhos (50k, 100k, 200k e 500k) escolheu-se o dataset de 100k onde 70% será usado para treinamento e 30$ para teste. A base de teste disponibilizada no kaggle possui apenas 5k registros. Com um número maior de dados para teste pode-se avaliar melhor os resultados."
      ]
    },
    {
      "cell_type": "markdown",
      "source": [
        "# Descrição do Conjunto de dados\n",
        "\n",
        "# Contexto\n",
        "\n",
        "Este conjunto de dados possui tweets em portugues divididos em classes positivas, negativas e neutras para classificação de polaridade de sentimento.\n",
        "\n",
        "Para coletar e rotular os casos positivos e negativos, o método de supervisão à distância de usar emoticons positivos e negativos usado por [Go et al. (2009)](\"https://cs.stanford.edu/people/alecmgo/papers/TwitterDistantSupervision09.pdf\") foi empregado.\n",
        "\n",
        "Para os neutros, texto objetivo de contas populares de newsletters e hashtags específicas adaptadas de [Kouloumpis et al. (2011)](https://ojs.aaai.org/index.php/ICWSM/article/view/14185) foram usados.\n",
        "\n",
        "Os tweets nos conjuntos de dados foram coletados do Twitter principalmente de 01/08/2018 a 20/10/2018.\n",
        "\n",
        "- Existem 4 conjuntos de dados principais:\n",
        "\n",
        "- **Tweets com Tema:** coletados usando cerca de 100 termos políticos junto com emoticons positivos e negativos. Contém cerca de 60 mil tweets.\n",
        "\n",
        "- **Tweets sem tema**: coletados usando apenas emoticons positivos e negativos. Contém cerca de 780 mil tweets.\n",
        "\n",
        "- **Tweets neutros de Hashtags**: coletados usando hashtags. Contém cerca de 15 mil tweets.\n",
        "\n",
        "- **Tweets neutros de contas de notícias**: coletados diretamente de contas de notícias populares. Contém cerca de 35 mil tweets.\n",
        "\n",
        "A partir deles foram criados os seguintes conjuntos de dados que podem ser usados ​​para treinar e validar algoritmos de classificação:\n",
        "\n",
        "Conjuntos de dados de treinamento:\n",
        "\n",
        "- 50k, 100k, 200k, 300k, 400k, 500k tweets positivos e negativos sem qualquer tema\n",
        "- 50 mil tweets positivos e negativos com tweets políticos\n",
        "- 100 mil tweets positivos, negativos e neutros sem qualquer tema\n",
        "Conjuntos de dados de teste:\n",
        "\n",
        "- 5k tweets positivos e negativos sem qualquer tema\n",
        "- 5k tweets positivos e negativos com tweets políticos\n",
        "- 5k tweets positivos, negativos e neutros sem tema\n",
        "\n",
        "Todos eles têm um número igual de instâncias entre as classes. Seus rótulos de sentimento foram transformados da seguinte forma:\n",
        "\n",
        "- Rótulo negativo: 0\n",
        "- Rótulo positivo: 1\n",
        "- Rótulo neutro: 2"
      ],
      "metadata": {
        "id": "TP4BNL1matsS"
      }
    },
    {
      "cell_type": "markdown",
      "source": [
        "# Questões:\n",
        "\n",
        "## **1. Com esse dataset tão variado que tipo de soluções acha possível implementar?**\n",
        " \n",
        "-  Em primeiro ligar criar classificadores de sentimento em português, a base permite permite trabalhar com classificadores binários, multiclasses (positivo, negativo e neutro).\n",
        "- Outro ponto é que ao se observar alguns tweets, precebe-se que há muitas gírias impropérios e principalmente muitos exemplos de linguagem corrente em redes sociais, por exemplo você é vc ou VC, para é pra, entre outros.\n",
        "- Muitas dessas palavras dessas poderiam constituir uma base para Stop Words, uma vez que **pra** é muito utilizado mas não está nas listas padrão de stopwords.\n",
        "- Identificar impropérios é uma tarefa necessária, por exemplo em provas do ENEM mencionar impropérios leva a nota zero.\n",
        "- O fato de uma parte dos dados possuirem temática politica permite mensurar temáticas, nível de esposição de atores dentro do tema política e a polaridade de sentimentos dos mesmos.\n",
        "- Além disso os classificadosres aqui treinados podem ser usados em outros tipos de textos para classificar sentimentos.\n",
        "\n",
        "## **2. Imagine que tenha que desenvolver dois serviços:**\n",
        "  - **Identificar se o tweet se refere a um produto**\n",
        "  - **Identificar se ele cita alguma vaga de emprego**   \n",
        "**Escolha um dos projetos e mapeie os requisitos e as necessidades para o desenvolvimento, que tarefas teria que fazer, quais técnicas usaria e porque.**\n",
        "## Sumário da solução: \n",
        "A solução a ser construída é constituída de:\n",
        "- módulo de coleta de dados de treinamento, \n",
        "- módulo de coleta de tweets para análise,\n",
        "- banco de dados de tweets \n",
        "- módulo de pré-processamento de tweets,\n",
        "- módulo de classificação de tweets,\n",
        "- módulo de busca nos tweets classificados no \n",
        "- implementação de uma solução web para interagir com o usuário\n",
        "\n",
        "1. **Módulo de coleta de dados de treinamento:** Para coletar dados em que houvesse a certeza de que se referem a um determinado tipo de texto, eu construíria essa base com dados obtidos de textos específicos.No caso de vagas de emprego acredito ser boa alternativa recorrer a sites de anúncios de empregos como o [Indeed](https://br.indeed.com/empregos-em-S%C3%A3o-Paulo,-SP?vjk=35e545bdb60a9162) e coletar anúncios empregando _webscraping_ ou uma API se houver. Neste caso específico seria necessário automatizar essa coleta de textos usando ferramentas como [Selenium](https://selenium-python.readthedocs.io/) e [BeautfulSoup](https://www.crummy.com/software/BeautifulSoup/).No caso dos projetos de vaga de emprego é importante entender que esses tipo de tweet pode ser raro, o que levaria a dados insufientes para treianamento, portanto uma solução é coletar dados de um ambiente para entender as características deste tipo de texto e possibilita o desenvolvimento de uma modelagem adequada de classificadores de texto\n",
        "\n",
        "2. **Módulo de coleta de dados de tweets:** Seja para formatar bases de treinamento ou para produção, será necessário coletar tweets, portant é necessário que se tenha um módulopara coletar esses dados, o que pode ser feito com os pacotes ofociais do [Tweeter](https://developer.twitter.com/en/docs/twitter-api/tools-and-libraries/v2) ou outras alternativas existes, esse módulo deverá permitir coletar dados com base em parâmetros e busca, como pais, data localização, etc..\n",
        "\n",
        "3. **Banco de dados de tweets :** É necessário um banco de dados para armazenar os tweets coletados. Em geral a prática de mercado segue a orientação de construir um Data Lake e manter três camadas de dados a primeira de dados brutos na forma que forma coletados da fonte, a segunda com dados pré processados e uma terceira com dados do processo de negócios, por exemplo a classficação do tweet, a data em que foi processado, se foi consultado, etc... A ultima cada além de ser a base a ser exibida no frontend deve conter dados do processo permitindo fazer o Analytics do produto.\n",
        "\n",
        "4. **Módulo de pré-processamento de tweets :** Neste módulo tem a função de fazer a limpeza dos dados, retirar stopwords, tokenizar, corrigir erro gramaticais, entre outros. Os resultados dever ser aramzenados na cada intermediária do banco de dados. No classificador de emoções desenvolvido a seguir esses processos estão bem exemplificados.\n",
        "\n",
        "5. **Módulo de classificação de tweets :** Aqui ocorre o processo de Ciência de Dados propriamente dito. A proposta inicial seria de :\n",
        "Realizar análises exploratórias, extração de entidades nominais (Noun chunks)  e aplicação de métodos não supervionados (modelagem de tópico, clusterização, entre outros) de modo a entender caraterísticas de texto de anúncio de empregos. Técnicas que possívelmente podem ser usadas no classificador são:\n",
        "  - Classificação por regras, obtidas da extração de palavras chave do Indeed\n",
        "  - Classificadores supervisionados como SVM ou algyma arquitetura de redes neurais (por exemplo LSTM), mas neste caso deve-se ter uma base de treimanete, que deveria ser construída sobre uma base de tweets, que poderia ser rotulada com base em palavras chave ou algum outro tipo de técnica aplicada a base do Indeed.\n",
        "  - KNN, Métodos de Distâncias, etc...\n",
        "  - \n",
        "Tecnicas não supervisionadas que poder ser usadas na construçaõ do model de classficação:\n",
        "- Modelagem de tópicos e extração de palavras chaves\n",
        "- Redes Neurais do tipo SOM (Self Organazing Maps ou Mapas Autorganizáveis)\n",
        "- Técnicas de clustering (K-Means, DBScan, UMAP, TSNET, etc..)\n",
        "\n",
        "6. **Módulo de busca nos tweets classificados no banco de dados** \n",
        "\n",
        "7. **Implementação de uma solução web para interagir com o usuário**\n",
        "\n",
        "## **3. É possível desenvolver alguma parte do item acima com os dados que você tem? Se sim, resolva o possível no tempo disponibilizado.**\n",
        "\n",
        "Se houver um número razoável de tweets com ofertas de empregos talvez seja possível identifica-los por meio de modelagem de tópicos, se açhar algo interessante avaço até onde for possível.\n",
        "\n",
        "## **4. Faça um modelo de análise de sentimentos dos tweets.**\n",
        "\n",
        "A modelagem segue nos próximos items\n",
        "\n",
        "\n",
        "\n"
      ],
      "metadata": {
        "id": "o3ZEx2Sufa_q"
      }
    },
    {
      "cell_type": "markdown",
      "source": [
        "# **Parte A. Modelo de análise de sentimentos**\n",
        "Este parte consta das seguintes etapas:\n",
        "\n",
        "## Etapa 1 - Importação e Instalação das Bibliotecas\n",
        "## Etapa 2 - Carga dos Dados\n",
        "## Etapa 3 - Desenvolvimente de uma Função apar Pré processamento dos Dados\n",
        "## Epara 4 - Pré-processamento da base de dados\n",
        "## Etapa 5 - Criação do Classificador\n",
        "## Etapa 6 - teste do Classificador\n",
        "## Etapa 7 - Avaliação do Modelo e Métricas"
      ],
      "metadata": {
        "id": "Cmi_AIw-EvPd"
      }
    },
    {
      "cell_type": "markdown",
      "metadata": {
        "id": "JtJGnXGi8zt9"
      },
      "source": [
        "# Etapa 1: Importação e instalação das bibliotecas\n",
        "\n",
        "Neste projeto usaremos a biblioteca [spaCy](https://spacy.io/models/pt) para o porcessamento de linaguagem natural, sobretudo na construção do modelo classificador. A escolha recai pelo desempenho, facilidade de uso e suporte a lígua portuguesa."
      ]
    },
    {
      "cell_type": "code",
      "metadata": {
        "id": "Xh86jT1k_299"
      },
      "source": [
        "#!pip install spacy --upgrade\n",
        "!pip install -q spacy==2.2.3 #Ainda não estou muito adaptado com o spaCy 3.0 por isso vou usar essa versão em que sou masi fluente."
      ],
      "execution_count": null,
      "outputs": []
    },
    {
      "cell_type": "code",
      "metadata": {
        "id": "T1ZYK4Svri9a",
        "colab": {
          "base_uri": "https://localhost:8080/",
          "height": 35
        },
        "outputId": "499b69d9-23e1-4617-d114-37ff3bb3f921"
      },
      "source": [
        "import spacy\n",
        "spacy.__version__ # verificando a versão instalada após o lançamento da versão 3 alguns comando forma alterados"
      ],
      "execution_count": null,
      "outputs": [
        {
          "output_type": "execute_result",
          "data": {
            "text/plain": [
              "'2.2.3'"
            ],
            "application/vnd.google.colaboratory.intrinsic+json": {
              "type": "string"
            }
          },
          "metadata": {},
          "execution_count": 8
        }
      ]
    },
    {
      "cell_type": "code",
      "metadata": {
        "id": "BbXiQKovAAy_",
        "colab": {
          "base_uri": "https://localhost:8080/"
        },
        "outputId": "b1a92f98-0015-437f-82ed-9e78b446bd7e"
      },
      "source": [
        "!python3 -m spacy download pt # carregando o modelo em portugês"
      ],
      "execution_count": null,
      "outputs": [
        {
          "output_type": "stream",
          "name": "stdout",
          "text": [
            "Collecting pt_core_news_sm==2.2.5\n",
            "  Downloading https://github.com/explosion/spacy-models/releases/download/pt_core_news_sm-2.2.5/pt_core_news_sm-2.2.5.tar.gz (21.2 MB)\n",
            "\u001b[K     |████████████████████████████████| 21.2 MB 8.6 MB/s \n",
            "\u001b[?25hRequirement already satisfied: spacy>=2.2.2 in /usr/local/lib/python3.7/dist-packages (from pt_core_news_sm==2.2.5) (2.2.3)\n",
            "Requirement already satisfied: srsly<1.1.0,>=0.1.0 in /usr/local/lib/python3.7/dist-packages (from spacy>=2.2.2->pt_core_news_sm==2.2.5) (1.0.5)\n",
            "Requirement already satisfied: requests<3.0.0,>=2.13.0 in /usr/local/lib/python3.7/dist-packages (from spacy>=2.2.2->pt_core_news_sm==2.2.5) (2.23.0)\n",
            "Requirement already satisfied: blis<0.5.0,>=0.4.0 in /usr/local/lib/python3.7/dist-packages (from spacy>=2.2.2->pt_core_news_sm==2.2.5) (0.4.1)\n",
            "Requirement already satisfied: murmurhash<1.1.0,>=0.28.0 in /usr/local/lib/python3.7/dist-packages (from spacy>=2.2.2->pt_core_news_sm==2.2.5) (1.0.6)\n",
            "Requirement already satisfied: setuptools in /usr/local/lib/python3.7/dist-packages (from spacy>=2.2.2->pt_core_news_sm==2.2.5) (57.4.0)\n",
            "Requirement already satisfied: catalogue<1.1.0,>=0.0.7 in /usr/local/lib/python3.7/dist-packages (from spacy>=2.2.2->pt_core_news_sm==2.2.5) (1.0.0)\n",
            "Requirement already satisfied: wasabi<1.1.0,>=0.4.0 in /usr/local/lib/python3.7/dist-packages (from spacy>=2.2.2->pt_core_news_sm==2.2.5) (0.9.0)\n",
            "Requirement already satisfied: plac<1.2.0,>=0.9.6 in /usr/local/lib/python3.7/dist-packages (from spacy>=2.2.2->pt_core_news_sm==2.2.5) (1.1.3)\n",
            "Requirement already satisfied: numpy>=1.15.0 in /usr/local/lib/python3.7/dist-packages (from spacy>=2.2.2->pt_core_news_sm==2.2.5) (1.21.5)\n",
            "Requirement already satisfied: thinc<7.4.0,>=7.3.0 in /usr/local/lib/python3.7/dist-packages (from spacy>=2.2.2->pt_core_news_sm==2.2.5) (7.3.1)\n",
            "Requirement already satisfied: preshed<3.1.0,>=3.0.2 in /usr/local/lib/python3.7/dist-packages (from spacy>=2.2.2->pt_core_news_sm==2.2.5) (3.0.6)\n",
            "Requirement already satisfied: cymem<2.1.0,>=2.0.2 in /usr/local/lib/python3.7/dist-packages (from spacy>=2.2.2->pt_core_news_sm==2.2.5) (2.0.6)\n",
            "Requirement already satisfied: importlib-metadata>=0.20 in /usr/local/lib/python3.7/dist-packages (from catalogue<1.1.0,>=0.0.7->spacy>=2.2.2->pt_core_news_sm==2.2.5) (4.11.3)\n",
            "Requirement already satisfied: typing-extensions>=3.6.4 in /usr/local/lib/python3.7/dist-packages (from importlib-metadata>=0.20->catalogue<1.1.0,>=0.0.7->spacy>=2.2.2->pt_core_news_sm==2.2.5) (3.10.0.2)\n",
            "Requirement already satisfied: zipp>=0.5 in /usr/local/lib/python3.7/dist-packages (from importlib-metadata>=0.20->catalogue<1.1.0,>=0.0.7->spacy>=2.2.2->pt_core_news_sm==2.2.5) (3.7.0)\n",
            "Requirement already satisfied: idna<3,>=2.5 in /usr/local/lib/python3.7/dist-packages (from requests<3.0.0,>=2.13.0->spacy>=2.2.2->pt_core_news_sm==2.2.5) (2.10)\n",
            "Requirement already satisfied: chardet<4,>=3.0.2 in /usr/local/lib/python3.7/dist-packages (from requests<3.0.0,>=2.13.0->spacy>=2.2.2->pt_core_news_sm==2.2.5) (3.0.4)\n",
            "Requirement already satisfied: urllib3!=1.25.0,!=1.25.1,<1.26,>=1.21.1 in /usr/local/lib/python3.7/dist-packages (from requests<3.0.0,>=2.13.0->spacy>=2.2.2->pt_core_news_sm==2.2.5) (1.24.3)\n",
            "Requirement already satisfied: certifi>=2017.4.17 in /usr/local/lib/python3.7/dist-packages (from requests<3.0.0,>=2.13.0->spacy>=2.2.2->pt_core_news_sm==2.2.5) (2021.10.8)\n",
            "Requirement already satisfied: tqdm<5.0.0,>=4.10.0 in /usr/local/lib/python3.7/dist-packages (from thinc<7.4.0,>=7.3.0->spacy>=2.2.2->pt_core_news_sm==2.2.5) (4.63.0)\n",
            "\u001b[38;5;2m✔ Download and installation successful\u001b[0m\n",
            "You can now load the model via spacy.load('pt_core_news_sm')\n",
            "\u001b[38;5;2m✔ Linking successful\u001b[0m\n",
            "/usr/local/lib/python3.7/dist-packages/pt_core_news_sm -->\n",
            "/usr/local/lib/python3.7/dist-packages/spacy/data/pt\n",
            "You can now load the model via spacy.load('pt')\n"
          ]
        }
      ]
    },
    {
      "cell_type": "code",
      "source": [
        "! pip install pyLDAvis"
      ],
      "metadata": {
        "colab": {
          "base_uri": "https://localhost:8080/"
        },
        "id": "ECSOaEnSY9LZ",
        "outputId": "be355ff2-4844-44b3-a33f-1eac0556a157"
      },
      "execution_count": null,
      "outputs": [
        {
          "output_type": "stream",
          "name": "stdout",
          "text": [
            "Collecting pyLDAvis\n",
            "  Downloading pyLDAvis-3.3.1.tar.gz (1.7 MB)\n",
            "\u001b[?25l\r\u001b[K     |▏                               | 10 kB 27.8 MB/s eta 0:00:01\r\u001b[K     |▍                               | 20 kB 35.5 MB/s eta 0:00:01\r\u001b[K     |▋                               | 30 kB 39.7 MB/s eta 0:00:01\r\u001b[K     |▉                               | 40 kB 12.9 MB/s eta 0:00:01\r\u001b[K     |█                               | 51 kB 11.5 MB/s eta 0:00:01\r\u001b[K     |█▏                              | 61 kB 12.7 MB/s eta 0:00:01\r\u001b[K     |█▍                              | 71 kB 11.2 MB/s eta 0:00:01\r\u001b[K     |█▋                              | 81 kB 12.1 MB/s eta 0:00:01\r\u001b[K     |█▉                              | 92 kB 13.4 MB/s eta 0:00:01\r\u001b[K     |██                              | 102 kB 13.0 MB/s eta 0:00:01\r\u001b[K     |██▏                             | 112 kB 13.0 MB/s eta 0:00:01\r\u001b[K     |██▍                             | 122 kB 13.0 MB/s eta 0:00:01\r\u001b[K     |██▋                             | 133 kB 13.0 MB/s eta 0:00:01\r\u001b[K     |██▊                             | 143 kB 13.0 MB/s eta 0:00:01\r\u001b[K     |███                             | 153 kB 13.0 MB/s eta 0:00:01\r\u001b[K     |███▏                            | 163 kB 13.0 MB/s eta 0:00:01\r\u001b[K     |███▍                            | 174 kB 13.0 MB/s eta 0:00:01\r\u001b[K     |███▋                            | 184 kB 13.0 MB/s eta 0:00:01\r\u001b[K     |███▊                            | 194 kB 13.0 MB/s eta 0:00:01\r\u001b[K     |████                            | 204 kB 13.0 MB/s eta 0:00:01\r\u001b[K     |████▏                           | 215 kB 13.0 MB/s eta 0:00:01\r\u001b[K     |████▍                           | 225 kB 13.0 MB/s eta 0:00:01\r\u001b[K     |████▋                           | 235 kB 13.0 MB/s eta 0:00:01\r\u001b[K     |████▊                           | 245 kB 13.0 MB/s eta 0:00:01\r\u001b[K     |█████                           | 256 kB 13.0 MB/s eta 0:00:01\r\u001b[K     |█████▏                          | 266 kB 13.0 MB/s eta 0:00:01\r\u001b[K     |█████▍                          | 276 kB 13.0 MB/s eta 0:00:01\r\u001b[K     |█████▌                          | 286 kB 13.0 MB/s eta 0:00:01\r\u001b[K     |█████▊                          | 296 kB 13.0 MB/s eta 0:00:01\r\u001b[K     |██████                          | 307 kB 13.0 MB/s eta 0:00:01\r\u001b[K     |██████▏                         | 317 kB 13.0 MB/s eta 0:00:01\r\u001b[K     |██████▍                         | 327 kB 13.0 MB/s eta 0:00:01\r\u001b[K     |██████▌                         | 337 kB 13.0 MB/s eta 0:00:01\r\u001b[K     |██████▊                         | 348 kB 13.0 MB/s eta 0:00:01\r\u001b[K     |███████                         | 358 kB 13.0 MB/s eta 0:00:01\r\u001b[K     |███████▏                        | 368 kB 13.0 MB/s eta 0:00:01\r\u001b[K     |███████▎                        | 378 kB 13.0 MB/s eta 0:00:01\r\u001b[K     |███████▌                        | 389 kB 13.0 MB/s eta 0:00:01\r\u001b[K     |███████▊                        | 399 kB 13.0 MB/s eta 0:00:01\r\u001b[K     |████████                        | 409 kB 13.0 MB/s eta 0:00:01\r\u001b[K     |████████▏                       | 419 kB 13.0 MB/s eta 0:00:01\r\u001b[K     |████████▎                       | 430 kB 13.0 MB/s eta 0:00:01\r\u001b[K     |████████▌                       | 440 kB 13.0 MB/s eta 0:00:01\r\u001b[K     |████████▊                       | 450 kB 13.0 MB/s eta 0:00:01\r\u001b[K     |█████████                       | 460 kB 13.0 MB/s eta 0:00:01\r\u001b[K     |█████████▏                      | 471 kB 13.0 MB/s eta 0:00:01\r\u001b[K     |█████████▎                      | 481 kB 13.0 MB/s eta 0:00:01\r\u001b[K     |█████████▌                      | 491 kB 13.0 MB/s eta 0:00:01\r\u001b[K     |█████████▊                      | 501 kB 13.0 MB/s eta 0:00:01\r\u001b[K     |██████████                      | 512 kB 13.0 MB/s eta 0:00:01\r\u001b[K     |██████████                      | 522 kB 13.0 MB/s eta 0:00:01\r\u001b[K     |██████████▎                     | 532 kB 13.0 MB/s eta 0:00:01\r\u001b[K     |██████████▌                     | 542 kB 13.0 MB/s eta 0:00:01\r\u001b[K     |██████████▊                     | 552 kB 13.0 MB/s eta 0:00:01\r\u001b[K     |███████████                     | 563 kB 13.0 MB/s eta 0:00:01\r\u001b[K     |███████████                     | 573 kB 13.0 MB/s eta 0:00:01\r\u001b[K     |███████████▎                    | 583 kB 13.0 MB/s eta 0:00:01\r\u001b[K     |███████████▌                    | 593 kB 13.0 MB/s eta 0:00:01\r\u001b[K     |███████████▊                    | 604 kB 13.0 MB/s eta 0:00:01\r\u001b[K     |███████████▉                    | 614 kB 13.0 MB/s eta 0:00:01\r\u001b[K     |████████████                    | 624 kB 13.0 MB/s eta 0:00:01\r\u001b[K     |████████████▎                   | 634 kB 13.0 MB/s eta 0:00:01\r\u001b[K     |████████████▌                   | 645 kB 13.0 MB/s eta 0:00:01\r\u001b[K     |████████████▊                   | 655 kB 13.0 MB/s eta 0:00:01\r\u001b[K     |████████████▉                   | 665 kB 13.0 MB/s eta 0:00:01\r\u001b[K     |█████████████                   | 675 kB 13.0 MB/s eta 0:00:01\r\u001b[K     |█████████████▎                  | 686 kB 13.0 MB/s eta 0:00:01\r\u001b[K     |█████████████▌                  | 696 kB 13.0 MB/s eta 0:00:01\r\u001b[K     |█████████████▊                  | 706 kB 13.0 MB/s eta 0:00:01\r\u001b[K     |█████████████▉                  | 716 kB 13.0 MB/s eta 0:00:01\r\u001b[K     |██████████████                  | 727 kB 13.0 MB/s eta 0:00:01\r\u001b[K     |██████████████▎                 | 737 kB 13.0 MB/s eta 0:00:01\r\u001b[K     |██████████████▌                 | 747 kB 13.0 MB/s eta 0:00:01\r\u001b[K     |██████████████▋                 | 757 kB 13.0 MB/s eta 0:00:01\r\u001b[K     |██████████████▉                 | 768 kB 13.0 MB/s eta 0:00:01\r\u001b[K     |███████████████                 | 778 kB 13.0 MB/s eta 0:00:01\r\u001b[K     |███████████████▎                | 788 kB 13.0 MB/s eta 0:00:01\r\u001b[K     |███████████████▌                | 798 kB 13.0 MB/s eta 0:00:01\r\u001b[K     |███████████████▋                | 808 kB 13.0 MB/s eta 0:00:01\r\u001b[K     |███████████████▉                | 819 kB 13.0 MB/s eta 0:00:01\r\u001b[K     |████████████████                | 829 kB 13.0 MB/s eta 0:00:01\r\u001b[K     |████████████████▎               | 839 kB 13.0 MB/s eta 0:00:01\r\u001b[K     |████████████████▍               | 849 kB 13.0 MB/s eta 0:00:01\r\u001b[K     |████████████████▋               | 860 kB 13.0 MB/s eta 0:00:01\r\u001b[K     |████████████████▉               | 870 kB 13.0 MB/s eta 0:00:01\r\u001b[K     |█████████████████               | 880 kB 13.0 MB/s eta 0:00:01\r\u001b[K     |█████████████████▎              | 890 kB 13.0 MB/s eta 0:00:01\r\u001b[K     |█████████████████▍              | 901 kB 13.0 MB/s eta 0:00:01\r\u001b[K     |█████████████████▋              | 911 kB 13.0 MB/s eta 0:00:01\r\u001b[K     |█████████████████▉              | 921 kB 13.0 MB/s eta 0:00:01\r\u001b[K     |██████████████████              | 931 kB 13.0 MB/s eta 0:00:01\r\u001b[K     |██████████████████▎             | 942 kB 13.0 MB/s eta 0:00:01\r\u001b[K     |██████████████████▍             | 952 kB 13.0 MB/s eta 0:00:01\r\u001b[K     |██████████████████▋             | 962 kB 13.0 MB/s eta 0:00:01\r\u001b[K     |██████████████████▉             | 972 kB 13.0 MB/s eta 0:00:01\r\u001b[K     |███████████████████             | 983 kB 13.0 MB/s eta 0:00:01\r\u001b[K     |███████████████████▏            | 993 kB 13.0 MB/s eta 0:00:01\r\u001b[K     |███████████████████▍            | 1.0 MB 13.0 MB/s eta 0:00:01\r\u001b[K     |███████████████████▋            | 1.0 MB 13.0 MB/s eta 0:00:01\r\u001b[K     |███████████████████▉            | 1.0 MB 13.0 MB/s eta 0:00:01\r\u001b[K     |████████████████████            | 1.0 MB 13.0 MB/s eta 0:00:01\r\u001b[K     |████████████████████▏           | 1.0 MB 13.0 MB/s eta 0:00:01\r\u001b[K     |████████████████████▍           | 1.1 MB 13.0 MB/s eta 0:00:01\r\u001b[K     |████████████████████▋           | 1.1 MB 13.0 MB/s eta 0:00:01\r\u001b[K     |████████████████████▉           | 1.1 MB 13.0 MB/s eta 0:00:01\r\u001b[K     |█████████████████████           | 1.1 MB 13.0 MB/s eta 0:00:01\r\u001b[K     |█████████████████████▏          | 1.1 MB 13.0 MB/s eta 0:00:01\r\u001b[K     |█████████████████████▍          | 1.1 MB 13.0 MB/s eta 0:00:01\r\u001b[K     |█████████████████████▋          | 1.1 MB 13.0 MB/s eta 0:00:01\r\u001b[K     |█████████████████████▉          | 1.1 MB 13.0 MB/s eta 0:00:01\r\u001b[K     |██████████████████████          | 1.1 MB 13.0 MB/s eta 0:00:01\r\u001b[K     |██████████████████████▏         | 1.1 MB 13.0 MB/s eta 0:00:01\r\u001b[K     |██████████████████████▍         | 1.2 MB 13.0 MB/s eta 0:00:01\r\u001b[K     |██████████████████████▋         | 1.2 MB 13.0 MB/s eta 0:00:01\r\u001b[K     |██████████████████████▉         | 1.2 MB 13.0 MB/s eta 0:00:01\r\u001b[K     |███████████████████████         | 1.2 MB 13.0 MB/s eta 0:00:01\r\u001b[K     |███████████████████████▏        | 1.2 MB 13.0 MB/s eta 0:00:01\r\u001b[K     |███████████████████████▍        | 1.2 MB 13.0 MB/s eta 0:00:01\r\u001b[K     |███████████████████████▋        | 1.2 MB 13.0 MB/s eta 0:00:01\r\u001b[K     |███████████████████████▊        | 1.2 MB 13.0 MB/s eta 0:00:01\r\u001b[K     |████████████████████████        | 1.2 MB 13.0 MB/s eta 0:00:01\r\u001b[K     |████████████████████████▏       | 1.2 MB 13.0 MB/s eta 0:00:01\r\u001b[K     |████████████████████████▍       | 1.3 MB 13.0 MB/s eta 0:00:01\r\u001b[K     |████████████████████████▋       | 1.3 MB 13.0 MB/s eta 0:00:01\r\u001b[K     |████████████████████████▊       | 1.3 MB 13.0 MB/s eta 0:00:01\r\u001b[K     |█████████████████████████       | 1.3 MB 13.0 MB/s eta 0:00:01\r\u001b[K     |█████████████████████████▏      | 1.3 MB 13.0 MB/s eta 0:00:01\r\u001b[K     |█████████████████████████▍      | 1.3 MB 13.0 MB/s eta 0:00:01\r\u001b[K     |█████████████████████████▌      | 1.3 MB 13.0 MB/s eta 0:00:01\r\u001b[K     |█████████████████████████▊      | 1.3 MB 13.0 MB/s eta 0:00:01\r\u001b[K     |██████████████████████████      | 1.3 MB 13.0 MB/s eta 0:00:01\r\u001b[K     |██████████████████████████▏     | 1.4 MB 13.0 MB/s eta 0:00:01\r\u001b[K     |██████████████████████████▍     | 1.4 MB 13.0 MB/s eta 0:00:01\r\u001b[K     |██████████████████████████▌     | 1.4 MB 13.0 MB/s eta 0:00:01\r\u001b[K     |██████████████████████████▊     | 1.4 MB 13.0 MB/s eta 0:00:01\r\u001b[K     |███████████████████████████     | 1.4 MB 13.0 MB/s eta 0:00:01\r\u001b[K     |███████████████████████████▏    | 1.4 MB 13.0 MB/s eta 0:00:01\r\u001b[K     |███████████████████████████▍    | 1.4 MB 13.0 MB/s eta 0:00:01\r\u001b[K     |███████████████████████████▌    | 1.4 MB 13.0 MB/s eta 0:00:01\r\u001b[K     |███████████████████████████▊    | 1.4 MB 13.0 MB/s eta 0:00:01\r\u001b[K     |████████████████████████████    | 1.4 MB 13.0 MB/s eta 0:00:01\r\u001b[K     |████████████████████████████▏   | 1.5 MB 13.0 MB/s eta 0:00:01\r\u001b[K     |████████████████████████████▎   | 1.5 MB 13.0 MB/s eta 0:00:01\r\u001b[K     |████████████████████████████▌   | 1.5 MB 13.0 MB/s eta 0:00:01\r\u001b[K     |████████████████████████████▊   | 1.5 MB 13.0 MB/s eta 0:00:01\r\u001b[K     |█████████████████████████████   | 1.5 MB 13.0 MB/s eta 0:00:01\r\u001b[K     |█████████████████████████████▏  | 1.5 MB 13.0 MB/s eta 0:00:01\r\u001b[K     |█████████████████████████████▎  | 1.5 MB 13.0 MB/s eta 0:00:01\r\u001b[K     |█████████████████████████████▌  | 1.5 MB 13.0 MB/s eta 0:00:01\r\u001b[K     |█████████████████████████████▊  | 1.5 MB 13.0 MB/s eta 0:00:01\r\u001b[K     |██████████████████████████████  | 1.5 MB 13.0 MB/s eta 0:00:01\r\u001b[K     |██████████████████████████████▏ | 1.6 MB 13.0 MB/s eta 0:00:01\r\u001b[K     |██████████████████████████████▎ | 1.6 MB 13.0 MB/s eta 0:00:01\r\u001b[K     |██████████████████████████████▌ | 1.6 MB 13.0 MB/s eta 0:00:01\r\u001b[K     |██████████████████████████████▊ | 1.6 MB 13.0 MB/s eta 0:00:01\r\u001b[K     |███████████████████████████████ | 1.6 MB 13.0 MB/s eta 0:00:01\r\u001b[K     |███████████████████████████████ | 1.6 MB 13.0 MB/s eta 0:00:01\r\u001b[K     |███████████████████████████████▎| 1.6 MB 13.0 MB/s eta 0:00:01\r\u001b[K     |███████████████████████████████▌| 1.6 MB 13.0 MB/s eta 0:00:01\r\u001b[K     |███████████████████████████████▊| 1.6 MB 13.0 MB/s eta 0:00:01\r\u001b[K     |████████████████████████████████| 1.6 MB 13.0 MB/s eta 0:00:01\r\u001b[K     |████████████████████████████████| 1.7 MB 13.0 MB/s \n",
            "\u001b[?25h  Installing build dependencies ... \u001b[?25l\u001b[?25hdone\n",
            "  Getting requirements to build wheel ... \u001b[?25l\u001b[?25hdone\n",
            "  Installing backend dependencies ... \u001b[?25l\u001b[?25hdone\n",
            "    Preparing wheel metadata ... \u001b[?25l\u001b[?25hdone\n",
            "Requirement already satisfied: scipy in /usr/local/lib/python3.7/dist-packages (from pyLDAvis) (1.4.1)\n",
            "Requirement already satisfied: gensim in /usr/local/lib/python3.7/dist-packages (from pyLDAvis) (3.6.0)\n",
            "Requirement already satisfied: jinja2 in /usr/local/lib/python3.7/dist-packages (from pyLDAvis) (2.11.3)\n",
            "Requirement already satisfied: pandas>=1.2.0 in /usr/local/lib/python3.7/dist-packages (from pyLDAvis) (1.3.5)\n",
            "Requirement already satisfied: setuptools in /usr/local/lib/python3.7/dist-packages (from pyLDAvis) (57.4.0)\n",
            "Requirement already satisfied: numexpr in /usr/local/lib/python3.7/dist-packages (from pyLDAvis) (2.8.1)\n",
            "Requirement already satisfied: numpy>=1.20.0 in /usr/local/lib/python3.7/dist-packages (from pyLDAvis) (1.21.5)\n",
            "Requirement already satisfied: scikit-learn in /usr/local/lib/python3.7/dist-packages (from pyLDAvis) (1.0.2)\n",
            "Requirement already satisfied: joblib in /usr/local/lib/python3.7/dist-packages (from pyLDAvis) (1.1.0)\n",
            "Requirement already satisfied: future in /usr/local/lib/python3.7/dist-packages (from pyLDAvis) (0.16.0)\n",
            "Requirement already satisfied: sklearn in /usr/local/lib/python3.7/dist-packages (from pyLDAvis) (0.0)\n",
            "Collecting funcy\n",
            "  Downloading funcy-1.17-py2.py3-none-any.whl (33 kB)\n",
            "Requirement already satisfied: python-dateutil>=2.7.3 in /usr/local/lib/python3.7/dist-packages (from pandas>=1.2.0->pyLDAvis) (2.8.2)\n",
            "Requirement already satisfied: pytz>=2017.3 in /usr/local/lib/python3.7/dist-packages (from pandas>=1.2.0->pyLDAvis) (2018.9)\n",
            "Requirement already satisfied: six>=1.5 in /usr/local/lib/python3.7/dist-packages (from python-dateutil>=2.7.3->pandas>=1.2.0->pyLDAvis) (1.15.0)\n",
            "Requirement already satisfied: smart-open>=1.2.1 in /usr/local/lib/python3.7/dist-packages (from gensim->pyLDAvis) (5.2.1)\n",
            "Requirement already satisfied: MarkupSafe>=0.23 in /usr/local/lib/python3.7/dist-packages (from jinja2->pyLDAvis) (2.0.1)\n",
            "Requirement already satisfied: packaging in /usr/local/lib/python3.7/dist-packages (from numexpr->pyLDAvis) (21.3)\n",
            "Requirement already satisfied: pyparsing!=3.0.5,>=2.0.2 in /usr/local/lib/python3.7/dist-packages (from packaging->numexpr->pyLDAvis) (3.0.7)\n",
            "Requirement already satisfied: threadpoolctl>=2.0.0 in /usr/local/lib/python3.7/dist-packages (from scikit-learn->pyLDAvis) (3.1.0)\n",
            "Building wheels for collected packages: pyLDAvis\n",
            "  Building wheel for pyLDAvis (PEP 517) ... \u001b[?25l\u001b[?25hdone\n",
            "  Created wheel for pyLDAvis: filename=pyLDAvis-3.3.1-py2.py3-none-any.whl size=136898 sha256=eae395d53e2dbc636382914305ead21748a8bf706500f22f9e48d278b8eca655\n",
            "  Stored in directory: /root/.cache/pip/wheels/c9/21/f6/17bcf2667e8a68532ba2fbf6d5c72fdf4c7f7d9abfa4852d2f\n",
            "Successfully built pyLDAvis\n",
            "Installing collected packages: funcy, pyLDAvis\n",
            "Successfully installed funcy-1.17 pyLDAvis-3.3.1\n"
          ]
        }
      ]
    },
    {
      "cell_type": "code",
      "metadata": {
        "id": "DelYAveq8yuX",
        "outputId": "14e8a6e4-2a69-42f5-9a44-58b59de43168",
        "colab": {
          "base_uri": "https://localhost:8080/"
        }
      },
      "source": [
        "%%time\n",
        "\n",
        "# importando as demais bibliotecas\n",
        "import pandas as pd # manipulação de dataframes\n",
        "import string # manipulação de strings do python\n",
        "#import spacy # processamento de liguagem natural\n",
        "import random # geração de números randomicos\n",
        "import seaborn as sns # visulaização de gráficos\n",
        "import matplotlib.pyplot as plt #  visulaização de gráficos\n",
        "import numpy as np # processamento de matrizes e vetores\n",
        "import re # regex\n",
        "from sklearn.model_selection import train_test_split #\n",
        "from sklearn.metrics import confusion_matrix, accuracy_score, roc_auc_score, plot_confusion_matrix, plot_roc_curve #metricas de classificação"
      ],
      "execution_count": null,
      "outputs": [
        {
          "output_type": "stream",
          "name": "stdout",
          "text": [
            "CPU times: user 2.62 ms, sys: 2.17 ms, total: 4.79 ms\n",
            "Wall time: 4.77 ms\n"
          ]
        }
      ]
    },
    {
      "cell_type": "markdown",
      "metadata": {
        "id": "iE3VMD8t86ky"
      },
      "source": [
        "# Etapa 2: Carga das dados"
      ]
    },
    {
      "cell_type": "code",
      "metadata": {
        "id": "jqsZesTIj1D1"
      },
      "source": [
        "url = 'https://raw.githubusercontent.com/DeepFluxion/Sentiment_Analisy_NLP_Stuff-/main/data/Train100.csv' # endereço dos dados no github\n",
        "base_dados = pd.read_csv(url, delimiter=';') # importando os dados"
      ],
      "execution_count": null,
      "outputs": []
    },
    {
      "cell_type": "code",
      "source": [
        "base_dados.shape # verificando dimensões da base"
      ],
      "metadata": {
        "id": "BwsJLmkhT5sl",
        "outputId": "685e9a9e-e92c-4482-8988-e4b1543a0b61",
        "colab": {
          "base_uri": "https://localhost:8080/"
        }
      },
      "execution_count": null,
      "outputs": [
        {
          "output_type": "execute_result",
          "data": {
            "text/plain": [
              "(100000, 5)"
            ]
          },
          "metadata": {},
          "execution_count": 13
        }
      ]
    },
    {
      "cell_type": "code",
      "metadata": {
        "id": "kkNNr-fokG5Z",
        "colab": {
          "base_uri": "https://localhost:8080/",
          "height": 206
        },
        "outputId": "93b9587e-74c7-4d3d-a7b6-2de18b6ef9e3"
      },
      "source": [
        "base_dados.head() # visualizando os 5 primeiros registros"
      ],
      "execution_count": null,
      "outputs": [
        {
          "output_type": "execute_result",
          "data": {
            "text/plain": [
              "                    id                                         tweet_text  \\\n",
              "0  1038907387523022848                      FAV e falo de vocês por dm :)   \n",
              "1  1038907373010804737  @lalenes_ O bom de lembrar é pra não repetir, ...   \n",
              "2  1038907372679389185    vamos porquinhos !!! :D https://t.co/UFwKt1dCxe   \n",
              "3  1038907369353355265  Tenho raiva de vc por vc ser tão linda, eu me ...   \n",
              "4  1038907325107634177            @Daniel_Albino Eu disse espectacular :)   \n",
              "\n",
              "                       tweet_date  sentiment query_used  \n",
              "0  Sun Sep 09 21:49:57 +0000 2018          1         :)  \n",
              "1  Sun Sep 09 21:49:54 +0000 2018          1         :)  \n",
              "2  Sun Sep 09 21:49:54 +0000 2018          1         :)  \n",
              "3  Sun Sep 09 21:49:53 +0000 2018          1         :)  \n",
              "4  Sun Sep 09 21:49:42 +0000 2018          1         :)  "
            ],
            "text/html": [
              "\n",
              "  <div id=\"df-29c7e2b8-1af8-44c9-afc2-bc9d15cca07e\">\n",
              "    <div class=\"colab-df-container\">\n",
              "      <div>\n",
              "<style scoped>\n",
              "    .dataframe tbody tr th:only-of-type {\n",
              "        vertical-align: middle;\n",
              "    }\n",
              "\n",
              "    .dataframe tbody tr th {\n",
              "        vertical-align: top;\n",
              "    }\n",
              "\n",
              "    .dataframe thead th {\n",
              "        text-align: right;\n",
              "    }\n",
              "</style>\n",
              "<table border=\"1\" class=\"dataframe\">\n",
              "  <thead>\n",
              "    <tr style=\"text-align: right;\">\n",
              "      <th></th>\n",
              "      <th>id</th>\n",
              "      <th>tweet_text</th>\n",
              "      <th>tweet_date</th>\n",
              "      <th>sentiment</th>\n",
              "      <th>query_used</th>\n",
              "    </tr>\n",
              "  </thead>\n",
              "  <tbody>\n",
              "    <tr>\n",
              "      <th>0</th>\n",
              "      <td>1038907387523022848</td>\n",
              "      <td>FAV e falo de vocês por dm :)</td>\n",
              "      <td>Sun Sep 09 21:49:57 +0000 2018</td>\n",
              "      <td>1</td>\n",
              "      <td>:)</td>\n",
              "    </tr>\n",
              "    <tr>\n",
              "      <th>1</th>\n",
              "      <td>1038907373010804737</td>\n",
              "      <td>@lalenes_ O bom de lembrar é pra não repetir, ...</td>\n",
              "      <td>Sun Sep 09 21:49:54 +0000 2018</td>\n",
              "      <td>1</td>\n",
              "      <td>:)</td>\n",
              "    </tr>\n",
              "    <tr>\n",
              "      <th>2</th>\n",
              "      <td>1038907372679389185</td>\n",
              "      <td>vamos porquinhos !!! :D https://t.co/UFwKt1dCxe</td>\n",
              "      <td>Sun Sep 09 21:49:54 +0000 2018</td>\n",
              "      <td>1</td>\n",
              "      <td>:)</td>\n",
              "    </tr>\n",
              "    <tr>\n",
              "      <th>3</th>\n",
              "      <td>1038907369353355265</td>\n",
              "      <td>Tenho raiva de vc por vc ser tão linda, eu me ...</td>\n",
              "      <td>Sun Sep 09 21:49:53 +0000 2018</td>\n",
              "      <td>1</td>\n",
              "      <td>:)</td>\n",
              "    </tr>\n",
              "    <tr>\n",
              "      <th>4</th>\n",
              "      <td>1038907325107634177</td>\n",
              "      <td>@Daniel_Albino Eu disse espectacular :)</td>\n",
              "      <td>Sun Sep 09 21:49:42 +0000 2018</td>\n",
              "      <td>1</td>\n",
              "      <td>:)</td>\n",
              "    </tr>\n",
              "  </tbody>\n",
              "</table>\n",
              "</div>\n",
              "      <button class=\"colab-df-convert\" onclick=\"convertToInteractive('df-29c7e2b8-1af8-44c9-afc2-bc9d15cca07e')\"\n",
              "              title=\"Convert this dataframe to an interactive table.\"\n",
              "              style=\"display:none;\">\n",
              "        \n",
              "  <svg xmlns=\"http://www.w3.org/2000/svg\" height=\"24px\"viewBox=\"0 0 24 24\"\n",
              "       width=\"24px\">\n",
              "    <path d=\"M0 0h24v24H0V0z\" fill=\"none\"/>\n",
              "    <path d=\"M18.56 5.44l.94 2.06.94-2.06 2.06-.94-2.06-.94-.94-2.06-.94 2.06-2.06.94zm-11 1L8.5 8.5l.94-2.06 2.06-.94-2.06-.94L8.5 2.5l-.94 2.06-2.06.94zm10 10l.94 2.06.94-2.06 2.06-.94-2.06-.94-.94-2.06-.94 2.06-2.06.94z\"/><path d=\"M17.41 7.96l-1.37-1.37c-.4-.4-.92-.59-1.43-.59-.52 0-1.04.2-1.43.59L10.3 9.45l-7.72 7.72c-.78.78-.78 2.05 0 2.83L4 21.41c.39.39.9.59 1.41.59.51 0 1.02-.2 1.41-.59l7.78-7.78 2.81-2.81c.8-.78.8-2.07 0-2.86zM5.41 20L4 18.59l7.72-7.72 1.47 1.35L5.41 20z\"/>\n",
              "  </svg>\n",
              "      </button>\n",
              "      \n",
              "  <style>\n",
              "    .colab-df-container {\n",
              "      display:flex;\n",
              "      flex-wrap:wrap;\n",
              "      gap: 12px;\n",
              "    }\n",
              "\n",
              "    .colab-df-convert {\n",
              "      background-color: #E8F0FE;\n",
              "      border: none;\n",
              "      border-radius: 50%;\n",
              "      cursor: pointer;\n",
              "      display: none;\n",
              "      fill: #1967D2;\n",
              "      height: 32px;\n",
              "      padding: 0 0 0 0;\n",
              "      width: 32px;\n",
              "    }\n",
              "\n",
              "    .colab-df-convert:hover {\n",
              "      background-color: #E2EBFA;\n",
              "      box-shadow: 0px 1px 2px rgba(60, 64, 67, 0.3), 0px 1px 3px 1px rgba(60, 64, 67, 0.15);\n",
              "      fill: #174EA6;\n",
              "    }\n",
              "\n",
              "    [theme=dark] .colab-df-convert {\n",
              "      background-color: #3B4455;\n",
              "      fill: #D2E3FC;\n",
              "    }\n",
              "\n",
              "    [theme=dark] .colab-df-convert:hover {\n",
              "      background-color: #434B5C;\n",
              "      box-shadow: 0px 1px 3px 1px rgba(0, 0, 0, 0.15);\n",
              "      filter: drop-shadow(0px 1px 2px rgba(0, 0, 0, 0.3));\n",
              "      fill: #FFFFFF;\n",
              "    }\n",
              "  </style>\n",
              "\n",
              "      <script>\n",
              "        const buttonEl =\n",
              "          document.querySelector('#df-29c7e2b8-1af8-44c9-afc2-bc9d15cca07e button.colab-df-convert');\n",
              "        buttonEl.style.display =\n",
              "          google.colab.kernel.accessAllowed ? 'block' : 'none';\n",
              "\n",
              "        async function convertToInteractive(key) {\n",
              "          const element = document.querySelector('#df-29c7e2b8-1af8-44c9-afc2-bc9d15cca07e');\n",
              "          const dataTable =\n",
              "            await google.colab.kernel.invokeFunction('convertToInteractive',\n",
              "                                                     [key], {});\n",
              "          if (!dataTable) return;\n",
              "\n",
              "          const docLinkHtml = 'Like what you see? Visit the ' +\n",
              "            '<a target=\"_blank\" href=https://colab.research.google.com/notebooks/data_table.ipynb>data table notebook</a>'\n",
              "            + ' to learn more about interactive tables.';\n",
              "          element.innerHTML = '';\n",
              "          dataTable['output_type'] = 'display_data';\n",
              "          await google.colab.output.renderOutput(dataTable, element);\n",
              "          const docLink = document.createElement('div');\n",
              "          docLink.innerHTML = docLinkHtml;\n",
              "          element.appendChild(docLink);\n",
              "        }\n",
              "      </script>\n",
              "    </div>\n",
              "  </div>\n",
              "  "
            ]
          },
          "metadata": {},
          "execution_count": 14
        }
      ]
    },
    {
      "cell_type": "code",
      "metadata": {
        "id": "xFrzQLCckhEW",
        "colab": {
          "base_uri": "https://localhost:8080/",
          "height": 206
        },
        "outputId": "0ae62583-6245-4e0d-a8ec-8b15e72d4b09"
      },
      "source": [
        "base_dados.tail() # visualizando os 5 ultimos registros"
      ],
      "execution_count": null,
      "outputs": [
        {
          "output_type": "execute_result",
          "data": {
            "text/plain": [
              "                        id                                         tweet_text  \\\n",
              "99995  1037845711541477376                              @CcPc___ Sou pois :((   \n",
              "99996  1037845711273029632  assistindo o streamer que eu gosto jogando o j...   \n",
              "99997  1037845707795906563  uma amiga minha se declarou p mim toda bonita ...   \n",
              "99998  1037845705409417217                          @chriszillla Eu também :(   \n",
              "99999  1037845704411160578  Curtia mm de ir ao cinema antes das aulas come...   \n",
              "\n",
              "                           tweet_date  sentiment query_used  \n",
              "99995  Thu Sep 06 23:31:14 +0000 2018          0         :(  \n",
              "99996  Thu Sep 06 23:31:14 +0000 2018          0         :(  \n",
              "99997  Thu Sep 06 23:31:13 +0000 2018          0         :(  \n",
              "99998  Thu Sep 06 23:31:13 +0000 2018          0         :(  \n",
              "99999  Thu Sep 06 23:31:12 +0000 2018          0         :(  "
            ],
            "text/html": [
              "\n",
              "  <div id=\"df-d7987c86-b037-416f-9b69-7e15e4370da8\">\n",
              "    <div class=\"colab-df-container\">\n",
              "      <div>\n",
              "<style scoped>\n",
              "    .dataframe tbody tr th:only-of-type {\n",
              "        vertical-align: middle;\n",
              "    }\n",
              "\n",
              "    .dataframe tbody tr th {\n",
              "        vertical-align: top;\n",
              "    }\n",
              "\n",
              "    .dataframe thead th {\n",
              "        text-align: right;\n",
              "    }\n",
              "</style>\n",
              "<table border=\"1\" class=\"dataframe\">\n",
              "  <thead>\n",
              "    <tr style=\"text-align: right;\">\n",
              "      <th></th>\n",
              "      <th>id</th>\n",
              "      <th>tweet_text</th>\n",
              "      <th>tweet_date</th>\n",
              "      <th>sentiment</th>\n",
              "      <th>query_used</th>\n",
              "    </tr>\n",
              "  </thead>\n",
              "  <tbody>\n",
              "    <tr>\n",
              "      <th>99995</th>\n",
              "      <td>1037845711541477376</td>\n",
              "      <td>@CcPc___ Sou pois :((</td>\n",
              "      <td>Thu Sep 06 23:31:14 +0000 2018</td>\n",
              "      <td>0</td>\n",
              "      <td>:(</td>\n",
              "    </tr>\n",
              "    <tr>\n",
              "      <th>99996</th>\n",
              "      <td>1037845711273029632</td>\n",
              "      <td>assistindo o streamer que eu gosto jogando o j...</td>\n",
              "      <td>Thu Sep 06 23:31:14 +0000 2018</td>\n",
              "      <td>0</td>\n",
              "      <td>:(</td>\n",
              "    </tr>\n",
              "    <tr>\n",
              "      <th>99997</th>\n",
              "      <td>1037845707795906563</td>\n",
              "      <td>uma amiga minha se declarou p mim toda bonita ...</td>\n",
              "      <td>Thu Sep 06 23:31:13 +0000 2018</td>\n",
              "      <td>0</td>\n",
              "      <td>:(</td>\n",
              "    </tr>\n",
              "    <tr>\n",
              "      <th>99998</th>\n",
              "      <td>1037845705409417217</td>\n",
              "      <td>@chriszillla Eu também :(</td>\n",
              "      <td>Thu Sep 06 23:31:13 +0000 2018</td>\n",
              "      <td>0</td>\n",
              "      <td>:(</td>\n",
              "    </tr>\n",
              "    <tr>\n",
              "      <th>99999</th>\n",
              "      <td>1037845704411160578</td>\n",
              "      <td>Curtia mm de ir ao cinema antes das aulas come...</td>\n",
              "      <td>Thu Sep 06 23:31:12 +0000 2018</td>\n",
              "      <td>0</td>\n",
              "      <td>:(</td>\n",
              "    </tr>\n",
              "  </tbody>\n",
              "</table>\n",
              "</div>\n",
              "      <button class=\"colab-df-convert\" onclick=\"convertToInteractive('df-d7987c86-b037-416f-9b69-7e15e4370da8')\"\n",
              "              title=\"Convert this dataframe to an interactive table.\"\n",
              "              style=\"display:none;\">\n",
              "        \n",
              "  <svg xmlns=\"http://www.w3.org/2000/svg\" height=\"24px\"viewBox=\"0 0 24 24\"\n",
              "       width=\"24px\">\n",
              "    <path d=\"M0 0h24v24H0V0z\" fill=\"none\"/>\n",
              "    <path d=\"M18.56 5.44l.94 2.06.94-2.06 2.06-.94-2.06-.94-.94-2.06-.94 2.06-2.06.94zm-11 1L8.5 8.5l.94-2.06 2.06-.94-2.06-.94L8.5 2.5l-.94 2.06-2.06.94zm10 10l.94 2.06.94-2.06 2.06-.94-2.06-.94-.94-2.06-.94 2.06-2.06.94z\"/><path d=\"M17.41 7.96l-1.37-1.37c-.4-.4-.92-.59-1.43-.59-.52 0-1.04.2-1.43.59L10.3 9.45l-7.72 7.72c-.78.78-.78 2.05 0 2.83L4 21.41c.39.39.9.59 1.41.59.51 0 1.02-.2 1.41-.59l7.78-7.78 2.81-2.81c.8-.78.8-2.07 0-2.86zM5.41 20L4 18.59l7.72-7.72 1.47 1.35L5.41 20z\"/>\n",
              "  </svg>\n",
              "      </button>\n",
              "      \n",
              "  <style>\n",
              "    .colab-df-container {\n",
              "      display:flex;\n",
              "      flex-wrap:wrap;\n",
              "      gap: 12px;\n",
              "    }\n",
              "\n",
              "    .colab-df-convert {\n",
              "      background-color: #E8F0FE;\n",
              "      border: none;\n",
              "      border-radius: 50%;\n",
              "      cursor: pointer;\n",
              "      display: none;\n",
              "      fill: #1967D2;\n",
              "      height: 32px;\n",
              "      padding: 0 0 0 0;\n",
              "      width: 32px;\n",
              "    }\n",
              "\n",
              "    .colab-df-convert:hover {\n",
              "      background-color: #E2EBFA;\n",
              "      box-shadow: 0px 1px 2px rgba(60, 64, 67, 0.3), 0px 1px 3px 1px rgba(60, 64, 67, 0.15);\n",
              "      fill: #174EA6;\n",
              "    }\n",
              "\n",
              "    [theme=dark] .colab-df-convert {\n",
              "      background-color: #3B4455;\n",
              "      fill: #D2E3FC;\n",
              "    }\n",
              "\n",
              "    [theme=dark] .colab-df-convert:hover {\n",
              "      background-color: #434B5C;\n",
              "      box-shadow: 0px 1px 3px 1px rgba(0, 0, 0, 0.15);\n",
              "      filter: drop-shadow(0px 1px 2px rgba(0, 0, 0, 0.3));\n",
              "      fill: #FFFFFF;\n",
              "    }\n",
              "  </style>\n",
              "\n",
              "      <script>\n",
              "        const buttonEl =\n",
              "          document.querySelector('#df-d7987c86-b037-416f-9b69-7e15e4370da8 button.colab-df-convert');\n",
              "        buttonEl.style.display =\n",
              "          google.colab.kernel.accessAllowed ? 'block' : 'none';\n",
              "\n",
              "        async function convertToInteractive(key) {\n",
              "          const element = document.querySelector('#df-d7987c86-b037-416f-9b69-7e15e4370da8');\n",
              "          const dataTable =\n",
              "            await google.colab.kernel.invokeFunction('convertToInteractive',\n",
              "                                                     [key], {});\n",
              "          if (!dataTable) return;\n",
              "\n",
              "          const docLinkHtml = 'Like what you see? Visit the ' +\n",
              "            '<a target=\"_blank\" href=https://colab.research.google.com/notebooks/data_table.ipynb>data table notebook</a>'\n",
              "            + ' to learn more about interactive tables.';\n",
              "          element.innerHTML = '';\n",
              "          dataTable['output_type'] = 'display_data';\n",
              "          await google.colab.output.renderOutput(dataTable, element);\n",
              "          const docLink = document.createElement('div');\n",
              "          docLink.innerHTML = docLinkHtml;\n",
              "          element.appendChild(docLink);\n",
              "        }\n",
              "      </script>\n",
              "    </div>\n",
              "  </div>\n",
              "  "
            ]
          },
          "metadata": {},
          "execution_count": 15
        }
      ]
    },
    {
      "cell_type": "code",
      "metadata": {
        "id": "IVVwuPGhkm5h",
        "colab": {
          "base_uri": "https://localhost:8080/",
          "height": 334
        },
        "outputId": "679cda60-9a35-4fed-8bf6-a0756a5acc9d"
      },
      "source": [
        "sns.countplot(base_dados['sentiment'], label = 'Contagem'); # visualizando a quantidade de dados conforme sentimento"
      ],
      "execution_count": null,
      "outputs": [
        {
          "output_type": "stream",
          "name": "stderr",
          "text": [
            "/usr/local/lib/python3.7/dist-packages/seaborn/_decorators.py:43: FutureWarning: Pass the following variable as a keyword arg: x. From version 0.12, the only valid positional argument will be `data`, and passing other arguments without an explicit keyword will result in an error or misinterpretation.\n",
            "  FutureWarning\n"
          ]
        },
        {
          "output_type": "display_data",
          "data": {
            "text/plain": [
              "<Figure size 432x288 with 1 Axes>"
            ],
            "image/png": "[encoded data removed]"
          },
          "metadata": {
            "needs_background": "light"
          }
        }
      ]
    },
    {
      "cell_type": "code",
      "metadata": {
        "id": "-xTh-gqelMWn"
      },
      "source": [
        "base_dados.drop(['id', 'tweet_date', 'query_used'], axis = 1, inplace=True) # Eliminado daos que não serão usado por enquanto"
      ],
      "execution_count": null,
      "outputs": []
    },
    {
      "cell_type": "code",
      "metadata": {
        "id": "82hWS5cklVZ_",
        "colab": {
          "base_uri": "https://localhost:8080/",
          "height": 206
        },
        "outputId": "1d02bbc3-289b-4c9d-b07e-61eaba9bec9f"
      },
      "source": [
        "base_dados.head() # verificando se o drop() correu bem"
      ],
      "execution_count": null,
      "outputs": [
        {
          "output_type": "execute_result",
          "data": {
            "text/plain": [
              "                                          tweet_text  sentiment\n",
              "0                      FAV e falo de vocês por dm :)          1\n",
              "1  @lalenes_ O bom de lembrar é pra não repetir, ...          1\n",
              "2    vamos porquinhos !!! :D https://t.co/UFwKt1dCxe          1\n",
              "3  Tenho raiva de vc por vc ser tão linda, eu me ...          1\n",
              "4            @Daniel_Albino Eu disse espectacular :)          1"
            ],
            "text/html": [
              "\n",
              "  <div id=\"df-2af3bd1f-ea82-4d0f-a4d7-13c6f2b2e5b3\">\n",
              "    <div class=\"colab-df-container\">\n",
              "      <div>\n",
              "<style scoped>\n",
              "    .dataframe tbody tr th:only-of-type {\n",
              "        vertical-align: middle;\n",
              "    }\n",
              "\n",
              "    .dataframe tbody tr th {\n",
              "        vertical-align: top;\n",
              "    }\n",
              "\n",
              "    .dataframe thead th {\n",
              "        text-align: right;\n",
              "    }\n",
              "</style>\n",
              "<table border=\"1\" class=\"dataframe\">\n",
              "  <thead>\n",
              "    <tr style=\"text-align: right;\">\n",
              "      <th></th>\n",
              "      <th>tweet_text</th>\n",
              "      <th>sentiment</th>\n",
              "    </tr>\n",
              "  </thead>\n",
              "  <tbody>\n",
              "    <tr>\n",
              "      <th>0</th>\n",
              "      <td>FAV e falo de vocês por dm :)</td>\n",
              "      <td>1</td>\n",
              "    </tr>\n",
              "    <tr>\n",
              "      <th>1</th>\n",
              "      <td>@lalenes_ O bom de lembrar é pra não repetir, ...</td>\n",
              "      <td>1</td>\n",
              "    </tr>\n",
              "    <tr>\n",
              "      <th>2</th>\n",
              "      <td>vamos porquinhos !!! :D https://t.co/UFwKt1dCxe</td>\n",
              "      <td>1</td>\n",
              "    </tr>\n",
              "    <tr>\n",
              "      <th>3</th>\n",
              "      <td>Tenho raiva de vc por vc ser tão linda, eu me ...</td>\n",
              "      <td>1</td>\n",
              "    </tr>\n",
              "    <tr>\n",
              "      <th>4</th>\n",
              "      <td>@Daniel_Albino Eu disse espectacular :)</td>\n",
              "      <td>1</td>\n",
              "    </tr>\n",
              "  </tbody>\n",
              "</table>\n",
              "</div>\n",
              "      <button class=\"colab-df-convert\" onclick=\"convertToInteractive('df-2af3bd1f-ea82-4d0f-a4d7-13c6f2b2e5b3')\"\n",
              "              title=\"Convert this dataframe to an interactive table.\"\n",
              "              style=\"display:none;\">\n",
              "        \n",
              "  <svg xmlns=\"http://www.w3.org/2000/svg\" height=\"24px\"viewBox=\"0 0 24 24\"\n",
              "       width=\"24px\">\n",
              "    <path d=\"M0 0h24v24H0V0z\" fill=\"none\"/>\n",
              "    <path d=\"M18.56 5.44l.94 2.06.94-2.06 2.06-.94-2.06-.94-.94-2.06-.94 2.06-2.06.94zm-11 1L8.5 8.5l.94-2.06 2.06-.94-2.06-.94L8.5 2.5l-.94 2.06-2.06.94zm10 10l.94 2.06.94-2.06 2.06-.94-2.06-.94-.94-2.06-.94 2.06-2.06.94z\"/><path d=\"M17.41 7.96l-1.37-1.37c-.4-.4-.92-.59-1.43-.59-.52 0-1.04.2-1.43.59L10.3 9.45l-7.72 7.72c-.78.78-.78 2.05 0 2.83L4 21.41c.39.39.9.59 1.41.59.51 0 1.02-.2 1.41-.59l7.78-7.78 2.81-2.81c.8-.78.8-2.07 0-2.86zM5.41 20L4 18.59l7.72-7.72 1.47 1.35L5.41 20z\"/>\n",
              "  </svg>\n",
              "      </button>\n",
              "      \n",
              "  <style>\n",
              "    .colab-df-container {\n",
              "      display:flex;\n",
              "      flex-wrap:wrap;\n",
              "      gap: 12px;\n",
              "    }\n",
              "\n",
              "    .colab-df-convert {\n",
              "      background-color: #E8F0FE;\n",
              "      border: none;\n",
              "      border-radius: 50%;\n",
              "      cursor: pointer;\n",
              "      display: none;\n",
              "      fill: #1967D2;\n",
              "      height: 32px;\n",
              "      padding: 0 0 0 0;\n",
              "      width: 32px;\n",
              "    }\n",
              "\n",
              "    .colab-df-convert:hover {\n",
              "      background-color: #E2EBFA;\n",
              "      box-shadow: 0px 1px 2px rgba(60, 64, 67, 0.3), 0px 1px 3px 1px rgba(60, 64, 67, 0.15);\n",
              "      fill: #174EA6;\n",
              "    }\n",
              "\n",
              "    [theme=dark] .colab-df-convert {\n",
              "      background-color: #3B4455;\n",
              "      fill: #D2E3FC;\n",
              "    }\n",
              "\n",
              "    [theme=dark] .colab-df-convert:hover {\n",
              "      background-color: #434B5C;\n",
              "      box-shadow: 0px 1px 3px 1px rgba(0, 0, 0, 0.15);\n",
              "      filter: drop-shadow(0px 1px 2px rgba(0, 0, 0, 0.3));\n",
              "      fill: #FFFFFF;\n",
              "    }\n",
              "  </style>\n",
              "\n",
              "      <script>\n",
              "        const buttonEl =\n",
              "          document.querySelector('#df-2af3bd1f-ea82-4d0f-a4d7-13c6f2b2e5b3 button.colab-df-convert');\n",
              "        buttonEl.style.display =\n",
              "          google.colab.kernel.accessAllowed ? 'block' : 'none';\n",
              "\n",
              "        async function convertToInteractive(key) {\n",
              "          const element = document.querySelector('#df-2af3bd1f-ea82-4d0f-a4d7-13c6f2b2e5b3');\n",
              "          const dataTable =\n",
              "            await google.colab.kernel.invokeFunction('convertToInteractive',\n",
              "                                                     [key], {});\n",
              "          if (!dataTable) return;\n",
              "\n",
              "          const docLinkHtml = 'Like what you see? Visit the ' +\n",
              "            '<a target=\"_blank\" href=https://colab.research.google.com/notebooks/data_table.ipynb>data table notebook</a>'\n",
              "            + ' to learn more about interactive tables.';\n",
              "          element.innerHTML = '';\n",
              "          dataTable['output_type'] = 'display_data';\n",
              "          await google.colab.output.renderOutput(dataTable, element);\n",
              "          const docLink = document.createElement('div');\n",
              "          docLink.innerHTML = docLinkHtml;\n",
              "          element.appendChild(docLink);\n",
              "        }\n",
              "      </script>\n",
              "    </div>\n",
              "  </div>\n",
              "  "
            ]
          },
          "metadata": {},
          "execution_count": 18
        }
      ]
    },
    {
      "cell_type": "code",
      "metadata": {
        "id": "dfMcmaval-7w",
        "colab": {
          "base_uri": "https://localhost:8080/",
          "height": 706
        },
        "outputId": "402d8cfc-1829-4555-dfc8-5963d8871c71"
      },
      "source": [
        "plt.figure(figsize=(12,12))\n",
        "sns.heatmap(pd.isnull(base_dados));"
      ],
      "execution_count": null,
      "outputs": [
        {
          "output_type": "display_data",
          "data": {
            "text/plain": [
              "<Figure size 864x864 with 2 Axes>"
            ],
            "image/png": "[encoded data removed]"
          },
          "metadata": {
            "needs_background": "light"
          }
        }
      ]
    },
    {
      "cell_type": "code",
      "source": [
        "base_dados.sentiment.isnull().sum() # forma alternativa de verificar registros nulos"
      ],
      "metadata": {
        "id": "1WBreW1xVKAt",
        "outputId": "c5a771ad-6f1b-4439-a5e9-88520391f6f0",
        "colab": {
          "base_uri": "https://localhost:8080/"
        }
      },
      "execution_count": null,
      "outputs": [
        {
          "output_type": "execute_result",
          "data": {
            "text/plain": [
              "0"
            ]
          },
          "metadata": {},
          "execution_count": 20
        }
      ]
    },
    {
      "cell_type": "markdown",
      "metadata": {
        "id": "KwANq9uCx-jV"
      },
      "source": [
        "## Criação da Base de teste e de treinamentos proporção 30%"
      ]
    },
    {
      "cell_type": "code",
      "metadata": {
        "id": "yeiX7jb-lfdE"
      },
      "source": [
        "base_teste = base_dados.sample(frac=0.3, replace=False) # retirando uma amostra aleatória de 30% da base de dados\n",
        "base_treinamento = base_dados.loc[~base_dados.index.isin(base_teste.index.tolist()),:] # encontrando do 70% retantes\n",
        "base_teste=base_teste.reset_index(drop=True) # reset dos indices\n",
        "base_treinamento=base_treinamento.reset_index(drop=True) # reset dos indices"
      ],
      "execution_count": null,
      "outputs": []
    },
    {
      "cell_type": "code",
      "metadata": {
        "id": "Lr5tKcjPlkQy",
        "colab": {
          "base_uri": "https://localhost:8080/"
        },
        "outputId": "7feeef77-c9f7-4539-ce29-9b2ae0ce37d2"
      },
      "source": [
        "base_teste.shape"
      ],
      "execution_count": null,
      "outputs": [
        {
          "output_type": "execute_result",
          "data": {
            "text/plain": [
              "(30000, 2)"
            ]
          },
          "metadata": {},
          "execution_count": 22
        }
      ]
    },
    {
      "cell_type": "code",
      "metadata": {
        "id": "uyU25iuZlnSP",
        "colab": {
          "base_uri": "https://localhost:8080/",
          "height": 334
        },
        "outputId": "54bc07a9-f4e3-4bc1-d9b0-d9678322f414"
      },
      "source": [
        "sns.countplot(base_teste['sentiment'], label='Contagem'); # Verificando se a amostra não criou um desbalanceamento na classe sentiment"
      ],
      "execution_count": null,
      "outputs": [
        {
          "output_type": "stream",
          "name": "stderr",
          "text": [
            "/usr/local/lib/python3.7/dist-packages/seaborn/_decorators.py:43: FutureWarning: Pass the following variable as a keyword arg: x. From version 0.12, the only valid positional argument will be `data`, and passing other arguments without an explicit keyword will result in an error or misinterpretation.\n",
            "  FutureWarning\n"
          ]
        },
        {
          "output_type": "display_data",
          "data": {
            "text/plain": [
              "<Figure size 432x288 with 1 Axes>"
            ],
            "image/png": "[encoded data removed]"
          },
          "metadata": {
            "needs_background": "light"
          }
        }
      ]
    },
    {
      "cell_type": "code",
      "source": [
        "sns.countplot(base_treinamento['sentiment'], label='Contagem'); # Verificando se a amostra não criou um desbalanceamento na classe sentiment"
      ],
      "metadata": {
        "id": "4k_kJFRGZq7G",
        "outputId": "f565459f-25c7-4f6d-cd98-6b13baf5d22c",
        "colab": {
          "base_uri": "https://localhost:8080/",
          "height": 334
        }
      },
      "execution_count": null,
      "outputs": [
        {
          "output_type": "stream",
          "name": "stderr",
          "text": [
            "/usr/local/lib/python3.7/dist-packages/seaborn/_decorators.py:43: FutureWarning: Pass the following variable as a keyword arg: x. From version 0.12, the only valid positional argument will be `data`, and passing other arguments without an explicit keyword will result in an error or misinterpretation.\n",
            "  FutureWarning\n"
          ]
        },
        {
          "output_type": "display_data",
          "data": {
            "text/plain": [
              "<Figure size 432x288 with 1 Axes>"
            ],
            "image/png": "[encoded data removed]"
          },
          "metadata": {
            "needs_background": "light"
          }
        }
      ]
    },
    {
      "cell_type": "markdown",
      "metadata": {
        "id": "h36-8Ien-AQ1"
      },
      "source": [
        "# Etapa 3: Função para pré-processamento dos textos\n",
        "\n",
        "- Letras minúsculas\n",
        "- Nome do usuário (@)\n",
        "- URLs\n",
        "- Espaços em branco\n",
        "- Emoticons\n",
        "- Stop words\n",
        "- Lematização\n",
        "- Pontuações"
      ]
    },
    {
      "cell_type": "code",
      "metadata": {
        "id": "gOur6ftJnKuP",
        "colab": {
          "base_uri": "https://localhost:8080/"
        },
        "outputId": "2a2dffb1-fe97-4b7e-82d8-93a4ba519042"
      },
      "source": [
        "%%time\n",
        "pln = spacy.load(\"pt\") # carregando o modelo para portugues\n",
        "pln"
      ],
      "execution_count": null,
      "outputs": [
        {
          "output_type": "stream",
          "name": "stdout",
          "text": [
            "CPU times: user 2.42 s, sys: 77.7 ms, total: 2.5 s\n",
            "Wall time: 2.47 s\n"
          ]
        }
      ]
    },
    {
      "cell_type": "code",
      "metadata": {
        "id": "m8eGCSuHnSYM",
        "colab": {
          "base_uri": "https://localhost:8080/",
          "height": 35
        },
        "outputId": "5a9b2eaf-3768-467c-e9ca-526685ea73e4"
      },
      "source": [
        "base_treinamento['tweet_text'][1500] # selecionado um texto para testes da função"
      ],
      "execution_count": null,
      "outputs": [
        {
          "output_type": "execute_result",
          "data": {
            "text/plain": [
              "'manda uma pergunta pra mim, é de graça :) https://t.co/7VMbeFq1bV'"
            ],
            "application/vnd.google.colaboratory.intrinsic+json": {
              "type": "string"
            }
          },
          "metadata": {},
          "execution_count": 45
        }
      ]
    },
    {
      "cell_type": "code",
      "metadata": {
        "id": "z6-JRv8Ynayt"
      },
      "source": [
        "stop_words = spacy.lang.pt.stop_words.STOP_WORDS # Criando as Stop words"
      ],
      "execution_count": null,
      "outputs": []
    },
    {
      "cell_type": "code",
      "metadata": {
        "id": "QqMa61Qwnj4c",
        "colab": {
          "base_uri": "https://localhost:8080/"
        },
        "outputId": "f5010cff-aa1d-40c1-9223-1769f11c1a17"
      },
      "source": [
        "print(stop_words)"
      ],
      "execution_count": null,
      "outputs": [
        {
          "output_type": "stream",
          "name": "stdout",
          "text": [
            "{'quieta', 'isso', 'estiveste', 'deve', 'vocês', 'sempre', 'ou', 'ambos', 'estou', 'baixo', 'muitos', 'for', 'bastante', 'estivestes', 'vós', 'nossas', 'foste', 'são', 'cedo', 'aquela', 'tão', 'números', 'catorze', 'partir', 'tanto', 'mês', 'primeiro', 'quero', 'fazeis', 'fim', 'cá', 'área', 'uns', 'coisa', 'nuns', 'ver', 'desta', 'contudo', 'tendes', 'essa', 'foram', 'forma', 'segundo', 'temos', 'caminho', 'fazes', 'vem', 'fazer', 'estará', 'só', 'outros', 'meus', 'ali', 'sétima', 'sobre', 'sexto', 'quinze', 'possivelmente', 'nos', 'primeira', 'zero', 'obrigada', 'esses', 'ainda', 'usa', 'ela', 'talvez', 'nenhuma', 'ser', 'deste', 'após', 'ligado', 'naquele', 'alguns', 'fazemos', 'custa', 'vinte', 'debaixo', 'você', 'aos', 'nesse', 'minhas', 'está', 'adeus', 'duas', 'somos', 'quieto', 'logo', 'dos', 'aí', 'segunda', 'entre', 'somente', 'quarto', 'disso', 'nível', 'tentar', 'novas', 'oitavo', 'quarta', 'tente', 'teve', 'ter', 'diz', 'põe', 'portanto', 'onze', 'eu', 'têm', 'mil', 'seis', 'des', 'quinto', 'dezasseis', 'onde', 'ponto', 'bom', 'muito', 'doze', 'te', 'seu', 'vinda', 'do', 'breve', 'estas', 'esta', 'nosso', 'uma', 'para', 'vens', 'sabe', 'seus', 'meio', 'devem', 'pois', 'tens', 'diante', 'cinco', 'estivemos', 'vez', 'ele', 'dentro', 'porque', 'qual', 'mesmo', 'apoio', 'as', 'com', 'é', 'estes', 'terceiro', 'das', 'dezoito', 'um', 'qualquer', 'irá', 'momento', 'falta', 'acerca', 'posição', 'esse', 'dessa', 'algo', 'de', 'último', 'todo', 'sob', 'fará', 'que', 'da', 'inclusive', 'ora', 'querem', 'tenho', 'naquela', 'este', 'porquanto', 'porém', 'possível', 'sexta', 'vindo', 'terceira', 'num', 'tive', 'sem', 'três', 'os', 'pouco', 'tivemos', 'esteve', 'fomos', 'porquê', 'algumas', 'maioria', 'como', 'menor', 'vezes', 'bem', 'daquela', 'parte', 'foi', 'quê', 'certeza', 'desse', 'pode', 'corrente', 'neste', 'aqueles', 'assim', 'no', 'és', 'faz', 'maior', 'cada', 'fui', 'vários', 'final', 'comprida', 'poder', 'tudo', 'nove', 'daquele', 'quinta', 'número', 'podem', 'vão', 'sim', 'lugar', 'puderam', 'certamente', 'outra', 'tentaram', 'me', 'tu', 'dezanove', 'boa', 'ademais', 'dez', 'dar', 'obrigado', 'treze', 'vêm', 'maiorias', 'sua', 'dá', 'até', 'poderá', 'mais', 'posso', 'conhecida', 'nossa', 'estado', 'fazia', 'quem', 'quais', 'através', 'favor', 'tipo', 'sistema', 'apontar', 'toda', 'estava', 'era', 'aquele', 'oito', 'desde', 'usar', 'faço', 'questão', 'longe', 'apoia', 'pegar', 'tiveram', 'aquelas', 'às', 'podia', 'vos', 'tempo', 'nós', 'vais', 'pelos', 'iniciar', 'valor', 'dizer', 'parece', 'meu', 'perto', 'põem', 'cento', 'saber', 'tentei', 'à', 'nova', 'todos', 'outras', 'estiveram', 'sou', 'quando', 'já', 'lado', 'fora', 'estão', 'tanta', 'próprio', 'quanto', 'nunca', 'eles', 'além', 'dois', 'nossos', 'vai', 'mas', 'vosso', 'estás', 'ao', 'ambas', 'contra', 'pontos', 'teu', 'embora', 'nas', 'numa', 'dezassete', 'inicio', 'estar', 'exemplo', 'em', 'nem', 'teus', 'pouca', 'essas', 'isto', 'nada', 'suas', 'demais', 'fez', 'quatro', 'tais', 'também', 'grupo', 'fazem', 'umas', 'pelas', 'minha', 'não', 'cuja', 'pela', 'dizem', 'dão', 'deverá', 'conselho', 'veja', 'tarde', 'cujo', 'seria', 'sete', 'tal', 'nesta', 'tivestes', 'comprido', 'povo', 'agora', 'depois', 'grandes', 'novo', 'antes', 'todas', 'aqui', 'oitava', 'apenas', 'mal', 'lá', 'lhe', 'ontem', 'geral', 'aquilo', 'próxima', 'ir', 'enquanto', 'próximo', 'máximo', 'cima', 'estive', 'eventual', 'menos', 'na', 'tiveste', 'vossas', 'atrás', 'novos', 'quer', 'vossa', 'direita', 'sei', 'relação', 'tem', 'tuas', 'por', 'tua', 'nessa', 'sois', 'pelo', 'então', 'sétimo', 'local', 'elas', 'fostes', 'meses', 'pôde', 'vossos', 'se', 'conhecido', 'grande'}\n"
          ]
        }
      ]
    },
    {
      "cell_type": "code",
      "metadata": {
        "id": "n1lFJDhJnoth",
        "colab": {
          "base_uri": "https://localhost:8080/",
          "height": 35
        },
        "outputId": "a94b6ade-769e-45ea-eace-68faf6100a22"
      },
      "source": [
        "string.punctuation"
      ],
      "execution_count": null,
      "outputs": [
        {
          "output_type": "execute_result",
          "data": {
            "text/plain": [
              "'!\"#$%&\\'()*+,-./:;<=>?@[\\\\]^_`{|}~'"
            ],
            "application/vnd.google.colaboratory.intrinsic+json": {
              "type": "string"
            }
          },
          "metadata": {},
          "execution_count": 48
        }
      ]
    },
    {
      "cell_type": "code",
      "metadata": {
        "id": "rS9ldTSJnsMb"
      },
      "source": [
        "def preprocessamento(texto):\n",
        "  '''\n",
        "  parâmetro de entrada: texto (str)\n",
        "  a função prepocessamento executa as seguintes operações na string texto:\n",
        "  - converte todos os caracteres para minusculas\n",
        "  - normaliza o nome do usuário\n",
        "  - elimina urls\n",
        "  - elimina espaçoes em branco duplicados\n",
        "  - substitui emoticons por textos pré definidos\n",
        "  - Executa lematização e tokenização\n",
        "  - Elimina stopwords\n",
        "  retorna texto preporcessado (str)\n",
        "  '''\n",
        "  # Vamos deixar todas as letras em minúsculas\n",
        "  texto = texto.lower()\n",
        "\n",
        "  # Normanizando o nome do usuário\n",
        "  texto = re.sub(r\"@[A-Za-z0-9$-_@.&+]+\", ' ', texto)\n",
        "\n",
        "  # Eliminado URLs\n",
        "  texto = re.sub(r\"https?://[A-Za-z0-9./]+\", ' ', texto)\n",
        "\n",
        "  # Retirando Espaços em branco duplicados\n",
        "  texto = re.sub(r\" +\", ' ', texto)\n",
        "\n",
        "  # Substituindo Emoticons por emoção carcteristica\n",
        "  lista_emocoes = {':)': 'emocaopositiva',\n",
        "                   ':d': 'emocaopositiva',\n",
        "                   ':(': 'emocaonegativa'}\n",
        "  for emocao in lista_emocoes: # iterando sobre a lisat de emoções\n",
        "    texto = texto.replace(emocao, lista_emocoes[emocao]) # fazendo o replace dos emoticos\n",
        "\n",
        "  # Tokenização e Lematização\n",
        "  documento = pln(texto) # transformando texto em um objeto do spaCy\n",
        "\n",
        "  lista = []\n",
        "  for token in documento:\n",
        "    lista.append(token.lemma_) # adcionando o token de texto lematizado \n",
        "  \n",
        "  # Eliminado stop words e pontuações da lista\n",
        "  lista = [palavra for palavra in lista if palavra not in stop_words and palavra not in string.punctuation]\n",
        "  # transformando a lista em uma string\n",
        "  lista = ' '.join([str(elemento) for elemento in lista if not elemento.isdigit()])\n",
        "  \n",
        "  return lista"
      ],
      "execution_count": null,
      "outputs": []
    },
    {
      "cell_type": "code",
      "metadata": {
        "id": "iIy-2X18n0G8",
        "colab": {
          "base_uri": "https://localhost:8080/"
        },
        "outputId": "3fd05922-dbd3-4860-b5c8-d1d6b813bdf5"
      },
      "source": [
        "# testando a função\n",
        "texto_teste = base_treinamento.loc[1500,'tweet_text']\n",
        "resultado = preprocessamento(texto_teste)\n",
        "print(texto_teste)\n",
        "print(resultado)"
      ],
      "execution_count": null,
      "outputs": [
        {
          "output_type": "stream",
          "name": "stdout",
          "text": [
            "manda uma pergunta pra mim, é de graça :) https://t.co/7VMbeFq1bV\n",
            "mandar umar perguntar pra mim graça emocaopositiva\n"
          ]
        }
      ]
    },
    {
      "cell_type": "markdown",
      "metadata": {
        "id": "DtL8DBPVOFoL"
      },
      "source": [
        "# Etapa 4: Pré-processamento da base de dados"
      ]
    },
    {
      "cell_type": "markdown",
      "metadata": {
        "id": "n7G5PSVUOOId"
      },
      "source": [
        "### Limpeza dos textos"
      ]
    },
    {
      "cell_type": "code",
      "metadata": {
        "id": "SNSsbuMis0-d",
        "outputId": "2b27d410-94d5-4fe6-ee49-a2dee0499ed8",
        "colab": {
          "base_uri": "https://localhost:8080/"
        }
      },
      "source": [
        "%%time\n",
        "base_treinamento['tweet_text'] = base_treinamento['tweet_text'].apply(preprocessamento)"
      ],
      "execution_count": null,
      "outputs": [
        {
          "output_type": "stream",
          "name": "stdout",
          "text": [
            "CPU times: user 16min 45s, sys: 5.03 s, total: 16min 50s\n",
            "Wall time: 16min 46s\n"
          ]
        }
      ]
    },
    {
      "cell_type": "code",
      "metadata": {
        "id": "wR742NJLusfy",
        "colab": {
          "base_uri": "https://localhost:8080/",
          "height": 363
        },
        "outputId": "e50a29d5-76c3-4c3d-f9f3-cab9ed0c8d57"
      },
      "source": [
        "base_treinamento.head(10)"
      ],
      "execution_count": null,
      "outputs": [
        {
          "output_type": "execute_result",
          "data": {
            "text/plain": [
              "                                          tweet_text  sentiment\n",
              "0                      fav e falir dm emocaopositiva          1\n",
              "1      o lembrar pra repetir o pessoa emocaopositiva          1\n",
              "2                           porquinho emocaopositiva          1\n",
              "3                        espectacular emocaopositiva          1\n",
              "4                 feliz brownie ficar emocaopositiva          1\n",
              "5                        mandar algum emocaopositiva          1\n",
              "6                          lindar dia emocaopositiva          1\n",
              "7                     gostar cozinhar emocaopositiva          1\n",
              "8    biel preparar pra sair negar morto pra carto...          1\n",
              "9    torcer pra o vasco recuperar o hoje merecer ...          1"
            ],
            "text/html": [
              "\n",
              "  <div id=\"df-3f32070f-4cdd-4602-9145-2a38076f67a2\">\n",
              "    <div class=\"colab-df-container\">\n",
              "      <div>\n",
              "<style scoped>\n",
              "    .dataframe tbody tr th:only-of-type {\n",
              "        vertical-align: middle;\n",
              "    }\n",
              "\n",
              "    .dataframe tbody tr th {\n",
              "        vertical-align: top;\n",
              "    }\n",
              "\n",
              "    .dataframe thead th {\n",
              "        text-align: right;\n",
              "    }\n",
              "</style>\n",
              "<table border=\"1\" class=\"dataframe\">\n",
              "  <thead>\n",
              "    <tr style=\"text-align: right;\">\n",
              "      <th></th>\n",
              "      <th>tweet_text</th>\n",
              "      <th>sentiment</th>\n",
              "    </tr>\n",
              "  </thead>\n",
              "  <tbody>\n",
              "    <tr>\n",
              "      <th>0</th>\n",
              "      <td>fav e falir dm emocaopositiva</td>\n",
              "      <td>1</td>\n",
              "    </tr>\n",
              "    <tr>\n",
              "      <th>1</th>\n",
              "      <td>o lembrar pra repetir o pessoa emocaopositiva</td>\n",
              "      <td>1</td>\n",
              "    </tr>\n",
              "    <tr>\n",
              "      <th>2</th>\n",
              "      <td>porquinho emocaopositiva</td>\n",
              "      <td>1</td>\n",
              "    </tr>\n",
              "    <tr>\n",
              "      <th>3</th>\n",
              "      <td>espectacular emocaopositiva</td>\n",
              "      <td>1</td>\n",
              "    </tr>\n",
              "    <tr>\n",
              "      <th>4</th>\n",
              "      <td>feliz brownie ficar emocaopositiva</td>\n",
              "      <td>1</td>\n",
              "    </tr>\n",
              "    <tr>\n",
              "      <th>5</th>\n",
              "      <td>mandar algum emocaopositiva</td>\n",
              "      <td>1</td>\n",
              "    </tr>\n",
              "    <tr>\n",
              "      <th>6</th>\n",
              "      <td>lindar dia emocaopositiva</td>\n",
              "      <td>1</td>\n",
              "    </tr>\n",
              "    <tr>\n",
              "      <th>7</th>\n",
              "      <td>gostar cozinhar emocaopositiva</td>\n",
              "      <td>1</td>\n",
              "    </tr>\n",
              "    <tr>\n",
              "      <th>8</th>\n",
              "      <td>biel preparar pra sair negar morto pra carto...</td>\n",
              "      <td>1</td>\n",
              "    </tr>\n",
              "    <tr>\n",
              "      <th>9</th>\n",
              "      <td>torcer pra o vasco recuperar o hoje merecer ...</td>\n",
              "      <td>1</td>\n",
              "    </tr>\n",
              "  </tbody>\n",
              "</table>\n",
              "</div>\n",
              "      <button class=\"colab-df-convert\" onclick=\"convertToInteractive('df-3f32070f-4cdd-4602-9145-2a38076f67a2')\"\n",
              "              title=\"Convert this dataframe to an interactive table.\"\n",
              "              style=\"display:none;\">\n",
              "        \n",
              "  <svg xmlns=\"http://www.w3.org/2000/svg\" height=\"24px\"viewBox=\"0 0 24 24\"\n",
              "       width=\"24px\">\n",
              "    <path d=\"M0 0h24v24H0V0z\" fill=\"none\"/>\n",
              "    <path d=\"M18.56 5.44l.94 2.06.94-2.06 2.06-.94-2.06-.94-.94-2.06-.94 2.06-2.06.94zm-11 1L8.5 8.5l.94-2.06 2.06-.94-2.06-.94L8.5 2.5l-.94 2.06-2.06.94zm10 10l.94 2.06.94-2.06 2.06-.94-2.06-.94-.94-2.06-.94 2.06-2.06.94z\"/><path d=\"M17.41 7.96l-1.37-1.37c-.4-.4-.92-.59-1.43-.59-.52 0-1.04.2-1.43.59L10.3 9.45l-7.72 7.72c-.78.78-.78 2.05 0 2.83L4 21.41c.39.39.9.59 1.41.59.51 0 1.02-.2 1.41-.59l7.78-7.78 2.81-2.81c.8-.78.8-2.07 0-2.86zM5.41 20L4 18.59l7.72-7.72 1.47 1.35L5.41 20z\"/>\n",
              "  </svg>\n",
              "      </button>\n",
              "      \n",
              "  <style>\n",
              "    .colab-df-container {\n",
              "      display:flex;\n",
              "      flex-wrap:wrap;\n",
              "      gap: 12px;\n",
              "    }\n",
              "\n",
              "    .colab-df-convert {\n",
              "      background-color: #E8F0FE;\n",
              "      border: none;\n",
              "      border-radius: 50%;\n",
              "      cursor: pointer;\n",
              "      display: none;\n",
              "      fill: #1967D2;\n",
              "      height: 32px;\n",
              "      padding: 0 0 0 0;\n",
              "      width: 32px;\n",
              "    }\n",
              "\n",
              "    .colab-df-convert:hover {\n",
              "      background-color: #E2EBFA;\n",
              "      box-shadow: 0px 1px 2px rgba(60, 64, 67, 0.3), 0px 1px 3px 1px rgba(60, 64, 67, 0.15);\n",
              "      fill: #174EA6;\n",
              "    }\n",
              "\n",
              "    [theme=dark] .colab-df-convert {\n",
              "      background-color: #3B4455;\n",
              "      fill: #D2E3FC;\n",
              "    }\n",
              "\n",
              "    [theme=dark] .colab-df-convert:hover {\n",
              "      background-color: #434B5C;\n",
              "      box-shadow: 0px 1px 3px 1px rgba(0, 0, 0, 0.15);\n",
              "      filter: drop-shadow(0px 1px 2px rgba(0, 0, 0, 0.3));\n",
              "      fill: #FFFFFF;\n",
              "    }\n",
              "  </style>\n",
              "\n",
              "      <script>\n",
              "        const buttonEl =\n",
              "          document.querySelector('#df-3f32070f-4cdd-4602-9145-2a38076f67a2 button.colab-df-convert');\n",
              "        buttonEl.style.display =\n",
              "          google.colab.kernel.accessAllowed ? 'block' : 'none';\n",
              "\n",
              "        async function convertToInteractive(key) {\n",
              "          const element = document.querySelector('#df-3f32070f-4cdd-4602-9145-2a38076f67a2');\n",
              "          const dataTable =\n",
              "            await google.colab.kernel.invokeFunction('convertToInteractive',\n",
              "                                                     [key], {});\n",
              "          if (!dataTable) return;\n",
              "\n",
              "          const docLinkHtml = 'Like what you see? Visit the ' +\n",
              "            '<a target=\"_blank\" href=https://colab.research.google.com/notebooks/data_table.ipynb>data table notebook</a>'\n",
              "            + ' to learn more about interactive tables.';\n",
              "          element.innerHTML = '';\n",
              "          dataTable['output_type'] = 'display_data';\n",
              "          await google.colab.output.renderOutput(dataTable, element);\n",
              "          const docLink = document.createElement('div');\n",
              "          docLink.innerHTML = docLinkHtml;\n",
              "          element.appendChild(docLink);\n",
              "        }\n",
              "      </script>\n",
              "    </div>\n",
              "  </div>\n",
              "  "
            ]
          },
          "metadata": {},
          "execution_count": 52
        }
      ]
    },
    {
      "cell_type": "code",
      "metadata": {
        "id": "DI1GvLX1uyr4",
        "outputId": "97b131aa-8a6b-49d9-a2ef-20d2f8821722",
        "colab": {
          "base_uri": "https://localhost:8080/"
        }
      },
      "source": [
        "%%time\n",
        "base_teste['tweet_text'] = base_teste['tweet_text'].apply(preprocessamento)"
      ],
      "execution_count": null,
      "outputs": [
        {
          "output_type": "stream",
          "name": "stdout",
          "text": [
            "CPU times: user 7min 6s, sys: 2.85 s, total: 7min 9s\n",
            "Wall time: 7min 7s\n"
          ]
        }
      ]
    },
    {
      "cell_type": "code",
      "metadata": {
        "id": "jTGab2hXvGSr",
        "colab": {
          "base_uri": "https://localhost:8080/",
          "height": 363
        },
        "outputId": "0df2d36c-c43c-4533-a35f-a62dd165cfac"
      },
      "source": [
        "base_teste.head(10)"
      ],
      "execution_count": null,
      "outputs": [
        {
          "output_type": "execute_result",
          "data": {
            "text/plain": [
              "                                          tweet_text  sentiment\n",
              "0      e frio o barriga q n sair affu emocaonegativa          0\n",
              "1                  relativizar amigar emocaopositiva          1\n",
              "2             o menino vidar o paixão emocaonegativa          0\n",
              "3                           tô triste emocaonegativa          0\n",
              "4                      neosoro acabar emocaonegativa          0\n",
              "5                          medo turma emocaopositiva          1\n",
              "6  pelar jeito sobrar o dacioclo parir presidênci...          1\n",
              "7          esquecer inscrever o canal emocaopositiva          1\n",
              "8    gente sério o catra morrer manir emocaonegativa          0\n",
              "9  estragar o porra celular o mulher seven respon...          1"
            ],
            "text/html": [
              "\n",
              "  <div id=\"df-7aaff8a5-e518-4b19-a286-51c1596e0dff\">\n",
              "    <div class=\"colab-df-container\">\n",
              "      <div>\n",
              "<style scoped>\n",
              "    .dataframe tbody tr th:only-of-type {\n",
              "        vertical-align: middle;\n",
              "    }\n",
              "\n",
              "    .dataframe tbody tr th {\n",
              "        vertical-align: top;\n",
              "    }\n",
              "\n",
              "    .dataframe thead th {\n",
              "        text-align: right;\n",
              "    }\n",
              "</style>\n",
              "<table border=\"1\" class=\"dataframe\">\n",
              "  <thead>\n",
              "    <tr style=\"text-align: right;\">\n",
              "      <th></th>\n",
              "      <th>tweet_text</th>\n",
              "      <th>sentiment</th>\n",
              "    </tr>\n",
              "  </thead>\n",
              "  <tbody>\n",
              "    <tr>\n",
              "      <th>0</th>\n",
              "      <td>e frio o barriga q n sair affu emocaonegativa</td>\n",
              "      <td>0</td>\n",
              "    </tr>\n",
              "    <tr>\n",
              "      <th>1</th>\n",
              "      <td>relativizar amigar emocaopositiva</td>\n",
              "      <td>1</td>\n",
              "    </tr>\n",
              "    <tr>\n",
              "      <th>2</th>\n",
              "      <td>o menino vidar o paixão emocaonegativa</td>\n",
              "      <td>0</td>\n",
              "    </tr>\n",
              "    <tr>\n",
              "      <th>3</th>\n",
              "      <td>tô triste emocaonegativa</td>\n",
              "      <td>0</td>\n",
              "    </tr>\n",
              "    <tr>\n",
              "      <th>4</th>\n",
              "      <td>neosoro acabar emocaonegativa</td>\n",
              "      <td>0</td>\n",
              "    </tr>\n",
              "    <tr>\n",
              "      <th>5</th>\n",
              "      <td>medo turma emocaopositiva</td>\n",
              "      <td>1</td>\n",
              "    </tr>\n",
              "    <tr>\n",
              "      <th>6</th>\n",
              "      <td>pelar jeito sobrar o dacioclo parir presidênci...</td>\n",
              "      <td>1</td>\n",
              "    </tr>\n",
              "    <tr>\n",
              "      <th>7</th>\n",
              "      <td>esquecer inscrever o canal emocaopositiva</td>\n",
              "      <td>1</td>\n",
              "    </tr>\n",
              "    <tr>\n",
              "      <th>8</th>\n",
              "      <td>gente sério o catra morrer manir emocaonegativa</td>\n",
              "      <td>0</td>\n",
              "    </tr>\n",
              "    <tr>\n",
              "      <th>9</th>\n",
              "      <td>estragar o porra celular o mulher seven respon...</td>\n",
              "      <td>1</td>\n",
              "    </tr>\n",
              "  </tbody>\n",
              "</table>\n",
              "</div>\n",
              "      <button class=\"colab-df-convert\" onclick=\"convertToInteractive('df-7aaff8a5-e518-4b19-a286-51c1596e0dff')\"\n",
              "              title=\"Convert this dataframe to an interactive table.\"\n",
              "              style=\"display:none;\">\n",
              "        \n",
              "  <svg xmlns=\"http://www.w3.org/2000/svg\" height=\"24px\"viewBox=\"0 0 24 24\"\n",
              "       width=\"24px\">\n",
              "    <path d=\"M0 0h24v24H0V0z\" fill=\"none\"/>\n",
              "    <path d=\"M18.56 5.44l.94 2.06.94-2.06 2.06-.94-2.06-.94-.94-2.06-.94 2.06-2.06.94zm-11 1L8.5 8.5l.94-2.06 2.06-.94-2.06-.94L8.5 2.5l-.94 2.06-2.06.94zm10 10l.94 2.06.94-2.06 2.06-.94-2.06-.94-.94-2.06-.94 2.06-2.06.94z\"/><path d=\"M17.41 7.96l-1.37-1.37c-.4-.4-.92-.59-1.43-.59-.52 0-1.04.2-1.43.59L10.3 9.45l-7.72 7.72c-.78.78-.78 2.05 0 2.83L4 21.41c.39.39.9.59 1.41.59.51 0 1.02-.2 1.41-.59l7.78-7.78 2.81-2.81c.8-.78.8-2.07 0-2.86zM5.41 20L4 18.59l7.72-7.72 1.47 1.35L5.41 20z\"/>\n",
              "  </svg>\n",
              "      </button>\n",
              "      \n",
              "  <style>\n",
              "    .colab-df-container {\n",
              "      display:flex;\n",
              "      flex-wrap:wrap;\n",
              "      gap: 12px;\n",
              "    }\n",
              "\n",
              "    .colab-df-convert {\n",
              "      background-color: #E8F0FE;\n",
              "      border: none;\n",
              "      border-radius: 50%;\n",
              "      cursor: pointer;\n",
              "      display: none;\n",
              "      fill: #1967D2;\n",
              "      height: 32px;\n",
              "      padding: 0 0 0 0;\n",
              "      width: 32px;\n",
              "    }\n",
              "\n",
              "    .colab-df-convert:hover {\n",
              "      background-color: #E2EBFA;\n",
              "      box-shadow: 0px 1px 2px rgba(60, 64, 67, 0.3), 0px 1px 3px 1px rgba(60, 64, 67, 0.15);\n",
              "      fill: #174EA6;\n",
              "    }\n",
              "\n",
              "    [theme=dark] .colab-df-convert {\n",
              "      background-color: #3B4455;\n",
              "      fill: #D2E3FC;\n",
              "    }\n",
              "\n",
              "    [theme=dark] .colab-df-convert:hover {\n",
              "      background-color: #434B5C;\n",
              "      box-shadow: 0px 1px 3px 1px rgba(0, 0, 0, 0.15);\n",
              "      filter: drop-shadow(0px 1px 2px rgba(0, 0, 0, 0.3));\n",
              "      fill: #FFFFFF;\n",
              "    }\n",
              "  </style>\n",
              "\n",
              "      <script>\n",
              "        const buttonEl =\n",
              "          document.querySelector('#df-7aaff8a5-e518-4b19-a286-51c1596e0dff button.colab-df-convert');\n",
              "        buttonEl.style.display =\n",
              "          google.colab.kernel.accessAllowed ? 'block' : 'none';\n",
              "\n",
              "        async function convertToInteractive(key) {\n",
              "          const element = document.querySelector('#df-7aaff8a5-e518-4b19-a286-51c1596e0dff');\n",
              "          const dataTable =\n",
              "            await google.colab.kernel.invokeFunction('convertToInteractive',\n",
              "                                                     [key], {});\n",
              "          if (!dataTable) return;\n",
              "\n",
              "          const docLinkHtml = 'Like what you see? Visit the ' +\n",
              "            '<a target=\"_blank\" href=https://colab.research.google.com/notebooks/data_table.ipynb>data table notebook</a>'\n",
              "            + ' to learn more about interactive tables.';\n",
              "          element.innerHTML = '';\n",
              "          dataTable['output_type'] = 'display_data';\n",
              "          await google.colab.output.renderOutput(dataTable, element);\n",
              "          const docLink = document.createElement('div');\n",
              "          docLink.innerHTML = docLinkHtml;\n",
              "          element.appendChild(docLink);\n",
              "        }\n",
              "      </script>\n",
              "    </div>\n",
              "  </div>\n",
              "  "
            ]
          },
          "metadata": {},
          "execution_count": 54
        }
      ]
    },
    {
      "cell_type": "markdown",
      "metadata": {
        "id": "trA39YO4PcFp"
      },
      "source": [
        "### Tratamento da classe"
      ]
    },
    {
      "cell_type": "code",
      "metadata": {
        "id": "SPPY0MlIYoTR"
      },
      "source": [
        "exemplo_base_dados = [[\"este trabalho é agradável\", {\"POSITIVO\": True, \"NEGATIVO\": False}],\n",
        "                      [\"este lugar continua assustador\", {\"POSITIVO\": False, \"NEGATIVO\": True}]]"
      ],
      "execution_count": null,
      "outputs": []
    },
    {
      "cell_type": "code",
      "metadata": {
        "id": "TH31QeqEyrub"
      },
      "source": [
        "base_dados_treinamento_final = []\n",
        "for texto, emocao in zip(base_treinamento['tweet_text'], base_treinamento['sentiment']):\n",
        "  if emocao == 1:\n",
        "    dic = ({'POSITIVO': True, 'NEGATIVO': False})\n",
        "  elif emocao == 0:\n",
        "    dic = ({'POSITIVO': False, 'NEGATIVO': True})\n",
        "\n",
        "  base_dados_treinamento_final.append([texto, dic.copy()])"
      ],
      "execution_count": null,
      "outputs": []
    },
    {
      "cell_type": "code",
      "metadata": {
        "id": "kwFKyNZM2TFj",
        "colab": {
          "base_uri": "https://localhost:8080/"
        },
        "outputId": "9c79f7c8-e8c0-4f2a-d557-3fde8cc480c6"
      },
      "source": [
        "len(base_dados_treinamento_final)"
      ],
      "execution_count": null,
      "outputs": [
        {
          "output_type": "execute_result",
          "data": {
            "text/plain": [
              "70000"
            ]
          },
          "metadata": {},
          "execution_count": 70
        }
      ]
    },
    {
      "cell_type": "code",
      "metadata": {
        "id": "_3D9UkMI2W60",
        "colab": {
          "base_uri": "https://localhost:8080/"
        },
        "outputId": "7a9c8b4c-9dd2-4a86-8517-cef518e82b41"
      },
      "source": [
        "base_dados_treinamento_final[10:15]"
      ],
      "execution_count": null,
      "outputs": [
        {
          "output_type": "execute_result",
          "data": {
            "text/plain": [
              "[['  parecer emocaopositiva', {'NEGATIVO': False, 'POSITIVO': True}],\n",
              " ['deixar o relatório pra comer o outro emocaopositiva',\n",
              "  {'NEGATIVO': False, 'POSITIVO': True}],\n",
              " ['  oi debby nó o processar renovação contratar algum série castleaxn sair programação notícia retornar nó avisar emocaopositiva',\n",
              "  {'NEGATIVO': False, 'POSITIVO': True}],\n",
              " ['e o trollface camarada trazer drink gelar emocaopositiva mijar gelar copar catarrado emocaonegativa',\n",
              "  {'NEGATIVO': False, 'POSITIVO': True}],\n",
              " ['feliz pq o lista geometria e entender tudinho emocaopositiva',\n",
              "  {'NEGATIVO': False, 'POSITIVO': True}]]"
            ]
          },
          "metadata": {},
          "execution_count": 71
        }
      ]
    },
    {
      "cell_type": "code",
      "metadata": {
        "id": "E8C-_9AB2fEM",
        "colab": {
          "base_uri": "https://localhost:8080/"
        },
        "outputId": "560fb2a6-b658-4b43-e8e4-9d2920184683"
      },
      "source": [
        "base_dados_treinamento_final[45000:45005]"
      ],
      "execution_count": null,
      "outputs": [
        {
          "output_type": "execute_result",
          "data": {
            "text/plain": [
              "[['  o lucky one comprar o e o monster ano passar umar menino pretender vender e comprar outro pq mandar errar e tá amassadinho emocaonegativa',\n",
              "  {'NEGATIVO': True, 'POSITIVO': False}],\n",
              " ['  amigo emocaonegativa', {'NEGATIVO': True, 'POSITIVO': False}],\n",
              " ['pai falar mó frouxar pq levar ninguém pro motel emocaonegativa',\n",
              "  {'NEGATIVO': True, 'POSITIVO': False}],\n",
              " ['aaaaaaaa beber amar baekhyun emocaonegativa',\n",
              "  {'NEGATIVO': True, 'POSITIVO': False}],\n",
              " ['parceiro bad emocaonegativa', {'NEGATIVO': True, 'POSITIVO': False}]]"
            ]
          },
          "metadata": {},
          "execution_count": 72
        }
      ]
    },
    {
      "cell_type": "markdown",
      "metadata": {
        "id": "5mc19ZByUNsu"
      },
      "source": [
        "# Etapa 5: Criação do classificador"
      ]
    },
    {
      "cell_type": "code",
      "source": [
        "modelo = spacy.blank('pt')\n",
        "categorias = modelo.create_pipe(\"textcat\")\n",
        "categorias.add_label(\"POSITIVO\")\n",
        "categorias.add_label(\"NEGATIVO\")\n",
        "modelo.add_pipe(categorias)\n",
        "historico = []"
      ],
      "metadata": {
        "id": "akzSlpw6rcL7"
      },
      "execution_count": null,
      "outputs": []
    },
    {
      "cell_type": "code",
      "source": [
        "modelo.begin_training()\n",
        "for epoca in range(30):\n",
        "  random.shuffle(base_dados_treinamento_final)\n",
        "  losses = {}\n",
        "  for batch in spacy.util.minibatch(base_dados_treinamento_final, 512):\n",
        "    textos = [modelo(texto) for texto, entities in batch]\n",
        "    annotations = [{'cats': entities} for texto, entities in batch]\n",
        "    modelo.update(textos, annotations, losses=losses)\n",
        "    historico.append(losses)\n",
        "  if epoca % 5 == 0:\n",
        "    print(losses)"
      ],
      "metadata": {
        "id": "K4qBQE2-rj-8",
        "outputId": "2b33a14f-8f48-4967-9aab-94611153c5db",
        "colab": {
          "base_uri": "https://localhost:8080/"
        }
      },
      "execution_count": null,
      "outputs": [
        {
          "output_type": "stream",
          "name": "stdout",
          "text": [
            "{'textcat': 1.218205079914908e-05}\n",
            "{'textcat': 2.1349937386304363e-06}\n",
            "{'textcat': 5.643742162159474e-07}\n",
            "{'textcat': 6.993268377214392e-07}\n",
            "{'textcat': 1.5580249531428787e-07}\n",
            "{'textcat': 1.2305827591252308e-07}\n"
          ]
        }
      ]
    },
    {
      "cell_type": "code",
      "metadata": {
        "id": "wSe-tDsCAciN"
      },
      "source": [
        "historico_loss = []\n",
        "for i in historico:\n",
        "  historico_loss.append(i.get('textcat'))"
      ],
      "execution_count": null,
      "outputs": []
    },
    {
      "cell_type": "code",
      "metadata": {
        "id": "ShJhtbYtAr50",
        "colab": {
          "base_uri": "https://localhost:8080/"
        },
        "outputId": "0463d101-a6da-4a9b-83aa-1375ecd08af9"
      },
      "source": [
        "historico_loss = np.array(historico_loss)\n",
        "historico_loss"
      ],
      "execution_count": null,
      "outputs": [
        {
          "output_type": "execute_result",
          "data": {
            "text/plain": [
              "array([1.21820508e-05, 1.21820508e-05, 1.21820508e-05, ...,\n",
              "       3.87862030e-07, 3.87862030e-07, 3.87862030e-07])"
            ]
          },
          "metadata": {},
          "execution_count": 76
        }
      ]
    },
    {
      "cell_type": "code",
      "metadata": {
        "id": "6lEL-QoBA0KI",
        "colab": {
          "base_uri": "https://localhost:8080/",
          "height": 312
        },
        "outputId": "31d7a8e2-3831-4e4a-b34f-c9bb330b1c92"
      },
      "source": [
        "import matplotlib.pyplot as plt\n",
        "plt.plot(historico_loss)\n",
        "plt.title('Progressão do erro')\n",
        "plt.xlabel('Batches')\n",
        "plt.ylabel('Erro')"
      ],
      "execution_count": null,
      "outputs": [
        {
          "output_type": "execute_result",
          "data": {
            "text/plain": [
              "Text(0, 0.5, 'Erro')"
            ]
          },
          "metadata": {},
          "execution_count": 77
        },
        {
          "output_type": "display_data",
          "data": {
            "text/plain": [
              "<Figure size 432x288 with 1 Axes>"
            ],
            "image/png": "[encoded data removed]"
          },
          "metadata": {
            "needs_background": "light"
          }
        }
      ]
    },
    {
      "cell_type": "code",
      "metadata": {
        "id": "amNE8xy_BPSF"
      },
      "source": [
        "modelo.to_disk(\"modelo\")"
      ],
      "execution_count": null,
      "outputs": []
    },
    {
      "cell_type": "markdown",
      "metadata": {
        "id": "ePMk8G0Dl6wg"
      },
      "source": [
        "# Etapa 6: Testes com uma frase"
      ]
    },
    {
      "cell_type": "code",
      "metadata": {
        "id": "W-7DO-DoAyPU",
        "colab": {
          "base_uri": "https://localhost:8080/"
        },
        "outputId": "3f1fdb66-c3ac-4a7a-80b2-9547ee5b9f27"
      },
      "source": [
        "modelo_carregado = spacy.load('modelo')\n",
        "modelo_carregado"
      ],
      "execution_count": null,
      "outputs": [
        {
          "output_type": "execute_result",
          "data": {
            "text/plain": [
              "<spacy.lang.pt.Portuguese at 0x7f8724244050>"
            ]
          },
          "metadata": {},
          "execution_count": 79
        }
      ]
    },
    {
      "cell_type": "markdown",
      "metadata": {
        "id": "RZxpVOP4wJT9"
      },
      "source": [
        "## Texto positivo"
      ]
    },
    {
      "cell_type": "code",
      "metadata": {
        "id": "fGB9HS7BBEK2",
        "colab": {
          "base_uri": "https://localhost:8080/",
          "height": 53
        },
        "outputId": "c166a4cb-d5fe-4f9e-9998-c2fff4ca149f"
      },
      "source": [
        "texto_positivo = base_teste['tweet_text'][1500]\n",
        "texto_positivo"
      ],
      "execution_count": null,
      "outputs": [
        {
          "output_type": "execute_result",
          "data": {
            "text/plain": [
              "'o fernando usuário engajar o plataforma code nation e participar ativamente fórum discussão valer pelar parceria e pelar foto fernando esperar curto o presentar emocaopositiva'"
            ],
            "application/vnd.google.colaboratory.intrinsic+json": {
              "type": "string"
            }
          },
          "metadata": {},
          "execution_count": 82
        }
      ]
    },
    {
      "cell_type": "code",
      "metadata": {
        "id": "NRJW5li7Bpij",
        "colab": {
          "base_uri": "https://localhost:8080/"
        },
        "outputId": "113f5afb-76ba-45ed-a853-dbaf44a98c31"
      },
      "source": [
        "previsao = modelo_carregado(texto_positivo)\n",
        "previsao"
      ],
      "execution_count": null,
      "outputs": [
        {
          "output_type": "execute_result",
          "data": {
            "text/plain": [
              "o fernando usuário engajar o plataforma code nation e participar ativamente fórum discussão valer pelar parceria e pelar foto fernando esperar curto o presentar emocaopositiva"
            ]
          },
          "metadata": {},
          "execution_count": 83
        }
      ]
    },
    {
      "cell_type": "code",
      "metadata": {
        "id": "_XtuIsoMBuz8",
        "colab": {
          "base_uri": "https://localhost:8080/"
        },
        "outputId": "76019fad-4600-495b-9198-1e5738e906d9"
      },
      "source": [
        "previsao.cats"
      ],
      "execution_count": null,
      "outputs": [
        {
          "output_type": "execute_result",
          "data": {
            "text/plain": [
              "{'NEGATIVO': 4.539786823443137e-05, 'POSITIVO': 0.9999545812606812}"
            ]
          },
          "metadata": {},
          "execution_count": 84
        }
      ]
    },
    {
      "cell_type": "markdown",
      "metadata": {
        "id": "eavhsiJ4weg6"
      },
      "source": [
        "## Texto negativo"
      ]
    },
    {
      "cell_type": "code",
      "metadata": {
        "id": "Luyzv_ZcCY9p",
        "colab": {
          "base_uri": "https://localhost:8080/",
          "height": 35
        },
        "outputId": "9aae8c54-3ca8-49fb-bd61-b75f09ee3e96"
      },
      "source": [
        "base_teste['tweet_text'][4000]"
      ],
      "execution_count": null,
      "outputs": [
        {
          "output_type": "execute_result",
          "data": {
            "text/plain": [
              "'  emocaonegativa ai amandoca amar'"
            ],
            "application/vnd.google.colaboratory.intrinsic+json": {
              "type": "string"
            }
          },
          "metadata": {},
          "execution_count": 85
        }
      ]
    },
    {
      "cell_type": "code",
      "metadata": {
        "id": "GgpAm0JFCggN",
        "colab": {
          "base_uri": "https://localhost:8080/"
        },
        "outputId": "f36af9dc-9c57-42d1-8e6a-8e1c351ff18a"
      },
      "source": [
        "texto_negativo = base_teste['tweet_text'][4000]\n",
        "previsao = modelo_carregado(texto_negativo)\n",
        "previsao.cats"
      ],
      "execution_count": null,
      "outputs": [
        {
          "output_type": "execute_result",
          "data": {
            "text/plain": [
              "{'NEGATIVO': 0.9999545812606812, 'POSITIVO': 4.539786823443137e-05}"
            ]
          },
          "metadata": {},
          "execution_count": 86
        }
      ]
    },
    {
      "cell_type": "markdown",
      "metadata": {
        "id": "KhF2vtEsnlpM"
      },
      "source": [
        "# Etapa 7: Avaliação do modelo"
      ]
    },
    {
      "cell_type": "markdown",
      "metadata": {
        "id": "sJzwpVWNACFi"
      },
      "source": [
        "## Avaliação na base de treinamento\n"
      ]
    },
    {
      "cell_type": "code",
      "metadata": {
        "id": "6NoTHRADDZ0Z"
      },
      "source": [
        "previsoes = []\n",
        "for texto in base_treinamento['tweet_text']:\n",
        "  previsao = modelo_carregado(texto)\n",
        "  previsoes.append(previsao.cats)"
      ],
      "execution_count": null,
      "outputs": []
    },
    {
      "cell_type": "code",
      "metadata": {
        "id": "8lRO94OuDvLZ",
        "colab": {
          "base_uri": "https://localhost:8080/"
        },
        "outputId": "ff03b9c6-4d3e-4d53-e933-81673a15683c"
      },
      "source": [
        "previsoes"
      ],
      "execution_count": null,
      "outputs": [
        {
          "output_type": "execute_result",
          "data": {
            "text/plain": [
              "[{'NEGATIVO': 4.539786823443137e-05, 'POSITIVO': 0.9999545812606812},\n",
              " {'NEGATIVO': 4.539786823443137e-05, 'POSITIVO': 0.9999545812606812},\n",
              " {'NEGATIVO': 0.00017669676162768155, 'POSITIVO': 0.9999545812606812},\n",
              " {'NEGATIVO': 4.539786823443137e-05, 'POSITIVO': 0.9999545812606812},\n",
              " {'NEGATIVO': 4.539786823443137e-05, 'POSITIVO': 0.9999545812606812},\n",
              " {'NEGATIVO': 4.835149593418464e-05, 'POSITIVO': 0.9999545812606812},\n",
              " {'NEGATIVO': 4.539786823443137e-05, 'POSITIVO': 0.9999545812606812},\n",
              " {'NEGATIVO': 7.901422213762999e-05, 'POSITIVO': 0.9999545812606812},\n",
              " {'NEGATIVO': 4.539786823443137e-05, 'POSITIVO': 0.9999545812606812},\n",
              " {'NEGATIVO': 4.539786823443137e-05, 'POSITIVO': 0.9999545812606812},\n",
              " {'NEGATIVO': 6.5806889324449e-05, 'POSITIVO': 0.9999545812606812},\n",
              " {'NEGATIVO': 4.539786823443137e-05, 'POSITIVO': 0.9999545812606812},\n",
              " {'NEGATIVO': 8.816719491733238e-05, 'POSITIVO': 0.9999545812606812},\n",
              " {'NEGATIVO': 4.539786823443137e-05, 'POSITIVO': 0.9999545812606812},\n",
              " {'NEGATIVO': 4.539786823443137e-05, 'POSITIVO': 0.9999545812606812},\n",
              " {'NEGATIVO': 9.346498700324446e-05, 'POSITIVO': 0.9999545812606812},\n",
              " {'NEGATIVO': 4.539786823443137e-05, 'POSITIVO': 0.9999545812606812},\n",
              " {'NEGATIVO': 4.539786823443137e-05, 'POSITIVO': 0.9999545812606812},\n",
              " {'NEGATIVO': 4.539786823443137e-05, 'POSITIVO': 0.9999545812606812},\n",
              " {'NEGATIVO': 4.769747465616092e-05, 'POSITIVO': 0.9999545812606812},\n",
              " {'NEGATIVO': 6.275129999266937e-05, 'POSITIVO': 0.9999545812606812},\n",
              " {'NEGATIVO': 4.539786823443137e-05, 'POSITIVO': 0.9999545812606812},\n",
              " {'NEGATIVO': 9.90105327218771e-05, 'POSITIVO': 0.9999545812606812},\n",
              " {'NEGATIVO': 0.0003488732036203146, 'POSITIVO': 0.999929666519165},\n",
              " {'NEGATIVO': 0.0005330579006113112, 'POSITIVO': 0.9999163150787354},\n",
              " {'NEGATIVO': 4.539786823443137e-05, 'POSITIVO': 0.9999545812606812},\n",
              " {'NEGATIVO': 4.539786823443137e-05, 'POSITIVO': 0.9999545812606812},\n",
              " {'NEGATIVO': 4.539786823443137e-05, 'POSITIVO': 0.9999545812606812},\n",
              " {'NEGATIVO': 0.0001102056194213219, 'POSITIVO': 0.9999545812606812},\n",
              " {'NEGATIVO': 4.539786823443137e-05, 'POSITIVO': 0.9999545812606812},\n",
              " {'NEGATIVO': 4.539786823443137e-05, 'POSITIVO': 0.9999545812606812},\n",
              " {'NEGATIVO': 5.4424552217824385e-05, 'POSITIVO': 0.9999545812606812},\n",
              " {'NEGATIVO': 4.539786823443137e-05, 'POSITIVO': 0.9999545812606812},\n",
              " {'NEGATIVO': 9.28277731873095e-05, 'POSITIVO': 0.9999545812606812},\n",
              " {'NEGATIVO': 4.539786823443137e-05, 'POSITIVO': 0.9999545812606812},\n",
              " {'NEGATIVO': 0.0002303889486938715, 'POSITIVO': 0.999943733215332},\n",
              " {'NEGATIVO': 4.539786823443137e-05, 'POSITIVO': 0.9999545812606812},\n",
              " {'NEGATIVO': 4.539786823443137e-05, 'POSITIVO': 0.9999545812606812},\n",
              " {'NEGATIVO': 4.875766535406001e-05, 'POSITIVO': 0.9999545812606812},\n",
              " {'NEGATIVO': 5.586435509030707e-05, 'POSITIVO': 0.9999545812606812},\n",
              " {'NEGATIVO': 4.539786823443137e-05, 'POSITIVO': 0.9999545812606812},\n",
              " {'NEGATIVO': 6.676864722976461e-05, 'POSITIVO': 0.9999545812606812},\n",
              " {'NEGATIVO': 4.539786823443137e-05, 'POSITIVO': 0.9999545812606812},\n",
              " {'NEGATIVO': 4.539786823443137e-05, 'POSITIVO': 0.9999545812606812},\n",
              " {'NEGATIVO': 6.712712638545781e-05, 'POSITIVO': 0.9999545812606812},\n",
              " {'NEGATIVO': 4.539786823443137e-05, 'POSITIVO': 0.9999545812606812},\n",
              " {'NEGATIVO': 4.539786823443137e-05, 'POSITIVO': 0.9999545812606812},\n",
              " {'NEGATIVO': 7.141574315028265e-05, 'POSITIVO': 0.9999545812606812},\n",
              " {'NEGATIVO': 4.539786823443137e-05, 'POSITIVO': 0.9999545812606812},\n",
              " {'NEGATIVO': 4.539786823443137e-05, 'POSITIVO': 0.9999545812606812},\n",
              " {'NEGATIVO': 0.00014124748122412711, 'POSITIVO': 0.9999545812606812},\n",
              " {'NEGATIVO': 4.539786823443137e-05, 'POSITIVO': 0.9999545812606812},\n",
              " {'NEGATIVO': 4.539786823443137e-05, 'POSITIVO': 0.9999545812606812},\n",
              " {'NEGATIVO': 4.539786823443137e-05, 'POSITIVO': 0.9999545812606812},\n",
              " {'NEGATIVO': 4.539786823443137e-05, 'POSITIVO': 0.9999545812606812},\n",
              " {'NEGATIVO': 4.539786823443137e-05, 'POSITIVO': 0.9999545812606812},\n",
              " {'NEGATIVO': 4.539786823443137e-05, 'POSITIVO': 0.9999545812606812},\n",
              " {'NEGATIVO': 4.539786823443137e-05, 'POSITIVO': 0.9999545812606812},\n",
              " {'NEGATIVO': 0.00015587679808959365, 'POSITIVO': 0.9999545812606812},\n",
              " {'NEGATIVO': 8.593474922236055e-05, 'POSITIVO': 0.9999545812606812},\n",
              " {'NEGATIVO': 0.00010296162508893758, 'POSITIVO': 0.9999545812606812},\n",
              " {'NEGATIVO': 4.539786823443137e-05, 'POSITIVO': 0.9999545812606812},\n",
              " {'NEGATIVO': 4.539786823443137e-05, 'POSITIVO': 0.9999545812606812},\n",
              " {'NEGATIVO': 4.539786823443137e-05, 'POSITIVO': 0.9999545812606812},\n",
              " {'NEGATIVO': 9.010545181808993e-05, 'POSITIVO': 0.9999545812606812},\n",
              " {'NEGATIVO': 4.546337731881067e-05, 'POSITIVO': 0.9999545812606812},\n",
              " {'NEGATIVO': 4.539786823443137e-05, 'POSITIVO': 0.9999545812606812},\n",
              " {'NEGATIVO': 5.296237577567808e-05, 'POSITIVO': 0.9999545812606812},\n",
              " {'NEGATIVO': 4.539786823443137e-05, 'POSITIVO': 0.9999545812606812},\n",
              " {'NEGATIVO': 4.539786823443137e-05, 'POSITIVO': 0.9999545812606812},\n",
              " {'NEGATIVO': 4.539786823443137e-05, 'POSITIVO': 0.9999545812606812},\n",
              " {'NEGATIVO': 6.275129999266937e-05, 'POSITIVO': 0.9999545812606812},\n",
              " {'NEGATIVO': 4.601325417752378e-05, 'POSITIVO': 0.9999545812606812},\n",
              " {'NEGATIVO': 0.00014141242718324065, 'POSITIVO': 0.9999545812606812},\n",
              " {'NEGATIVO': 4.539786823443137e-05, 'POSITIVO': 0.9999545812606812},\n",
              " {'NEGATIVO': 4.539786823443137e-05, 'POSITIVO': 0.9999545812606812},\n",
              " {'NEGATIVO': 4.539786823443137e-05, 'POSITIVO': 0.9999545812606812},\n",
              " {'NEGATIVO': 0.00016368820797652006, 'POSITIVO': 0.9999545812606812},\n",
              " {'NEGATIVO': 0.0001243773294845596, 'POSITIVO': 0.9999545812606812},\n",
              " {'NEGATIVO': 0.00036625456414185464, 'POSITIVO': 0.9999344348907471},\n",
              " {'NEGATIVO': 7.508700218750164e-05, 'POSITIVO': 0.9999545812606812},\n",
              " {'NEGATIVO': 0.00015645319945178926, 'POSITIVO': 0.9999545812606812},\n",
              " {'NEGATIVO': 7.614668720634654e-05, 'POSITIVO': 0.9999545812606812},\n",
              " {'NEGATIVO': 6.275129999266937e-05, 'POSITIVO': 0.9999545812606812},\n",
              " {'NEGATIVO': 0.0003442535817157477, 'POSITIVO': 0.9999545812606812},\n",
              " {'NEGATIVO': 4.539786823443137e-05, 'POSITIVO': 0.9999545812606812},\n",
              " {'NEGATIVO': 4.994214395992458e-05, 'POSITIVO': 0.9999545812606812},\n",
              " {'NEGATIVO': 4.539786823443137e-05, 'POSITIVO': 0.9999545812606812},\n",
              " {'NEGATIVO': 4.539786823443137e-05, 'POSITIVO': 0.9999545812606812},\n",
              " {'NEGATIVO': 4.539786823443137e-05, 'POSITIVO': 0.9999545812606812},\n",
              " {'NEGATIVO': 7.698737317696214e-05, 'POSITIVO': 0.9999545812606812},\n",
              " {'NEGATIVO': 7.823806663509458e-05, 'POSITIVO': 0.9999545812606812},\n",
              " {'NEGATIVO': 4.539786823443137e-05, 'POSITIVO': 0.9999545812606812},\n",
              " {'NEGATIVO': 4.539786823443137e-05, 'POSITIVO': 0.9999545812606812},\n",
              " {'NEGATIVO': 0.00012856746616307646, 'POSITIVO': 0.9999545812606812},\n",
              " {'NEGATIVO': 4.539786823443137e-05, 'POSITIVO': 0.9999545812606812},\n",
              " {'NEGATIVO': 4.539786823443137e-05, 'POSITIVO': 0.9999545812606812},\n",
              " {'NEGATIVO': 0.00013368068903218955, 'POSITIVO': 0.9999545812606812},\n",
              " {'NEGATIVO': 4.539786823443137e-05, 'POSITIVO': 0.9999545812606812},\n",
              " {'NEGATIVO': 5.4970569181023166e-05, 'POSITIVO': 0.9999545812606812},\n",
              " {'NEGATIVO': 4.539786823443137e-05, 'POSITIVO': 0.9999545812606812},\n",
              " {'NEGATIVO': 8.482171688228846e-05, 'POSITIVO': 0.9999545812606812},\n",
              " {'NEGATIVO': 0.00018726901907939464, 'POSITIVO': 0.9999545812606812},\n",
              " {'NEGATIVO': 4.539786823443137e-05, 'POSITIVO': 0.9999545812606812},\n",
              " {'NEGATIVO': 4.539786823443137e-05, 'POSITIVO': 0.9999545812606812},\n",
              " {'NEGATIVO': 4.539786823443137e-05, 'POSITIVO': 0.9999545812606812},\n",
              " {'NEGATIVO': 4.539786823443137e-05, 'POSITIVO': 0.9999545812606812},\n",
              " {'NEGATIVO': 0.00021269297576509416, 'POSITIVO': 0.9999545812606812},\n",
              " {'NEGATIVO': 4.539786823443137e-05, 'POSITIVO': 0.9999545812606812},\n",
              " {'NEGATIVO': 7.764251495245844e-05, 'POSITIVO': 0.9999545812606812},\n",
              " {'NEGATIVO': 0.0001357630389975384, 'POSITIVO': 0.9999545812606812},\n",
              " {'NEGATIVO': 0.00010663234570529312, 'POSITIVO': 0.9999545812606812},\n",
              " {'NEGATIVO': 4.539786823443137e-05, 'POSITIVO': 0.9999545812606812},\n",
              " {'NEGATIVO': 7.545709377154708e-05, 'POSITIVO': 0.9999545812606812},\n",
              " {'NEGATIVO': 0.00024021397985052317, 'POSITIVO': 0.9999545812606812},\n",
              " {'NEGATIVO': 4.539786823443137e-05, 'POSITIVO': 0.9999545812606812},\n",
              " {'NEGATIVO': 4.539786823443137e-05, 'POSITIVO': 0.9999545812606812},\n",
              " {'NEGATIVO': 7.490149437217042e-05, 'POSITIVO': 0.9999545812606812},\n",
              " {'NEGATIVO': 4.539786823443137e-05, 'POSITIVO': 0.9999545812606812},\n",
              " {'NEGATIVO': 4.539786823443137e-05, 'POSITIVO': 0.9999545812606812},\n",
              " {'NEGATIVO': 0.00015822183922864497, 'POSITIVO': 0.9999545812606812},\n",
              " {'NEGATIVO': 4.539786823443137e-05, 'POSITIVO': 0.9999545812606812},\n",
              " {'NEGATIVO': 4.539786823443137e-05, 'POSITIVO': 0.9999545812606812},\n",
              " {'NEGATIVO': 4.539786823443137e-05, 'POSITIVO': 0.9999545812606812},\n",
              " {'NEGATIVO': 4.539786823443137e-05, 'POSITIVO': 0.9999545812606812},\n",
              " {'NEGATIVO': 4.539786823443137e-05, 'POSITIVO': 0.9999545812606812},\n",
              " {'NEGATIVO': 4.539786823443137e-05, 'POSITIVO': 0.9999545812606812},\n",
              " {'NEGATIVO': 4.539786823443137e-05, 'POSITIVO': 0.9999545812606812},\n",
              " {'NEGATIVO': 4.552419704850763e-05, 'POSITIVO': 0.9999545812606812},\n",
              " {'NEGATIVO': 4.539786823443137e-05, 'POSITIVO': 0.9999545812606812},\n",
              " {'NEGATIVO': 4.539786823443137e-05, 'POSITIVO': 0.9999545812606812},\n",
              " {'NEGATIVO': 0.00012037176929879934, 'POSITIVO': 0.9999545812606812},\n",
              " {'NEGATIVO': 7.764251495245844e-05, 'POSITIVO': 0.9999545812606812},\n",
              " {'NEGATIVO': 4.539786823443137e-05, 'POSITIVO': 0.9999545812606812},\n",
              " {'NEGATIVO': 4.539786823443137e-05, 'POSITIVO': 0.9999545812606812},\n",
              " {'NEGATIVO': 4.539786823443137e-05, 'POSITIVO': 0.9999545812606812},\n",
              " {'NEGATIVO': 4.539786823443137e-05, 'POSITIVO': 0.9999545812606812},\n",
              " {'NEGATIVO': 0.0001143424233305268, 'POSITIVO': 0.9999545812606812},\n",
              " {'NEGATIVO': 4.539786823443137e-05, 'POSITIVO': 0.9999545812606812},\n",
              " {'NEGATIVO': 4.539786823443137e-05, 'POSITIVO': 0.9999545812606812},\n",
              " {'NEGATIVO': 4.539786823443137e-05, 'POSITIVO': 0.9999545812606812},\n",
              " {'NEGATIVO': 4.539786823443137e-05, 'POSITIVO': 0.9999545812606812},\n",
              " {'NEGATIVO': 4.539786823443137e-05, 'POSITIVO': 0.9999545812606812},\n",
              " {'NEGATIVO': 4.539786823443137e-05, 'POSITIVO': 0.9999545812606812},\n",
              " {'NEGATIVO': 4.539786823443137e-05, 'POSITIVO': 0.9999545812606812},\n",
              " {'NEGATIVO': 4.539786823443137e-05, 'POSITIVO': 0.9999545812606812},\n",
              " {'NEGATIVO': 6.69552173349075e-05, 'POSITIVO': 0.9999545812606812},\n",
              " {'NEGATIVO': 7.092337182257324e-05, 'POSITIVO': 0.9999545812606812},\n",
              " {'NEGATIVO': 4.539786823443137e-05, 'POSITIVO': 0.9999545812606812},\n",
              " {'NEGATIVO': 4.539786823443137e-05, 'POSITIVO': 0.9999545812606812},\n",
              " {'NEGATIVO': 4.539786823443137e-05, 'POSITIVO': 0.9999545812606812},\n",
              " {'NEGATIVO': 6.016704355715774e-05, 'POSITIVO': 0.9999545812606812},\n",
              " {'NEGATIVO': 4.539786823443137e-05, 'POSITIVO': 0.9999545812606812},\n",
              " {'NEGATIVO': 0.00011619258293649182, 'POSITIVO': 0.9999545812606812},\n",
              " {'NEGATIVO': 4.539786823443137e-05, 'POSITIVO': 0.9999545812606812},\n",
              " {'NEGATIVO': 4.539786823443137e-05, 'POSITIVO': 0.9999545812606812},\n",
              " {'NEGATIVO': 7.27299484424293e-05, 'POSITIVO': 0.9999545812606812},\n",
              " {'NEGATIVO': 4.539786823443137e-05, 'POSITIVO': 0.9999545812606812},\n",
              " {'NEGATIVO': 4.539786823443137e-05, 'POSITIVO': 0.9999545812606812},\n",
              " {'NEGATIVO': 5.4144136811373755e-05, 'POSITIVO': 0.9999545812606812},\n",
              " {'NEGATIVO': 4.539786823443137e-05, 'POSITIVO': 0.9999545812606812},\n",
              " {'NEGATIVO': 6.134717114036903e-05, 'POSITIVO': 0.9999545812606812},\n",
              " {'NEGATIVO': 5.41775043529924e-05, 'POSITIVO': 0.9999545812606812},\n",
              " {'NEGATIVO': 4.539786823443137e-05, 'POSITIVO': 0.9999545812606812},\n",
              " {'NEGATIVO': 4.539786823443137e-05, 'POSITIVO': 0.9999545812606812},\n",
              " {'NEGATIVO': 4.539786823443137e-05, 'POSITIVO': 0.9999545812606812},\n",
              " {'NEGATIVO': 4.539786823443137e-05, 'POSITIVO': 0.9999545812606812},\n",
              " {'NEGATIVO': 4.539786823443137e-05, 'POSITIVO': 0.9999545812606812},\n",
              " {'NEGATIVO': 6.636460602749139e-05, 'POSITIVO': 0.9999545812606812},\n",
              " {'NEGATIVO': 0.0002143372839782387, 'POSITIVO': 0.9999545812606812},\n",
              " {'NEGATIVO': 4.539786823443137e-05, 'POSITIVO': 0.9999545812606812},\n",
              " {'NEGATIVO': 4.539786823443137e-05, 'POSITIVO': 0.9999545812606812},\n",
              " {'NEGATIVO': 4.539786823443137e-05, 'POSITIVO': 0.9999545812606812},\n",
              " {'NEGATIVO': 0.00013564321852754802, 'POSITIVO': 0.9999545812606812},\n",
              " {'NEGATIVO': 4.539786823443137e-05, 'POSITIVO': 0.9999545812606812},\n",
              " {'NEGATIVO': 4.539786823443137e-05, 'POSITIVO': 0.9999545812606812},\n",
              " {'NEGATIVO': 4.539786823443137e-05, 'POSITIVO': 0.9999545812606812},\n",
              " {'NEGATIVO': 8.872165199136361e-05, 'POSITIVO': 0.9999545812606812},\n",
              " {'NEGATIVO': 6.203966768225655e-05, 'POSITIVO': 0.9999545812606812},\n",
              " {'NEGATIVO': 4.539786823443137e-05, 'POSITIVO': 0.9999545812606812},\n",
              " {'NEGATIVO': 4.539786823443137e-05, 'POSITIVO': 0.9999545812606812},\n",
              " {'NEGATIVO': 4.539786823443137e-05, 'POSITIVO': 0.9999545812606812},\n",
              " {'NEGATIVO': 4.539786823443137e-05, 'POSITIVO': 0.9999545812606812},\n",
              " {'NEGATIVO': 9.602619684301317e-05, 'POSITIVO': 0.9999545812606812},\n",
              " {'NEGATIVO': 0.00016876070003490895, 'POSITIVO': 0.9999545812606812},\n",
              " {'NEGATIVO': 4.539786823443137e-05, 'POSITIVO': 0.9999545812606812},\n",
              " {'NEGATIVO': 5.007534127798863e-05, 'POSITIVO': 0.9999545812606812},\n",
              " {'NEGATIVO': 4.810099198948592e-05, 'POSITIVO': 0.9999545812606812},\n",
              " {'NEGATIVO': 0.00016321254952345043, 'POSITIVO': 0.9999545812606812},\n",
              " {'NEGATIVO': 4.539786823443137e-05, 'POSITIVO': 0.9999545812606812},\n",
              " {'NEGATIVO': 9.937213326338679e-05, 'POSITIVO': 0.9999545812606812},\n",
              " {'NEGATIVO': 4.539786823443137e-05, 'POSITIVO': 0.9999545812606812},\n",
              " {'NEGATIVO': 4.539786823443137e-05, 'POSITIVO': 0.9999545812606812},\n",
              " {'NEGATIVO': 4.539786823443137e-05, 'POSITIVO': 0.9999545812606812},\n",
              " {'NEGATIVO': 4.539786823443137e-05, 'POSITIVO': 0.9999545812606812},\n",
              " {'NEGATIVO': 4.539786823443137e-05, 'POSITIVO': 0.9999545812606812},\n",
              " {'NEGATIVO': 0.00018575298599898815, 'POSITIVO': 0.9999545812606812},\n",
              " {'NEGATIVO': 6.969056994421408e-05, 'POSITIVO': 0.9999545812606812},\n",
              " {'NEGATIVO': 4.539786823443137e-05, 'POSITIVO': 0.9999545812606812},\n",
              " {'NEGATIVO': 4.849173637921922e-05, 'POSITIVO': 0.9999545812606812},\n",
              " {'NEGATIVO': 4.726334736915305e-05, 'POSITIVO': 0.9999545812606812},\n",
              " {'NEGATIVO': 4.539786823443137e-05, 'POSITIVO': 0.9999545812606812},\n",
              " {'NEGATIVO': 4.539786823443137e-05, 'POSITIVO': 0.9999545812606812},\n",
              " {'NEGATIVO': 0.0002058354002656415, 'POSITIVO': 0.9999545812606812},\n",
              " {'NEGATIVO': 7.476875907741487e-05, 'POSITIVO': 0.9999545812606812},\n",
              " {'NEGATIVO': 7.064148667268455e-05, 'POSITIVO': 0.9999545812606812},\n",
              " {'NEGATIVO': 4.539786823443137e-05, 'POSITIVO': 0.9999545812606812},\n",
              " {'NEGATIVO': 4.539786823443137e-05, 'POSITIVO': 0.9999545812606812},\n",
              " {'NEGATIVO': 4.539786823443137e-05, 'POSITIVO': 0.9999545812606812},\n",
              " {'NEGATIVO': 4.539786823443137e-05, 'POSITIVO': 0.9999545812606812},\n",
              " {'NEGATIVO': 4.539786823443137e-05, 'POSITIVO': 0.9999545812606812},\n",
              " {'NEGATIVO': 0.00010835774446604773, 'POSITIVO': 0.9999545812606812},\n",
              " {'NEGATIVO': 4.539786823443137e-05, 'POSITIVO': 0.9999545812606812},\n",
              " {'NEGATIVO': 4.539786823443137e-05, 'POSITIVO': 0.9999545812606812},\n",
              " {'NEGATIVO': 4.539786823443137e-05, 'POSITIVO': 0.9999545812606812},\n",
              " {'NEGATIVO': 0.0001857246388681233, 'POSITIVO': 0.9999545812606812},\n",
              " {'NEGATIVO': 4.539786823443137e-05, 'POSITIVO': 0.9999545812606812},\n",
              " {'NEGATIVO': 9.638269693823531e-05, 'POSITIVO': 0.9999545812606812},\n",
              " {'NEGATIVO': 0.00010687400208553299, 'POSITIVO': 0.9999545812606812},\n",
              " {'NEGATIVO': 4.539786823443137e-05, 'POSITIVO': 0.9999545812606812},\n",
              " {'NEGATIVO': 0.0001622995623620227, 'POSITIVO': 0.9999545812606812},\n",
              " {'NEGATIVO': 4.539786823443137e-05, 'POSITIVO': 0.9999545812606812},\n",
              " {'NEGATIVO': 4.539786823443137e-05, 'POSITIVO': 0.9999545812606812},\n",
              " {'NEGATIVO': 4.539786823443137e-05, 'POSITIVO': 0.9999545812606812},\n",
              " {'NEGATIVO': 4.539786823443137e-05, 'POSITIVO': 0.9999545812606812},\n",
              " {'NEGATIVO': 6.682176899630576e-05, 'POSITIVO': 0.9999545812606812},\n",
              " {'NEGATIVO': 4.9582013161852956e-05, 'POSITIVO': 0.9999545812606812},\n",
              " {'NEGATIVO': 5.623621109407395e-05, 'POSITIVO': 0.9999545812606812},\n",
              " {'NEGATIVO': 4.539786823443137e-05, 'POSITIVO': 0.9999545812606812},\n",
              " {'NEGATIVO': 4.539786823443137e-05, 'POSITIVO': 0.9999545812606812},\n",
              " {'NEGATIVO': 4.539786823443137e-05, 'POSITIVO': 0.9999545812606812},\n",
              " {'NEGATIVO': 4.539786823443137e-05, 'POSITIVO': 0.9999545812606812},\n",
              " {'NEGATIVO': 4.539786823443137e-05, 'POSITIVO': 0.9999545812606812},\n",
              " {'NEGATIVO': 4.539786823443137e-05, 'POSITIVO': 0.9999545812606812},\n",
              " {'NEGATIVO': 5.605534533970058e-05, 'POSITIVO': 0.9999545812606812},\n",
              " {'NEGATIVO': 4.539786823443137e-05, 'POSITIVO': 0.9999545812606812},\n",
              " {'NEGATIVO': 0.00011622095189522952, 'POSITIVO': 0.9999545812606812},\n",
              " {'NEGATIVO': 0.0001625416480237618, 'POSITIVO': 0.9999545812606812},\n",
              " {'NEGATIVO': 0.0006574076833203435, 'POSITIVO': 0.9998098015785217},\n",
              " {'NEGATIVO': 6.759353709639981e-05, 'POSITIVO': 0.9999545812606812},\n",
              " {'NEGATIVO': 4.539786823443137e-05, 'POSITIVO': 0.9999545812606812},\n",
              " {'NEGATIVO': 4.539786823443137e-05, 'POSITIVO': 0.9999545812606812},\n",
              " {'NEGATIVO': 4.539786823443137e-05, 'POSITIVO': 0.9999545812606812},\n",
              " {'NEGATIVO': 0.00022471828560810536, 'POSITIVO': 0.9999545812606812},\n",
              " {'NEGATIVO': 7.739331340417266e-05, 'POSITIVO': 0.9999545812606812},\n",
              " {'NEGATIVO': 9.654523455537856e-05, 'POSITIVO': 0.9999545812606812},\n",
              " {'NEGATIVO': 0.0002339747006772086, 'POSITIVO': 0.999944806098938},\n",
              " {'NEGATIVO': 0.00012326121213845909, 'POSITIVO': 0.9999545812606812},\n",
              " {'NEGATIVO': 4.539786823443137e-05, 'POSITIVO': 0.9999545812606812},\n",
              " {'NEGATIVO': 0.00010284289601258934, 'POSITIVO': 0.9999545812606812},\n",
              " {'NEGATIVO': 0.00022833158436696976, 'POSITIVO': 0.9999545812606812},\n",
              " {'NEGATIVO': 4.539786823443137e-05, 'POSITIVO': 0.9999545812606812},\n",
              " {'NEGATIVO': 4.8461268306709826e-05, 'POSITIVO': 0.9999545812606812},\n",
              " {'NEGATIVO': 4.539786823443137e-05, 'POSITIVO': 0.9999545812606812},\n",
              " {'NEGATIVO': 4.539786823443137e-05, 'POSITIVO': 0.9999545812606812},\n",
              " {'NEGATIVO': 4.539786823443137e-05, 'POSITIVO': 0.9999545812606812},\n",
              " {'NEGATIVO': 0.0002331978757865727, 'POSITIVO': 0.9999545812606812},\n",
              " {'NEGATIVO': 0.000313199037918821, 'POSITIVO': 0.9999537467956543},\n",
              " {'NEGATIVO': 0.00012066218914696947, 'POSITIVO': 0.9999545812606812},\n",
              " {'NEGATIVO': 0.00015205403906293213, 'POSITIVO': 0.9999545812606812},\n",
              " {'NEGATIVO': 4.539786823443137e-05, 'POSITIVO': 0.9999545812606812},\n",
              " {'NEGATIVO': 4.539786823443137e-05, 'POSITIVO': 0.9999545812606812},\n",
              " {'NEGATIVO': 8.368017734028399e-05, 'POSITIVO': 0.9999545812606812},\n",
              " {'NEGATIVO': 4.539786823443137e-05, 'POSITIVO': 0.9999545812606812},\n",
              " {'NEGATIVO': 4.539786823443137e-05, 'POSITIVO': 0.9999545812606812},\n",
              " {'NEGATIVO': 4.539786823443137e-05, 'POSITIVO': 0.9999545812606812},\n",
              " {'NEGATIVO': 4.539786823443137e-05, 'POSITIVO': 0.9999545812606812},\n",
              " {'NEGATIVO': 4.539786823443137e-05, 'POSITIVO': 0.9999545812606812},\n",
              " {'NEGATIVO': 0.0005401796661317348, 'POSITIVO': 0.9998432397842407},\n",
              " {'NEGATIVO': 4.539786823443137e-05, 'POSITIVO': 0.9999545812606812},\n",
              " {'NEGATIVO': 8.81083615240641e-05, 'POSITIVO': 0.9999545812606812},\n",
              " {'NEGATIVO': 0.00011723181523848325, 'POSITIVO': 0.9999545812606812},\n",
              " {'NEGATIVO': 4.539786823443137e-05, 'POSITIVO': 0.9999545812606812},\n",
              " {'NEGATIVO': 4.628120950656012e-05, 'POSITIVO': 0.9999545812606812},\n",
              " {'NEGATIVO': 0.0001834585564211011, 'POSITIVO': 0.9999545812606812},\n",
              " {'NEGATIVO': 4.539786823443137e-05, 'POSITIVO': 0.9999545812606812},\n",
              " {'NEGATIVO': 4.539786823443137e-05, 'POSITIVO': 0.9999545812606812},\n",
              " {'NEGATIVO': 4.539786823443137e-05, 'POSITIVO': 0.9999545812606812},\n",
              " {'NEGATIVO': 4.539786823443137e-05, 'POSITIVO': 0.9999545812606812},\n",
              " {'NEGATIVO': 7.186616130638868e-05, 'POSITIVO': 0.9999545812606812},\n",
              " {'NEGATIVO': 5.039044845034368e-05, 'POSITIVO': 0.9999545812606812},\n",
              " {'NEGATIVO': 4.539786823443137e-05, 'POSITIVO': 0.9999545812606812},\n",
              " {'NEGATIVO': 4.539786823443137e-05, 'POSITIVO': 0.9999545812606812},\n",
              " {'NEGATIVO': 4.539786823443137e-05, 'POSITIVO': 0.9999545812606812},\n",
              " {'NEGATIVO': 0.0001540829543955624, 'POSITIVO': 0.9999545812606812},\n",
              " {'NEGATIVO': 0.00013561308151111007, 'POSITIVO': 0.9999545812606812},\n",
              " {'NEGATIVO': 4.539786823443137e-05, 'POSITIVO': 0.9999545812606812},\n",
              " {'NEGATIVO': 4.539786823443137e-05, 'POSITIVO': 0.9999545812606812},\n",
              " {'NEGATIVO': 4.539786823443137e-05, 'POSITIVO': 0.9999545812606812},\n",
              " {'NEGATIVO': 4.539786823443137e-05, 'POSITIVO': 0.9999545812606812},\n",
              " {'NEGATIVO': 6.247776764212176e-05, 'POSITIVO': 0.9999545812606812},\n",
              " {'NEGATIVO': 4.539786823443137e-05, 'POSITIVO': 0.9999545812606812},\n",
              " {'NEGATIVO': 4.539786823443137e-05, 'POSITIVO': 0.9999545812606812},\n",
              " {'NEGATIVO': 4.539786823443137e-05, 'POSITIVO': 0.9999545812606812},\n",
              " {'NEGATIVO': 4.539786823443137e-05, 'POSITIVO': 0.9999545812606812},\n",
              " {'NEGATIVO': 4.539786823443137e-05, 'POSITIVO': 0.9999545812606812},\n",
              " {'NEGATIVO': 4.539786823443137e-05, 'POSITIVO': 0.9999545812606812},\n",
              " {'NEGATIVO': 4.539786823443137e-05, 'POSITIVO': 0.9999545812606812},\n",
              " {'NEGATIVO': 4.539786823443137e-05, 'POSITIVO': 0.9999545812606812},\n",
              " {'NEGATIVO': 4.539786823443137e-05, 'POSITIVO': 0.9999545812606812},\n",
              " {'NEGATIVO': 6.059989027562551e-05, 'POSITIVO': 0.9999545812606812},\n",
              " {'NEGATIVO': 7.67059755162336e-05, 'POSITIVO': 0.9999545812606812},\n",
              " {'NEGATIVO': 4.539786823443137e-05, 'POSITIVO': 0.9999545812606812},\n",
              " {'NEGATIVO': 4.539786823443137e-05, 'POSITIVO': 0.9999545812606812},\n",
              " {'NEGATIVO': 4.539786823443137e-05, 'POSITIVO': 0.9999545812606812},\n",
              " {'NEGATIVO': 4.539786823443137e-05, 'POSITIVO': 0.9999545812606812},\n",
              " {'NEGATIVO': 4.539786823443137e-05, 'POSITIVO': 0.9999545812606812},\n",
              " {'NEGATIVO': 4.539786823443137e-05, 'POSITIVO': 0.9999545812606812},\n",
              " {'NEGATIVO': 4.539786823443137e-05, 'POSITIVO': 0.9999545812606812},\n",
              " {'NEGATIVO': 4.539786823443137e-05, 'POSITIVO': 0.9999545812606812},\n",
              " {'NEGATIVO': 9.925621998263523e-05, 'POSITIVO': 0.9999545812606812},\n",
              " {'NEGATIVO': 0.00018211985297966748, 'POSITIVO': 0.9999545812606812},\n",
              " {'NEGATIVO': 4.539786823443137e-05, 'POSITIVO': 0.9999545812606812},\n",
              " {'NEGATIVO': 5.873660484212451e-05, 'POSITIVO': 0.9999545812606812},\n",
              " {'NEGATIVO': 4.539786823443137e-05, 'POSITIVO': 0.9999545812606812},\n",
              " {'NEGATIVO': 4.539786823443137e-05, 'POSITIVO': 0.9999545812606812},\n",
              " {'NEGATIVO': 4.539786823443137e-05, 'POSITIVO': 0.9999545812606812},\n",
              " {'NEGATIVO': 7.395158900180832e-05, 'POSITIVO': 0.9999545812606812},\n",
              " {'NEGATIVO': 4.539786823443137e-05, 'POSITIVO': 0.9999545812606812},\n",
              " {'NEGATIVO': 4.539786823443137e-05, 'POSITIVO': 0.9999545812606812},\n",
              " {'NEGATIVO': 4.539786823443137e-05, 'POSITIVO': 0.9999545812606812},\n",
              " {'NEGATIVO': 4.539786823443137e-05, 'POSITIVO': 0.9999545812606812},\n",
              " {'NEGATIVO': 4.539786823443137e-05, 'POSITIVO': 0.9999545812606812},\n",
              " {'NEGATIVO': 4.9703252443578094e-05, 'POSITIVO': 0.9999545812606812},\n",
              " {'NEGATIVO': 4.539786823443137e-05, 'POSITIVO': 0.9999545812606812},\n",
              " {'NEGATIVO': 4.539786823443137e-05, 'POSITIVO': 0.9999545812606812},\n",
              " {'NEGATIVO': 5.7247449149144813e-05, 'POSITIVO': 0.9999545812606812},\n",
              " {'NEGATIVO': 0.0001194089709315449, 'POSITIVO': 0.9999545812606812},\n",
              " {'NEGATIVO': 4.539786823443137e-05, 'POSITIVO': 0.9999545812606812},\n",
              " {'NEGATIVO': 4.539786823443137e-05, 'POSITIVO': 0.9999545812606812},\n",
              " {'NEGATIVO': 4.539786823443137e-05, 'POSITIVO': 0.9999545812606812},\n",
              " {'NEGATIVO': 5.0349717639619485e-05, 'POSITIVO': 0.9999545812606812},\n",
              " {'NEGATIVO': 7.764251495245844e-05, 'POSITIVO': 0.9999545812606812},\n",
              " {'NEGATIVO': 4.539786823443137e-05, 'POSITIVO': 0.9999545812606812},\n",
              " {'NEGATIVO': 6.701807433273643e-05, 'POSITIVO': 0.9999545812606812},\n",
              " {'NEGATIVO': 0.0002743866352830082, 'POSITIVO': 0.9999545812606812},\n",
              " {'NEGATIVO': 4.539786823443137e-05, 'POSITIVO': 0.9999545812606812},\n",
              " {'NEGATIVO': 4.539786823443137e-05, 'POSITIVO': 0.9999545812606812},\n",
              " {'NEGATIVO': 6.275129999266937e-05, 'POSITIVO': 0.9999545812606812},\n",
              " {'NEGATIVO': 4.539786823443137e-05, 'POSITIVO': 0.9999545812606812},\n",
              " {'NEGATIVO': 7.284843741217628e-05, 'POSITIVO': 0.9999545812606812},\n",
              " {'NEGATIVO': 0.00019503003568388522, 'POSITIVO': 0.9999545812606812},\n",
              " {'NEGATIVO': 4.539786823443137e-05, 'POSITIVO': 0.9999545812606812},\n",
              " {'NEGATIVO': 6.275129999266937e-05, 'POSITIVO': 0.9999545812606812},\n",
              " {'NEGATIVO': 4.539786823443137e-05, 'POSITIVO': 0.9999545812606812},\n",
              " {'NEGATIVO': 4.539786823443137e-05, 'POSITIVO': 0.9999545812606812},\n",
              " {'NEGATIVO': 4.539786823443137e-05, 'POSITIVO': 0.9999545812606812},\n",
              " {'NEGATIVO': 4.539786823443137e-05, 'POSITIVO': 0.9999545812606812},\n",
              " {'NEGATIVO': 4.539786823443137e-05, 'POSITIVO': 0.9999545812606812},\n",
              " {'NEGATIVO': 4.539786823443137e-05, 'POSITIVO': 0.9999545812606812},\n",
              " {'NEGATIVO': 7.699066918576136e-05, 'POSITIVO': 0.9999545812606812},\n",
              " {'NEGATIVO': 4.539786823443137e-05, 'POSITIVO': 0.9999545812606812},\n",
              " {'NEGATIVO': 5.223149491939694e-05, 'POSITIVO': 0.9999545812606812},\n",
              " {'NEGATIVO': 4.539786823443137e-05, 'POSITIVO': 0.9999545812606812},\n",
              " {'NEGATIVO': 4.539786823443137e-05, 'POSITIVO': 0.9999545812606812},\n",
              " {'NEGATIVO': 4.539786823443137e-05, 'POSITIVO': 0.9999545812606812},\n",
              " {'NEGATIVO': 4.539786823443137e-05, 'POSITIVO': 0.9999545812606812},\n",
              " {'NEGATIVO': 0.00010331017256248742, 'POSITIVO': 0.9999545812606812},\n",
              " {'NEGATIVO': 4.539786823443137e-05, 'POSITIVO': 0.9999545812606812},\n",
              " {'NEGATIVO': 4.539786823443137e-05, 'POSITIVO': 0.9999545812606812},\n",
              " {'NEGATIVO': 4.539786823443137e-05, 'POSITIVO': 0.9999545812606812},\n",
              " {'NEGATIVO': 0.00040118073229677975, 'POSITIVO': 0.9999545812606812},\n",
              " {'NEGATIVO': 4.539786823443137e-05, 'POSITIVO': 0.9999545812606812},\n",
              " {'NEGATIVO': 8.3620980149135e-05, 'POSITIVO': 0.9999545812606812},\n",
              " {'NEGATIVO': 4.539786823443137e-05, 'POSITIVO': 0.9999545812606812},\n",
              " {'NEGATIVO': 4.539786823443137e-05, 'POSITIVO': 0.9999545812606812},\n",
              " {'NEGATIVO': 4.539786823443137e-05, 'POSITIVO': 0.9999545812606812},\n",
              " {'NEGATIVO': 4.539786823443137e-05, 'POSITIVO': 0.9999545812606812},\n",
              " {'NEGATIVO': 4.539786823443137e-05, 'POSITIVO': 0.9999545812606812},\n",
              " {'NEGATIVO': 0.0002605747140478343, 'POSITIVO': 0.9999545812606812},\n",
              " {'NEGATIVO': 8.274707215605304e-05, 'POSITIVO': 0.9999545812606812},\n",
              " {'NEGATIVO': 6.763460987713188e-05, 'POSITIVO': 0.9999545812606812},\n",
              " {'NEGATIVO': 4.539786823443137e-05, 'POSITIVO': 0.9999545812606812},\n",
              " {'NEGATIVO': 4.539786823443137e-05, 'POSITIVO': 0.9999545812606812},\n",
              " {'NEGATIVO': 4.539786823443137e-05, 'POSITIVO': 0.9999545812606812},\n",
              " {'NEGATIVO': 4.539786823443137e-05, 'POSITIVO': 0.9999545812606812},\n",
              " {'NEGATIVO': 4.539786823443137e-05, 'POSITIVO': 0.9999545812606812},\n",
              " {'NEGATIVO': 5.05628740938846e-05, 'POSITIVO': 0.9999545812606812},\n",
              " {'NEGATIVO': 4.539786823443137e-05, 'POSITIVO': 0.9999545812606812},\n",
              " {'NEGATIVO': 6.323028355836868e-05, 'POSITIVO': 0.9999545812606812},\n",
              " {'NEGATIVO': 4.539786823443137e-05, 'POSITIVO': 0.9999545812606812},\n",
              " {'NEGATIVO': 4.539786823443137e-05, 'POSITIVO': 0.9999545812606812},\n",
              " {'NEGATIVO': 5.171559314476326e-05, 'POSITIVO': 0.9999545812606812},\n",
              " {'NEGATIVO': 4.539786823443137e-05, 'POSITIVO': 0.9999545812606812},\n",
              " {'NEGATIVO': 4.539786823443137e-05, 'POSITIVO': 0.9999545812606812},\n",
              " {'NEGATIVO': 4.539786823443137e-05, 'POSITIVO': 0.9999545812606812},\n",
              " {'NEGATIVO': 5.9962963860016316e-05, 'POSITIVO': 0.9999545812606812},\n",
              " {'NEGATIVO': 4.539786823443137e-05, 'POSITIVO': 0.9999545812606812},\n",
              " {'NEGATIVO': 0.0002480490948073566, 'POSITIVO': 0.9999545812606812},\n",
              " {'NEGATIVO': 4.539786823443137e-05, 'POSITIVO': 0.9999545812606812},\n",
              " {'NEGATIVO': 4.539786823443137e-05, 'POSITIVO': 0.9999545812606812},\n",
              " {'NEGATIVO': 4.539786823443137e-05, 'POSITIVO': 0.9999545812606812},\n",
              " {'NEGATIVO': 4.539786823443137e-05, 'POSITIVO': 0.9999545812606812},\n",
              " {'NEGATIVO': 0.00012247120321262628, 'POSITIVO': 0.9999545812606812},\n",
              " {'NEGATIVO': 4.539786823443137e-05, 'POSITIVO': 0.9999545812606812},\n",
              " {'NEGATIVO': 0.00012106289796065539, 'POSITIVO': 0.9999545812606812},\n",
              " {'NEGATIVO': 4.539786823443137e-05, 'POSITIVO': 0.9999545812606812},\n",
              " {'NEGATIVO': 4.539786823443137e-05, 'POSITIVO': 0.9999545812606812},\n",
              " {'NEGATIVO': 4.539786823443137e-05, 'POSITIVO': 0.9999545812606812},\n",
              " {'NEGATIVO': 4.539786823443137e-05, 'POSITIVO': 0.9999545812606812},\n",
              " {'NEGATIVO': 0.00012366549344733357, 'POSITIVO': 0.9999545812606812},\n",
              " {'NEGATIVO': 5.433344267657958e-05, 'POSITIVO': 0.9999545812606812},\n",
              " {'NEGATIVO': 8.63770765135996e-05, 'POSITIVO': 0.9999545812606812},\n",
              " {'NEGATIVO': 9.230327850673348e-05, 'POSITIVO': 0.9999545812606812},\n",
              " {'NEGATIVO': 4.539786823443137e-05, 'POSITIVO': 0.9999545812606812},\n",
              " {'NEGATIVO': 9.795599908102304e-05, 'POSITIVO': 0.9999545812606812},\n",
              " {'NEGATIVO': 4.539786823443137e-05, 'POSITIVO': 0.9999545812606812},\n",
              " {'NEGATIVO': 4.539786823443137e-05, 'POSITIVO': 0.9999545812606812},\n",
              " {'NEGATIVO': 4.539786823443137e-05, 'POSITIVO': 0.9999545812606812},\n",
              " {'NEGATIVO': 4.539786823443137e-05, 'POSITIVO': 0.9999545812606812},\n",
              " {'NEGATIVO': 4.539786823443137e-05, 'POSITIVO': 0.9999545812606812},\n",
              " {'NEGATIVO': 7.764251495245844e-05, 'POSITIVO': 0.9999545812606812},\n",
              " {'NEGATIVO': 4.539786823443137e-05, 'POSITIVO': 0.9999545812606812},\n",
              " {'NEGATIVO': 0.00014029322483111173, 'POSITIVO': 0.9999545812606812},\n",
              " {'NEGATIVO': 5.6778895668685436e-05, 'POSITIVO': 0.9999545812606812},\n",
              " {'NEGATIVO': 4.539786823443137e-05, 'POSITIVO': 0.9999545812606812},\n",
              " {'NEGATIVO': 4.539786823443137e-05, 'POSITIVO': 0.9999545812606812},\n",
              " {'NEGATIVO': 4.539786823443137e-05, 'POSITIVO': 0.9999545812606812},\n",
              " {'NEGATIVO': 4.646385059459135e-05, 'POSITIVO': 0.9999545812606812},\n",
              " {'NEGATIVO': 4.539786823443137e-05, 'POSITIVO': 0.9999545812606812},\n",
              " {'NEGATIVO': 4.539786823443137e-05, 'POSITIVO': 0.9999545812606812},\n",
              " {'NEGATIVO': 4.539786823443137e-05, 'POSITIVO': 0.9999545812606812},\n",
              " {'NEGATIVO': 4.539786823443137e-05, 'POSITIVO': 0.9999545812606812},\n",
              " {'NEGATIVO': 0.00011236817226745188, 'POSITIVO': 0.9999545812606812},\n",
              " {'NEGATIVO': 0.00025317349354736507, 'POSITIVO': 0.9999545812606812},\n",
              " {'NEGATIVO': 4.539786823443137e-05, 'POSITIVO': 0.9999545812606812},\n",
              " {'NEGATIVO': 8.465485734632239e-05, 'POSITIVO': 0.9999545812606812},\n",
              " {'NEGATIVO': 5.303966099745594e-05, 'POSITIVO': 0.9999545812606812},\n",
              " {'NEGATIVO': 4.539786823443137e-05, 'POSITIVO': 0.9999545812606812},\n",
              " {'NEGATIVO': 4.539786823443137e-05, 'POSITIVO': 0.9999545812606812},\n",
              " {'NEGATIVO': 4.539786823443137e-05, 'POSITIVO': 0.9999545812606812},\n",
              " {'NEGATIVO': 0.00015499613073188812, 'POSITIVO': 0.9999545812606812},\n",
              " {'NEGATIVO': 4.539786823443137e-05, 'POSITIVO': 0.9999545812606812},\n",
              " {'NEGATIVO': 4.539786823443137e-05, 'POSITIVO': 0.9999545812606812},\n",
              " {'NEGATIVO': 4.539786823443137e-05, 'POSITIVO': 0.9999545812606812},\n",
              " {'NEGATIVO': 6.507779471576214e-05, 'POSITIVO': 0.9999545812606812},\n",
              " {'NEGATIVO': 4.539786823443137e-05, 'POSITIVO': 0.9999545812606812},\n",
              " {'NEGATIVO': 4.539786823443137e-05, 'POSITIVO': 0.9999545812606812},\n",
              " {'NEGATIVO': 4.539786823443137e-05, 'POSITIVO': 0.9999545812606812},\n",
              " {'NEGATIVO': 5.6418037274852395e-05, 'POSITIVO': 0.9999545812606812},\n",
              " {'NEGATIVO': 4.539786823443137e-05, 'POSITIVO': 0.9999545812606812},\n",
              " {'NEGATIVO': 4.539786823443137e-05, 'POSITIVO': 0.9999545812606812},\n",
              " {'NEGATIVO': 4.539786823443137e-05, 'POSITIVO': 0.9999545812606812},\n",
              " {'NEGATIVO': 4.539786823443137e-05, 'POSITIVO': 0.9999545812606812},\n",
              " {'NEGATIVO': 4.539786823443137e-05, 'POSITIVO': 0.9999545812606812},\n",
              " {'NEGATIVO': 4.539786823443137e-05, 'POSITIVO': 0.9999545812606812},\n",
              " {'NEGATIVO': 4.539786823443137e-05, 'POSITIVO': 0.9999545812606812},\n",
              " {'NEGATIVO': 0.00018643309886101633, 'POSITIVO': 0.9999545812606812},\n",
              " {'NEGATIVO': 4.539786823443137e-05, 'POSITIVO': 0.9999545812606812},\n",
              " {'NEGATIVO': 4.7854518925305456e-05, 'POSITIVO': 0.9999545812606812},\n",
              " {'NEGATIVO': 4.539786823443137e-05, 'POSITIVO': 0.9999545812606812},\n",
              " {'NEGATIVO': 4.539786823443137e-05, 'POSITIVO': 0.9999545812606812},\n",
              " {'NEGATIVO': 0.0001004407531581819, 'POSITIVO': 0.9999545812606812},\n",
              " {'NEGATIVO': 4.539786823443137e-05, 'POSITIVO': 0.9999545812606812},\n",
              " {'NEGATIVO': 5.977996625006199e-05, 'POSITIVO': 0.9999545812606812},\n",
              " {'NEGATIVO': 4.539786823443137e-05, 'POSITIVO': 0.9999545812606812},\n",
              " {'NEGATIVO': 4.539786823443137e-05, 'POSITIVO': 0.9999545812606812},\n",
              " {'NEGATIVO': 9.337180381407961e-05, 'POSITIVO': 0.9999545812606812},\n",
              " {'NEGATIVO': 4.539786823443137e-05, 'POSITIVO': 0.9999545812606812},\n",
              " {'NEGATIVO': 4.539786823443137e-05, 'POSITIVO': 0.9999545812606812},\n",
              " {'NEGATIVO': 5.3451913117896765e-05, 'POSITIVO': 0.9999545812606812},\n",
              " {'NEGATIVO': 4.539786823443137e-05, 'POSITIVO': 0.9999545812606812},\n",
              " {'NEGATIVO': 4.539786823443137e-05, 'POSITIVO': 0.9999545812606812},\n",
              " {'NEGATIVO': 4.539786823443137e-05, 'POSITIVO': 0.9999545812606812},\n",
              " {'NEGATIVO': 4.539786823443137e-05, 'POSITIVO': 0.9999545812606812},\n",
              " {'NEGATIVO': 0.00033384960261173546, 'POSITIVO': 0.9999545812606812},\n",
              " {'NEGATIVO': 4.539786823443137e-05, 'POSITIVO': 0.9999545812606812},\n",
              " {'NEGATIVO': 6.300168752204627e-05, 'POSITIVO': 0.9999545812606812},\n",
              " {'NEGATIVO': 0.0002177268179366365, 'POSITIVO': 0.9999545812606812},\n",
              " {'NEGATIVO': 4.539786823443137e-05, 'POSITIVO': 0.9999545812606812},\n",
              " {'NEGATIVO': 4.539786823443137e-05, 'POSITIVO': 0.9999545812606812},\n",
              " {'NEGATIVO': 4.539786823443137e-05, 'POSITIVO': 0.9999545812606812},\n",
              " {'NEGATIVO': 4.539786823443137e-05, 'POSITIVO': 0.9999545812606812},\n",
              " {'NEGATIVO': 0.0002048482419922948, 'POSITIVO': 0.9999545812606812},\n",
              " {'NEGATIVO': 4.539786823443137e-05, 'POSITIVO': 0.9999545812606812},\n",
              " {'NEGATIVO': 4.539786823443137e-05, 'POSITIVO': 0.9999545812606812},\n",
              " {'NEGATIVO': 0.00012195458839414641, 'POSITIVO': 0.9999545812606812},\n",
              " {'NEGATIVO': 4.800311216968112e-05, 'POSITIVO': 0.9999545812606812},\n",
              " {'NEGATIVO': 4.539786823443137e-05, 'POSITIVO': 0.9999545812606812},\n",
              " {'NEGATIVO': 4.539786823443137e-05, 'POSITIVO': 0.9999545812606812},\n",
              " {'NEGATIVO': 4.539786823443137e-05, 'POSITIVO': 0.9999545812606812},\n",
              " {'NEGATIVO': 4.539786823443137e-05, 'POSITIVO': 0.9999545812606812},\n",
              " {'NEGATIVO': 4.539786823443137e-05, 'POSITIVO': 0.9999545812606812},\n",
              " {'NEGATIVO': 6.593540456378832e-05, 'POSITIVO': 0.9999545812606812},\n",
              " {'NEGATIVO': 4.539786823443137e-05, 'POSITIVO': 0.9999545812606812},\n",
              " {'NEGATIVO': 4.539786823443137e-05, 'POSITIVO': 0.9999545812606812},\n",
              " {'NEGATIVO': 8.00242560217157e-05, 'POSITIVO': 0.9999545812606812},\n",
              " {'NEGATIVO': 4.539786823443137e-05, 'POSITIVO': 0.9999545812606812},\n",
              " {'NEGATIVO': 4.539786823443137e-05, 'POSITIVO': 0.9999545812606812},\n",
              " {'NEGATIVO': 9.068712824955583e-05, 'POSITIVO': 0.9999545812606812},\n",
              " {'NEGATIVO': 5.1422990509308875e-05, 'POSITIVO': 0.9999545812606812},\n",
              " {'NEGATIVO': 4.539786823443137e-05, 'POSITIVO': 0.9999545812606812},\n",
              " {'NEGATIVO': 4.539786823443137e-05, 'POSITIVO': 0.9999545812606812},\n",
              " {'NEGATIVO': 4.539786823443137e-05, 'POSITIVO': 0.9999545812606812},\n",
              " {'NEGATIVO': 4.539786823443137e-05, 'POSITIVO': 0.9999545812606812},\n",
              " {'NEGATIVO': 4.720010110759176e-05, 'POSITIVO': 0.9999545812606812},\n",
              " {'NEGATIVO': 4.539786823443137e-05, 'POSITIVO': 0.9999545812606812},\n",
              " {'NEGATIVO': 4.539786823443137e-05, 'POSITIVO': 0.9999545812606812},\n",
              " {'NEGATIVO': 4.539786823443137e-05, 'POSITIVO': 0.9999545812606812},\n",
              " {'NEGATIVO': 4.539786823443137e-05, 'POSITIVO': 0.9999545812606812},\n",
              " {'NEGATIVO': 4.539786823443137e-05, 'POSITIVO': 0.9999545812606812},\n",
              " {'NEGATIVO': 4.539786823443137e-05, 'POSITIVO': 0.9999545812606812},\n",
              " {'NEGATIVO': 4.539786823443137e-05, 'POSITIVO': 0.9999545812606812},\n",
              " {'NEGATIVO': 4.539786823443137e-05, 'POSITIVO': 0.9999545812606812},\n",
              " {'NEGATIVO': 4.539786823443137e-05, 'POSITIVO': 0.9999545812606812},\n",
              " {'NEGATIVO': 4.539786823443137e-05, 'POSITIVO': 0.9999545812606812},\n",
              " {'NEGATIVO': 4.539786823443137e-05, 'POSITIVO': 0.9999545812606812},\n",
              " {'NEGATIVO': 0.00016523836529813707, 'POSITIVO': 0.9999545812606812},\n",
              " {'NEGATIVO': 4.539786823443137e-05, 'POSITIVO': 0.9999545812606812},\n",
              " {'NEGATIVO': 4.539786823443137e-05, 'POSITIVO': 0.9999545812606812},\n",
              " {'NEGATIVO': 4.539786823443137e-05, 'POSITIVO': 0.9999545812606812},\n",
              " {'NEGATIVO': 4.539786823443137e-05, 'POSITIVO': 0.9999545812606812},\n",
              " {'NEGATIVO': 5.144343958818354e-05, 'POSITIVO': 0.9999545812606812},\n",
              " {'NEGATIVO': 4.539786823443137e-05, 'POSITIVO': 0.9999545812606812},\n",
              " {'NEGATIVO': 0.00034189948928542435, 'POSITIVO': 0.9999545812606812},\n",
              " {'NEGATIVO': 4.809076199308038e-05, 'POSITIVO': 0.9999545812606812},\n",
              " {'NEGATIVO': 4.539786823443137e-05, 'POSITIVO': 0.9999545812606812},\n",
              " {'NEGATIVO': 5.99494123889599e-05, 'POSITIVO': 0.9999545812606812},\n",
              " {'NEGATIVO': 4.539786823443137e-05, 'POSITIVO': 0.9999545812606812},\n",
              " {'NEGATIVO': 4.539786823443137e-05, 'POSITIVO': 0.9999545812606812},\n",
              " {'NEGATIVO': 7.198846287792549e-05, 'POSITIVO': 0.9999545812606812},\n",
              " {'NEGATIVO': 4.539786823443137e-05, 'POSITIVO': 0.9999545812606812},\n",
              " {'NEGATIVO': 4.539786823443137e-05, 'POSITIVO': 0.9999545812606812},\n",
              " {'NEGATIVO': 4.539786823443137e-05, 'POSITIVO': 0.9999545812606812},\n",
              " {'NEGATIVO': 4.539786823443137e-05, 'POSITIVO': 0.9999545812606812},\n",
              " {'NEGATIVO': 4.539786823443137e-05, 'POSITIVO': 0.9999545812606812},\n",
              " {'NEGATIVO': 4.539786823443137e-05, 'POSITIVO': 0.9999545812606812},\n",
              " {'NEGATIVO': 4.539786823443137e-05, 'POSITIVO': 0.9999545812606812},\n",
              " {'NEGATIVO': 6.275129999266937e-05, 'POSITIVO': 0.9999545812606812},\n",
              " {'NEGATIVO': 4.539786823443137e-05, 'POSITIVO': 0.9999545812606812},\n",
              " {'NEGATIVO': 4.539786823443137e-05, 'POSITIVO': 0.9999545812606812},\n",
              " {'NEGATIVO': 7.748939970042557e-05, 'POSITIVO': 0.9999545812606812},\n",
              " {'NEGATIVO': 4.539786823443137e-05, 'POSITIVO': 0.9999545812606812},\n",
              " {'NEGATIVO': 4.539786823443137e-05, 'POSITIVO': 0.9999545812606812},\n",
              " {'NEGATIVO': 4.539786823443137e-05, 'POSITIVO': 0.9999545812606812},\n",
              " {'NEGATIVO': 5.039044845034368e-05, 'POSITIVO': 0.9999545812606812},\n",
              " {'NEGATIVO': 4.539786823443137e-05, 'POSITIVO': 0.9999545812606812},\n",
              " {'NEGATIVO': 4.539786823443137e-05, 'POSITIVO': 0.9999545812606812},\n",
              " {'NEGATIVO': 4.539786823443137e-05, 'POSITIVO': 0.9999545812606812},\n",
              " {'NEGATIVO': 4.539786823443137e-05, 'POSITIVO': 0.9999545812606812},\n",
              " {'NEGATIVO': 4.539786823443137e-05, 'POSITIVO': 0.9999545812606812},\n",
              " {'NEGATIVO': 4.539786823443137e-05, 'POSITIVO': 0.9999545812606812},\n",
              " {'NEGATIVO': 4.539786823443137e-05, 'POSITIVO': 0.9999545812606812},\n",
              " {'NEGATIVO': 6.248044519452378e-05, 'POSITIVO': 0.9999545812606812},\n",
              " {'NEGATIVO': 0.0003072751860599965, 'POSITIVO': 0.9999545812606812},\n",
              " {'NEGATIVO': 8.757545583648607e-05, 'POSITIVO': 0.9999545812606812},\n",
              " {'NEGATIVO': 0.0004598147061187774, 'POSITIVO': 0.999943733215332},\n",
              " {'NEGATIVO': 4.539786823443137e-05, 'POSITIVO': 0.9999545812606812},\n",
              " {'NEGATIVO': 4.539786823443137e-05, 'POSITIVO': 0.9999545812606812},\n",
              " {'NEGATIVO': 4.539786823443137e-05, 'POSITIVO': 0.9999545812606812},\n",
              " {'NEGATIVO': 0.0019256649538874626, 'POSITIVO': 0.9992515444755554},\n",
              " {'NEGATIVO': 4.539786823443137e-05, 'POSITIVO': 0.9999545812606812},\n",
              " {'NEGATIVO': 5.847750071552582e-05, 'POSITIVO': 0.9999545812606812},\n",
              " {'NEGATIVO': 6.725655839545652e-05, 'POSITIVO': 0.9999545812606812},\n",
              " {'NEGATIVO': 4.539786823443137e-05, 'POSITIVO': 0.9999545812606812},\n",
              " {'NEGATIVO': 4.539786823443137e-05, 'POSITIVO': 0.9999545812606812},\n",
              " {'NEGATIVO': 4.539786823443137e-05, 'POSITIVO': 0.9999545812606812},\n",
              " {'NEGATIVO': 4.539786823443137e-05, 'POSITIVO': 0.9999545812606812},\n",
              " {'NEGATIVO': 4.539786823443137e-05, 'POSITIVO': 0.9999545812606812},\n",
              " {'NEGATIVO': 4.539786823443137e-05, 'POSITIVO': 0.9999545812606812},\n",
              " {'NEGATIVO': 4.539786823443137e-05, 'POSITIVO': 0.9999545812606812},\n",
              " {'NEGATIVO': 4.539786823443137e-05, 'POSITIVO': 0.9999545812606812},\n",
              " {'NEGATIVO': 4.539786823443137e-05, 'POSITIVO': 0.9999545812606812},\n",
              " {'NEGATIVO': 0.00022871026885695755, 'POSITIVO': 0.9999545812606812},\n",
              " {'NEGATIVO': 4.539786823443137e-05, 'POSITIVO': 0.9999545812606812},\n",
              " {'NEGATIVO': 0.00016899468027986586, 'POSITIVO': 0.9999545812606812},\n",
              " {'NEGATIVO': 6.275129999266937e-05, 'POSITIVO': 0.9999545812606812},\n",
              " {'NEGATIVO': 4.539786823443137e-05, 'POSITIVO': 0.9999545812606812},\n",
              " {'NEGATIVO': 4.539786823443137e-05, 'POSITIVO': 0.9999545812606812},\n",
              " {'NEGATIVO': 4.539786823443137e-05, 'POSITIVO': 0.9999545812606812},\n",
              " {'NEGATIVO': 4.539786823443137e-05, 'POSITIVO': 0.9999545812606812},\n",
              " {'NEGATIVO': 4.539786823443137e-05, 'POSITIVO': 0.9999545812606812},\n",
              " {'NEGATIVO': 8.782424993114546e-05, 'POSITIVO': 0.9999545812606812},\n",
              " {'NEGATIVO': 9.335641516372561e-05, 'POSITIVO': 0.9999545812606812},\n",
              " {'NEGATIVO': 4.539786823443137e-05, 'POSITIVO': 0.9999545812606812},\n",
              " {'NEGATIVO': 4.539786823443137e-05, 'POSITIVO': 0.9999545812606812},\n",
              " {'NEGATIVO': 4.539786823443137e-05, 'POSITIVO': 0.9999545812606812},\n",
              " {'NEGATIVO': 4.539786823443137e-05, 'POSITIVO': 0.9999545812606812},\n",
              " {'NEGATIVO': 4.539786823443137e-05, 'POSITIVO': 0.9999545812606812},\n",
              " {'NEGATIVO': 4.539786823443137e-05, 'POSITIVO': 0.9999545812606812},\n",
              " {'NEGATIVO': 4.539786823443137e-05, 'POSITIVO': 0.9999545812606812},\n",
              " {'NEGATIVO': 0.00011689737584674731, 'POSITIVO': 0.9999545812606812},\n",
              " {'NEGATIVO': 4.539786823443137e-05, 'POSITIVO': 0.9999545812606812},\n",
              " {'NEGATIVO': 0.00018499097495805472, 'POSITIVO': 0.9999545812606812},\n",
              " {'NEGATIVO': 4.539786823443137e-05, 'POSITIVO': 0.9999545812606812},\n",
              " {'NEGATIVO': 4.539786823443137e-05, 'POSITIVO': 0.9999545812606812},\n",
              " {'NEGATIVO': 6.765867146896198e-05, 'POSITIVO': 0.9999545812606812},\n",
              " {'NEGATIVO': 6.275129999266937e-05, 'POSITIVO': 0.9999545812606812},\n",
              " {'NEGATIVO': 8.656714635435492e-05, 'POSITIVO': 0.9999545812606812},\n",
              " {'NEGATIVO': 4.539786823443137e-05, 'POSITIVO': 0.9999545812606812},\n",
              " {'NEGATIVO': 4.539786823443137e-05, 'POSITIVO': 0.9999545812606812},\n",
              " {'NEGATIVO': 4.539786823443137e-05, 'POSITIVO': 0.9999545812606812},\n",
              " {'NEGATIVO': 0.00010191447654506192, 'POSITIVO': 0.9999545812606812},\n",
              " {'NEGATIVO': 4.539786823443137e-05, 'POSITIVO': 0.9999545812606812},\n",
              " {'NEGATIVO': 4.539786823443137e-05, 'POSITIVO': 0.9999545812606812},\n",
              " {'NEGATIVO': 4.539786823443137e-05, 'POSITIVO': 0.9999545812606812},\n",
              " {'NEGATIVO': 5.674231215380132e-05, 'POSITIVO': 0.9999545812606812},\n",
              " {'NEGATIVO': 0.00043803954031318426, 'POSITIVO': 0.9998717308044434},\n",
              " {'NEGATIVO': 4.539786823443137e-05, 'POSITIVO': 0.9999545812606812},\n",
              " {'NEGATIVO': 4.539786823443137e-05, 'POSITIVO': 0.9999545812606812},\n",
              " {'NEGATIVO': 4.539786823443137e-05, 'POSITIVO': 0.9999545812606812},\n",
              " {'NEGATIVO': 4.539786823443137e-05, 'POSITIVO': 0.9999545812606812},\n",
              " {'NEGATIVO': 4.539786823443137e-05, 'POSITIVO': 0.9999545812606812},\n",
              " {'NEGATIVO': 4.539786823443137e-05, 'POSITIVO': 0.9999545812606812},\n",
              " {'NEGATIVO': 4.539786823443137e-05, 'POSITIVO': 0.9999545812606812},\n",
              " {'NEGATIVO': 4.539786823443137e-05, 'POSITIVO': 0.9999545812606812},\n",
              " {'NEGATIVO': 4.539786823443137e-05, 'POSITIVO': 0.9999545812606812},\n",
              " {'NEGATIVO': 0.00010835774446604773, 'POSITIVO': 0.9999545812606812},\n",
              " {'NEGATIVO': 4.539786823443137e-05, 'POSITIVO': 0.9999545812606812},\n",
              " {'NEGATIVO': 4.539786823443137e-05, 'POSITIVO': 0.9999545812606812},\n",
              " {'NEGATIVO': 5.409216828411445e-05, 'POSITIVO': 0.9999545812606812},\n",
              " {'NEGATIVO': 4.539786823443137e-05, 'POSITIVO': 0.9999545812606812},\n",
              " {'NEGATIVO': 4.539786823443137e-05, 'POSITIVO': 0.9999545812606812},\n",
              " {'NEGATIVO': 4.539786823443137e-05, 'POSITIVO': 0.9999545812606812},\n",
              " {'NEGATIVO': 9.699176735011861e-05, 'POSITIVO': 0.9999545812606812},\n",
              " {'NEGATIVO': 4.539786823443137e-05, 'POSITIVO': 0.9999545812606812},\n",
              " {'NEGATIVO': 0.00017857957573141903, 'POSITIVO': 0.9999545812606812},\n",
              " {'NEGATIVO': 0.0005220986204221845, 'POSITIVO': 0.9997475743293762},\n",
              " {'NEGATIVO': 4.539786823443137e-05, 'POSITIVO': 0.9999545812606812},\n",
              " {'NEGATIVO': 4.539786823443137e-05, 'POSITIVO': 0.9999545812606812},\n",
              " {'NEGATIVO': 4.539786823443137e-05, 'POSITIVO': 0.9999545812606812},\n",
              " {'NEGATIVO': 4.539786823443137e-05, 'POSITIVO': 0.9999545812606812},\n",
              " {'NEGATIVO': 4.539786823443137e-05, 'POSITIVO': 0.9999545812606812},\n",
              " {'NEGATIVO': 4.823405834031291e-05, 'POSITIVO': 0.9999545812606812},\n",
              " {'NEGATIVO': 4.539786823443137e-05, 'POSITIVO': 0.9999545812606812},\n",
              " {'NEGATIVO': 4.539786823443137e-05, 'POSITIVO': 0.9999545812606812},\n",
              " {'NEGATIVO': 4.539786823443137e-05, 'POSITIVO': 0.9999545812606812},\n",
              " {'NEGATIVO': 4.539786823443137e-05, 'POSITIVO': 0.9999545812606812},\n",
              " {'NEGATIVO': 5.6947432312881574e-05, 'POSITIVO': 0.9999545812606812},\n",
              " {'NEGATIVO': 4.539786823443137e-05, 'POSITIVO': 0.9999545812606812},\n",
              " {'NEGATIVO': 4.539786823443137e-05, 'POSITIVO': 0.9999545812606812},\n",
              " {'NEGATIVO': 4.539786823443137e-05, 'POSITIVO': 0.9999545812606812},\n",
              " {'NEGATIVO': 4.539786823443137e-05, 'POSITIVO': 0.9999545812606812},\n",
              " {'NEGATIVO': 4.539786823443137e-05, 'POSITIVO': 0.9999545812606812},\n",
              " {'NEGATIVO': 0.0002962668368127197, 'POSITIVO': 0.9999545812606812},\n",
              " {'NEGATIVO': 8.324228110723197e-05, 'POSITIVO': 0.9999545812606812},\n",
              " {'NEGATIVO': 4.539786823443137e-05, 'POSITIVO': 0.9999545812606812},\n",
              " {'NEGATIVO': 4.539786823443137e-05, 'POSITIVO': 0.9999545812606812},\n",
              " {'NEGATIVO': 0.00012475086259655654, 'POSITIVO': 0.9999545812606812},\n",
              " {'NEGATIVO': 4.539786823443137e-05, 'POSITIVO': 0.9999545812606812},\n",
              " {'NEGATIVO': 4.539786823443137e-05, 'POSITIVO': 0.9999545812606812},\n",
              " {'NEGATIVO': 4.962458842783235e-05, 'POSITIVO': 0.9999545812606812},\n",
              " {'NEGATIVO': 4.539786823443137e-05, 'POSITIVO': 0.9999545812606812},\n",
              " {'NEGATIVO': 4.539786823443137e-05, 'POSITIVO': 0.9999545812606812},\n",
              " {'NEGATIVO': 4.539786823443137e-05, 'POSITIVO': 0.9999545812606812},\n",
              " {'NEGATIVO': 4.8313751904061064e-05, 'POSITIVO': 0.9999545812606812},\n",
              " {'NEGATIVO': 4.539786823443137e-05, 'POSITIVO': 0.9999545812606812},\n",
              " {'NEGATIVO': 4.539786823443137e-05, 'POSITIVO': 0.9999545812606812},\n",
              " {'NEGATIVO': 0.0006951834657229483, 'POSITIVO': 0.9998321533203125},\n",
              " {'NEGATIVO': 4.539786823443137e-05, 'POSITIVO': 0.9999545812606812},\n",
              " {'NEGATIVO': 4.539786823443137e-05, 'POSITIVO': 0.9999545812606812},\n",
              " {'NEGATIVO': 4.539786823443137e-05, 'POSITIVO': 0.9999545812606812},\n",
              " {'NEGATIVO': 0.00010283485607942566, 'POSITIVO': 0.9999545812606812},\n",
              " {'NEGATIVO': 4.539786823443137e-05, 'POSITIVO': 0.9999545812606812},\n",
              " {'NEGATIVO': 4.539786823443137e-05, 'POSITIVO': 0.9999545812606812},\n",
              " {'NEGATIVO': 4.539786823443137e-05, 'POSITIVO': 0.9999545812606812},\n",
              " {'NEGATIVO': 4.539786823443137e-05, 'POSITIVO': 0.9999545812606812},\n",
              " {'NEGATIVO': 0.00012826368038076907, 'POSITIVO': 0.9999545812606812},\n",
              " {'NEGATIVO': 7.102076051523909e-05, 'POSITIVO': 0.9999545812606812},\n",
              " {'NEGATIVO': 8.302870264742523e-05, 'POSITIVO': 0.9999545812606812},\n",
              " {'NEGATIVO': 4.539786823443137e-05, 'POSITIVO': 0.9999545812606812},\n",
              " {'NEGATIVO': 4.539786823443137e-05, 'POSITIVO': 0.9999545812606812},\n",
              " {'NEGATIVO': 0.00029766259831376374, 'POSITIVO': 0.9999545812606812},\n",
              " {'NEGATIVO': 8.520346455043182e-05, 'POSITIVO': 0.9999545812606812},\n",
              " {'NEGATIVO': 4.539786823443137e-05, 'POSITIVO': 0.9999545812606812},\n",
              " {'NEGATIVO': 4.539786823443137e-05, 'POSITIVO': 0.9999545812606812},\n",
              " {'NEGATIVO': 4.539786823443137e-05, 'POSITIVO': 0.9999545812606812},\n",
              " {'NEGATIVO': 4.539786823443137e-05, 'POSITIVO': 0.9999545812606812},\n",
              " {'NEGATIVO': 4.539786823443137e-05, 'POSITIVO': 0.9999545812606812},\n",
              " {'NEGATIVO': 4.539786823443137e-05, 'POSITIVO': 0.9999545812606812},\n",
              " {'NEGATIVO': 4.539786823443137e-05, 'POSITIVO': 0.9999545812606812},\n",
              " {'NEGATIVO': 4.539786823443137e-05, 'POSITIVO': 0.9999545812606812},\n",
              " {'NEGATIVO': 5.530350244953297e-05, 'POSITIVO': 0.9999545812606812},\n",
              " {'NEGATIVO': 4.539786823443137e-05, 'POSITIVO': 0.9999545812606812},\n",
              " {'NEGATIVO': 6.275129999266937e-05, 'POSITIVO': 0.9999545812606812},\n",
              " {'NEGATIVO': 4.539786823443137e-05, 'POSITIVO': 0.9999545812606812},\n",
              " {'NEGATIVO': 7.748466305201873e-05, 'POSITIVO': 0.9999545812606812},\n",
              " {'NEGATIVO': 0.00018528809596318752, 'POSITIVO': 0.9999545812606812},\n",
              " {'NEGATIVO': 7.009226828813553e-05, 'POSITIVO': 0.9999545812606812},\n",
              " {'NEGATIVO': 5.368792699300684e-05, 'POSITIVO': 0.9999545812606812},\n",
              " {'NEGATIVO': 4.539786823443137e-05, 'POSITIVO': 0.9999545812606812},\n",
              " {'NEGATIVO': 4.539786823443137e-05, 'POSITIVO': 0.9999545812606812},\n",
              " {'NEGATIVO': 4.539786823443137e-05, 'POSITIVO': 0.9999545812606812},\n",
              " {'NEGATIVO': 4.539786823443137e-05, 'POSITIVO': 0.9999545812606812},\n",
              " {'NEGATIVO': 8.114380034385249e-05, 'POSITIVO': 0.9999545812606812},\n",
              " {'NEGATIVO': 5.833847535541281e-05, 'POSITIVO': 0.9999545812606812},\n",
              " {'NEGATIVO': 4.539786823443137e-05, 'POSITIVO': 0.9999545812606812},\n",
              " {'NEGATIVO': 0.00018085987539961934, 'POSITIVO': 0.9999545812606812},\n",
              " {'NEGATIVO': 4.539786823443137e-05, 'POSITIVO': 0.9999545812606812},\n",
              " {'NEGATIVO': 9.615621820557863e-05, 'POSITIVO': 0.9999545812606812},\n",
              " {'NEGATIVO': 0.00011979956616414711, 'POSITIVO': 0.9999545812606812},\n",
              " {'NEGATIVO': 6.275129999266937e-05, 'POSITIVO': 0.9999545812606812},\n",
              " {'NEGATIVO': 0.0002797123452182859, 'POSITIVO': 0.9999545812606812},\n",
              " {'NEGATIVO': 4.539786823443137e-05, 'POSITIVO': 0.9999545812606812},\n",
              " {'NEGATIVO': 5.855774725205265e-05, 'POSITIVO': 0.9999545812606812},\n",
              " {'NEGATIVO': 4.539786823443137e-05, 'POSITIVO': 0.9999545812606812},\n",
              " {'NEGATIVO': 4.539786823443137e-05, 'POSITIVO': 0.9999545812606812},\n",
              " {'NEGATIVO': 6.275129999266937e-05, 'POSITIVO': 0.9999545812606812},\n",
              " {'NEGATIVO': 4.539786823443137e-05, 'POSITIVO': 0.9999545812606812},\n",
              " {'NEGATIVO': 4.5503365981858224e-05, 'POSITIVO': 0.9999545812606812},\n",
              " {'NEGATIVO': 7.30824249330908e-05, 'POSITIVO': 0.9999545812606812},\n",
              " {'NEGATIVO': 4.539786823443137e-05, 'POSITIVO': 0.9999545812606812},\n",
              " {'NEGATIVO': 4.539786823443137e-05, 'POSITIVO': 0.9999545812606812},\n",
              " {'NEGATIVO': 4.539786823443137e-05, 'POSITIVO': 0.9999545812606812},\n",
              " {'NEGATIVO': 4.539786823443137e-05, 'POSITIVO': 0.9999545812606812},\n",
              " {'NEGATIVO': 6.0817394114565104e-05, 'POSITIVO': 0.9999545812606812},\n",
              " {'NEGATIVO': 4.539786823443137e-05, 'POSITIVO': 0.9999545812606812},\n",
              " {'NEGATIVO': 0.00014779125922359526, 'POSITIVO': 0.9999545812606812},\n",
              " {'NEGATIVO': 0.00010102747910423204, 'POSITIVO': 0.9999545812606812},\n",
              " {'NEGATIVO': 4.539786823443137e-05, 'POSITIVO': 0.9999545812606812},\n",
              " {'NEGATIVO': 4.539786823443137e-05, 'POSITIVO': 0.9999545812606812},\n",
              " {'NEGATIVO': 4.744339094031602e-05, 'POSITIVO': 0.9999545812606812},\n",
              " {'NEGATIVO': 4.8480684199603274e-05, 'POSITIVO': 0.9999545812606812},\n",
              " {'NEGATIVO': 4.539786823443137e-05, 'POSITIVO': 0.9999545812606812},\n",
              " {'NEGATIVO': 8.480239193886518e-05, 'POSITIVO': 0.9999545812606812},\n",
              " {'NEGATIVO': 4.539786823443137e-05, 'POSITIVO': 0.9999545812606812},\n",
              " {'NEGATIVO': 4.539786823443137e-05, 'POSITIVO': 0.9999545812606812},\n",
              " {'NEGATIVO': 4.539786823443137e-05, 'POSITIVO': 0.9999545812606812},\n",
              " {'NEGATIVO': 4.539786823443137e-05, 'POSITIVO': 0.9999545812606812},\n",
              " {'NEGATIVO': 4.539786823443137e-05, 'POSITIVO': 0.9999545812606812},\n",
              " {'NEGATIVO': 5.121441063238308e-05, 'POSITIVO': 0.9999545812606812},\n",
              " {'NEGATIVO': 4.539786823443137e-05, 'POSITIVO': 0.9999545812606812},\n",
              " {'NEGATIVO': 4.539786823443137e-05, 'POSITIVO': 0.9999545812606812},\n",
              " {'NEGATIVO': 6.593861326109618e-05, 'POSITIVO': 0.9999545812606812},\n",
              " {'NEGATIVO': 4.539786823443137e-05, 'POSITIVO': 0.9999545812606812},\n",
              " {'NEGATIVO': 4.539786823443137e-05, 'POSITIVO': 0.9999545812606812},\n",
              " {'NEGATIVO': 0.0004425334627740085, 'POSITIVO': 0.9998841285705566},\n",
              " {'NEGATIVO': 9.752996993483976e-05, 'POSITIVO': 0.9999545812606812},\n",
              " {'NEGATIVO': 0.00014416924386750907, 'POSITIVO': 0.9999545812606812},\n",
              " {'NEGATIVO': 4.539786823443137e-05, 'POSITIVO': 0.9999545812606812},\n",
              " {'NEGATIVO': 4.539786823443137e-05, 'POSITIVO': 0.9999545812606812},\n",
              " {'NEGATIVO': 4.539786823443137e-05, 'POSITIVO': 0.9999545812606812},\n",
              " {'NEGATIVO': 4.539786823443137e-05, 'POSITIVO': 0.9999545812606812},\n",
              " {'NEGATIVO': 4.539786823443137e-05, 'POSITIVO': 0.9999545812606812},\n",
              " {'NEGATIVO': 4.539786823443137e-05, 'POSITIVO': 0.9999545812606812},\n",
              " {'NEGATIVO': 4.539786823443137e-05, 'POSITIVO': 0.9999545812606812},\n",
              " {'NEGATIVO': 4.539786823443137e-05, 'POSITIVO': 0.9999545812606812},\n",
              " {'NEGATIVO': 5.2969404350733384e-05, 'POSITIVO': 0.9999545812606812},\n",
              " {'NEGATIVO': 7.412966806441545e-05, 'POSITIVO': 0.9999545812606812},\n",
              " {'NEGATIVO': 7.287135667866096e-05, 'POSITIVO': 0.9999545812606812},\n",
              " {'NEGATIVO': 0.00023369021073449403, 'POSITIVO': 0.9999475479125977},\n",
              " {'NEGATIVO': 4.539786823443137e-05, 'POSITIVO': 0.9999545812606812},\n",
              " {'NEGATIVO': 6.31475486443378e-05, 'POSITIVO': 0.9999545812606812},\n",
              " {'NEGATIVO': 4.539786823443137e-05, 'POSITIVO': 0.9999545812606812},\n",
              " {'NEGATIVO': 4.539786823443137e-05, 'POSITIVO': 0.9999545812606812},\n",
              " {'NEGATIVO': 4.539786823443137e-05, 'POSITIVO': 0.9999545812606812},\n",
              " {'NEGATIVO': 4.539786823443137e-05, 'POSITIVO': 0.9999545812606812},\n",
              " {'NEGATIVO': 4.539786823443137e-05, 'POSITIVO': 0.9999545812606812},\n",
              " {'NEGATIVO': 4.539786823443137e-05, 'POSITIVO': 0.9999545812606812},\n",
              " {'NEGATIVO': 6.525217031594366e-05, 'POSITIVO': 0.9999545812606812},\n",
              " {'NEGATIVO': 4.539786823443137e-05, 'POSITIVO': 0.9999545812606812},\n",
              " {'NEGATIVO': 4.539786823443137e-05, 'POSITIVO': 0.9999545812606812},\n",
              " {'NEGATIVO': 4.539786823443137e-05, 'POSITIVO': 0.9999545812606812},\n",
              " {'NEGATIVO': 4.539786823443137e-05, 'POSITIVO': 0.9999545812606812},\n",
              " {'NEGATIVO': 7.764251495245844e-05, 'POSITIVO': 0.9999545812606812},\n",
              " {'NEGATIVO': 4.539786823443137e-05, 'POSITIVO': 0.9999545812606812},\n",
              " {'NEGATIVO': 4.539786823443137e-05, 'POSITIVO': 0.9999545812606812},\n",
              " {'NEGATIVO': 4.539786823443137e-05, 'POSITIVO': 0.9999545812606812},\n",
              " {'NEGATIVO': 0.00014779125922359526, 'POSITIVO': 0.9999545812606812},\n",
              " {'NEGATIVO': 8.497562521370128e-05, 'POSITIVO': 0.9999545812606812},\n",
              " {'NEGATIVO': 5.888449231861159e-05, 'POSITIVO': 0.9999545812606812},\n",
              " {'NEGATIVO': 4.539786823443137e-05, 'POSITIVO': 0.9999545812606812},\n",
              " {'NEGATIVO': 9.418871923116967e-05, 'POSITIVO': 0.9999545812606812},\n",
              " {'NEGATIVO': 4.539786823443137e-05, 'POSITIVO': 0.9999545812606812},\n",
              " {'NEGATIVO': 9.155221050605178e-05, 'POSITIVO': 0.9999545812606812},\n",
              " {'NEGATIVO': 0.0001198436802951619, 'POSITIVO': 0.9999545812606812},\n",
              " {'NEGATIVO': 0.00014611717779189348, 'POSITIVO': 0.9999545812606812},\n",
              " {'NEGATIVO': 4.539786823443137e-05, 'POSITIVO': 0.9999545812606812},\n",
              " {'NEGATIVO': 4.539786823443137e-05, 'POSITIVO': 0.9999545812606812},\n",
              " {'NEGATIVO': 4.539786823443137e-05, 'POSITIVO': 0.9999545812606812},\n",
              " {'NEGATIVO': 9.418871923116967e-05, 'POSITIVO': 0.9999545812606812},\n",
              " {'NEGATIVO': 4.539786823443137e-05, 'POSITIVO': 0.9999545812606812},\n",
              " {'NEGATIVO': 4.539786823443137e-05, 'POSITIVO': 0.9999545812606812},\n",
              " {'NEGATIVO': 0.00015546681242994964, 'POSITIVO': 0.9999545812606812},\n",
              " {'NEGATIVO': 4.583352347253822e-05, 'POSITIVO': 0.9999545812606812},\n",
              " {'NEGATIVO': 6.415115058189258e-05, 'POSITIVO': 0.9999545812606812},\n",
              " {'NEGATIVO': 4.539786823443137e-05, 'POSITIVO': 0.9999545812606812},\n",
              " {'NEGATIVO': 4.539786823443137e-05, 'POSITIVO': 0.9999545812606812},\n",
              " {'NEGATIVO': 4.539786823443137e-05, 'POSITIVO': 0.9999545812606812},\n",
              " {'NEGATIVO': 4.539786823443137e-05, 'POSITIVO': 0.9999545812606812},\n",
              " {'NEGATIVO': 4.539786823443137e-05, 'POSITIVO': 0.9999545812606812},\n",
              " {'NEGATIVO': 0.00012771569890901446, 'POSITIVO': 0.9999545812606812},\n",
              " {'NEGATIVO': 4.539786823443137e-05, 'POSITIVO': 0.9999545812606812},\n",
              " {'NEGATIVO': 4.539786823443137e-05, 'POSITIVO': 0.9999545812606812},\n",
              " {'NEGATIVO': 4.539786823443137e-05, 'POSITIVO': 0.9999545812606812},\n",
              " {'NEGATIVO': 4.539786823443137e-05, 'POSITIVO': 0.9999545812606812},\n",
              " {'NEGATIVO': 4.539786823443137e-05, 'POSITIVO': 0.9999545812606812},\n",
              " {'NEGATIVO': 8.958651596913114e-05, 'POSITIVO': 0.9999545812606812},\n",
              " {'NEGATIVO': 4.539786823443137e-05, 'POSITIVO': 0.9999545812606812},\n",
              " {'NEGATIVO': 4.539786823443137e-05, 'POSITIVO': 0.9999545812606812},\n",
              " {'NEGATIVO': 8.760351920500398e-05, 'POSITIVO': 0.9999545812606812},\n",
              " {'NEGATIVO': 8.064039138844237e-05, 'POSITIVO': 0.9999545812606812},\n",
              " {'NEGATIVO': 4.539786823443137e-05, 'POSITIVO': 0.9999545812606812},\n",
              " {'NEGATIVO': 0.00012522772885859013, 'POSITIVO': 0.9999545812606812},\n",
              " {'NEGATIVO': 4.539786823443137e-05, 'POSITIVO': 0.9999545812606812},\n",
              " {'NEGATIVO': 9.001055150292814e-05, 'POSITIVO': 0.9999545812606812},\n",
              " {'NEGATIVO': 4.539786823443137e-05, 'POSITIVO': 0.9999545812606812},\n",
              " {'NEGATIVO': 8.601706940680742e-05, 'POSITIVO': 0.9999545812606812},\n",
              " {'NEGATIVO': 4.539786823443137e-05, 'POSITIVO': 0.9999545812606812},\n",
              " {'NEGATIVO': 4.539786823443137e-05, 'POSITIVO': 0.9999545812606812},\n",
              " {'NEGATIVO': 4.539786823443137e-05, 'POSITIVO': 0.9999545812606812},\n",
              " {'NEGATIVO': 4.539786823443137e-05, 'POSITIVO': 0.9999545812606812},\n",
              " {'NEGATIVO': 4.539786823443137e-05, 'POSITIVO': 0.9999545812606812},\n",
              " {'NEGATIVO': 4.539786823443137e-05, 'POSITIVO': 0.9999545812606812},\n",
              " {'NEGATIVO': 4.539786823443137e-05, 'POSITIVO': 0.9999545812606812},\n",
              " {'NEGATIVO': 4.539786823443137e-05, 'POSITIVO': 0.9999545812606812},\n",
              " {'NEGATIVO': 4.539786823443137e-05, 'POSITIVO': 0.9999545812606812},\n",
              " {'NEGATIVO': 4.539786823443137e-05, 'POSITIVO': 0.9999545812606812},\n",
              " {'NEGATIVO': 4.539786823443137e-05, 'POSITIVO': 0.9999545812606812},\n",
              " {'NEGATIVO': 4.539786823443137e-05, 'POSITIVO': 0.9999545812606812},\n",
              " {'NEGATIVO': 4.938236452289857e-05, 'POSITIVO': 0.9999545812606812},\n",
              " {'NEGATIVO': 4.539786823443137e-05, 'POSITIVO': 0.9999545812606812},\n",
              " {'NEGATIVO': 4.539786823443137e-05, 'POSITIVO': 0.9999545812606812},\n",
              " {'NEGATIVO': 4.539786823443137e-05, 'POSITIVO': 0.9999545812606812},\n",
              " {'NEGATIVO': 4.539786823443137e-05, 'POSITIVO': 0.9999545812606812},\n",
              " {'NEGATIVO': 6.275129999266937e-05, 'POSITIVO': 0.9999545812606812},\n",
              " {'NEGATIVO': 5.346924081095494e-05, 'POSITIVO': 0.9999545812606812},\n",
              " {'NEGATIVO': 0.0001588132872711867, 'POSITIVO': 0.9999545812606812},\n",
              " {'NEGATIVO': 0.0009526028879918158, 'POSITIVO': 0.9999545812606812},\n",
              " {'NEGATIVO': 0.0003752267803065479, 'POSITIVO': 0.9999374151229858},\n",
              " {'NEGATIVO': 4.539786823443137e-05, 'POSITIVO': 0.9999545812606812},\n",
              " {'NEGATIVO': 4.539786823443137e-05, 'POSITIVO': 0.9999545812606812},\n",
              " {'NEGATIVO': 0.00013444821524899453, 'POSITIVO': 0.9999545812606812},\n",
              " {'NEGATIVO': 0.0001220547710545361, 'POSITIVO': 0.9999545812606812},\n",
              " {'NEGATIVO': 6.9398432970047e-05, 'POSITIVO': 0.9999545812606812},\n",
              " {'NEGATIVO': 0.00010420238686492667, 'POSITIVO': 0.9999545812606812},\n",
              " {'NEGATIVO': 0.00019045129010919482, 'POSITIVO': 0.9999545812606812},\n",
              " {'NEGATIVO': 9.822333959164098e-05, 'POSITIVO': 0.9999545812606812},\n",
              " {'NEGATIVO': 4.539786823443137e-05, 'POSITIVO': 0.9999545812606812},\n",
              " {'NEGATIVO': 4.539786823443137e-05, 'POSITIVO': 0.9999545812606812},\n",
              " {'NEGATIVO': 4.539786823443137e-05, 'POSITIVO': 0.9999545812606812},\n",
              " {'NEGATIVO': 4.539786823443137e-05, 'POSITIVO': 0.9999545812606812},\n",
              " {'NEGATIVO': 4.539786823443137e-05, 'POSITIVO': 0.9999545812606812},\n",
              " {'NEGATIVO': 4.539786823443137e-05, 'POSITIVO': 0.9999545812606812},\n",
              " {'NEGATIVO': 4.539786823443137e-05, 'POSITIVO': 0.9999545812606812},\n",
              " {'NEGATIVO': 7.30372776160948e-05, 'POSITIVO': 0.9999545812606812},\n",
              " {'NEGATIVO': 4.539786823443137e-05, 'POSITIVO': 0.9999545812606812},\n",
              " {'NEGATIVO': 4.539786823443137e-05, 'POSITIVO': 0.9999545812606812},\n",
              " {'NEGATIVO': 0.00011703134077833965, 'POSITIVO': 0.9999545812606812},\n",
              " {'NEGATIVO': 4.539786823443137e-05, 'POSITIVO': 0.9999545812606812},\n",
              " {'NEGATIVO': 4.539786823443137e-05, 'POSITIVO': 0.9999545812606812},\n",
              " {'NEGATIVO': 4.539786823443137e-05, 'POSITIVO': 0.9999545812606812},\n",
              " {'NEGATIVO': 4.539786823443137e-05, 'POSITIVO': 0.9999545812606812},\n",
              " {'NEGATIVO': 0.0001498962810728699, 'POSITIVO': 0.9999545812606812},\n",
              " {'NEGATIVO': 4.539786823443137e-05, 'POSITIVO': 0.9999545812606812},\n",
              " {'NEGATIVO': 4.539786823443137e-05, 'POSITIVO': 0.9999545812606812},\n",
              " {'NEGATIVO': 4.539786823443137e-05, 'POSITIVO': 0.9999545812606812},\n",
              " {'NEGATIVO': 4.539786823443137e-05, 'POSITIVO': 0.9999545812606812},\n",
              " {'NEGATIVO': 4.539786823443137e-05, 'POSITIVO': 0.9999545812606812},\n",
              " {'NEGATIVO': 4.539786823443137e-05, 'POSITIVO': 0.9999545812606812},\n",
              " {'NEGATIVO': 4.539786823443137e-05, 'POSITIVO': 0.9999545812606812},\n",
              " {'NEGATIVO': 6.275129999266937e-05, 'POSITIVO': 0.9999545812606812},\n",
              " {'NEGATIVO': 0.00012976661673747003, 'POSITIVO': 0.9999545812606812},\n",
              " {'NEGATIVO': 4.539786823443137e-05, 'POSITIVO': 0.9999545812606812},\n",
              " {'NEGATIVO': 4.539786823443137e-05, 'POSITIVO': 0.9999545812606812},\n",
              " {'NEGATIVO': 4.539786823443137e-05, 'POSITIVO': 0.9999545812606812},\n",
              " {'NEGATIVO': 4.539786823443137e-05, 'POSITIVO': 0.9999545812606812},\n",
              " {'NEGATIVO': 4.539786823443137e-05, 'POSITIVO': 0.9999545812606812},\n",
              " {'NEGATIVO': 4.539786823443137e-05, 'POSITIVO': 0.9999545812606812},\n",
              " {'NEGATIVO': 4.539786823443137e-05, 'POSITIVO': 0.9999545812606812},\n",
              " {'NEGATIVO': 4.539786823443137e-05, 'POSITIVO': 0.9999545812606812},\n",
              " {'NEGATIVO': 4.539786823443137e-05, 'POSITIVO': 0.9999545812606812},\n",
              " {'NEGATIVO': 4.539786823443137e-05, 'POSITIVO': 0.9999545812606812},\n",
              " {'NEGATIVO': 4.539786823443137e-05, 'POSITIVO': 0.9999545812606812},\n",
              " {'NEGATIVO': 6.442438461817801e-05, 'POSITIVO': 0.9999545812606812},\n",
              " {'NEGATIVO': 4.539786823443137e-05, 'POSITIVO': 0.9999545812606812},\n",
              " {'NEGATIVO': 9.919349395204335e-05, 'POSITIVO': 0.9999545812606812},\n",
              " {'NEGATIVO': 4.539786823443137e-05, 'POSITIVO': 0.9999545812606812},\n",
              " {'NEGATIVO': 4.539786823443137e-05, 'POSITIVO': 0.9999545812606812},\n",
              " {'NEGATIVO': 4.539786823443137e-05, 'POSITIVO': 0.9999545812606812},\n",
              " {'NEGATIVO': 4.539786823443137e-05, 'POSITIVO': 0.9999545812606812},\n",
              " {'NEGATIVO': 4.539786823443137e-05, 'POSITIVO': 0.9999545812606812},\n",
              " {'NEGATIVO': 9.404719457961619e-05, 'POSITIVO': 0.9999545812606812},\n",
              " {'NEGATIVO': 4.539786823443137e-05, 'POSITIVO': 0.9999545812606812},\n",
              " {'NEGATIVO': 0.0003532309492584318, 'POSITIVO': 0.9999322891235352},\n",
              " {'NEGATIVO': 4.539786823443137e-05, 'POSITIVO': 0.9999545812606812},\n",
              " {'NEGATIVO': 4.539786823443137e-05, 'POSITIVO': 0.9999545812606812},\n",
              " {'NEGATIVO': 7.511306466767564e-05, 'POSITIVO': 0.9999545812606812},\n",
              " {'NEGATIVO': 7.652331987628713e-05, 'POSITIVO': 0.9999545812606812},\n",
              " {'NEGATIVO': 0.000270680378889665, 'POSITIVO': 0.9999545812606812},\n",
              " {'NEGATIVO': 4.539786823443137e-05, 'POSITIVO': 0.9999545812606812},\n",
              " {'NEGATIVO': 4.539786823443137e-05, 'POSITIVO': 0.9999545812606812},\n",
              " {'NEGATIVO': 8.865703421179205e-05, 'POSITIVO': 0.9999545812606812},\n",
              " {'NEGATIVO': 4.539786823443137e-05, 'POSITIVO': 0.9999545812606812},\n",
              " {'NEGATIVO': 4.539786823443137e-05, 'POSITIVO': 0.9999545812606812},\n",
              " {'NEGATIVO': 6.999907782301307e-05, 'POSITIVO': 0.9999545812606812},\n",
              " {'NEGATIVO': 4.539786823443137e-05, 'POSITIVO': 0.9999545812606812},\n",
              " {'NEGATIVO': 4.539786823443137e-05, 'POSITIVO': 0.9999545812606812},\n",
              " {'NEGATIVO': 4.539786823443137e-05, 'POSITIVO': 0.9999545812606812},\n",
              " {'NEGATIVO': 4.954803443979472e-05, 'POSITIVO': 0.9999545812606812},\n",
              " {'NEGATIVO': 4.539786823443137e-05, 'POSITIVO': 0.9999545812606812},\n",
              " {'NEGATIVO': 4.539786823443137e-05, 'POSITIVO': 0.9999545812606812},\n",
              " {'NEGATIVO': 0.0001321266172453761, 'POSITIVO': 0.9999545812606812},\n",
              " {'NEGATIVO': 0.0003879037394654006, 'POSITIVO': 0.9999282360076904},\n",
              " {'NEGATIVO': 4.539786823443137e-05, 'POSITIVO': 0.9999545812606812},\n",
              " {'NEGATIVO': 0.00011703635391313583, 'POSITIVO': 0.9999545812606812},\n",
              " {'NEGATIVO': 7.188980816863477e-05, 'POSITIVO': 0.9999545812606812},\n",
              " {'NEGATIVO': 4.539786823443137e-05, 'POSITIVO': 0.9999545812606812},\n",
              " {'NEGATIVO': 8.646419155411422e-05, 'POSITIVO': 0.9999545812606812},\n",
              " {'NEGATIVO': 4.539786823443137e-05, 'POSITIVO': 0.9999545812606812},\n",
              " {'NEGATIVO': 5.681036418536678e-05, 'POSITIVO': 0.9999545812606812},\n",
              " {'NEGATIVO': 4.539786823443137e-05, 'POSITIVO': 0.9999545812606812},\n",
              " {'NEGATIVO': 4.539786823443137e-05, 'POSITIVO': 0.9999545812606812},\n",
              " {'NEGATIVO': 6.873848178656772e-05, 'POSITIVO': 0.9999545812606812},\n",
              " {'NEGATIVO': 4.539786823443137e-05, 'POSITIVO': 0.9999545812606812},\n",
              " {'NEGATIVO': 6.731737812515348e-05, 'POSITIVO': 0.9999545812606812},\n",
              " {'NEGATIVO': 4.539786823443137e-05, 'POSITIVO': 0.9999545812606812},\n",
              " {'NEGATIVO': 4.539786823443137e-05, 'POSITIVO': 0.9999545812606812},\n",
              " {'NEGATIVO': 6.207186379469931e-05, 'POSITIVO': 0.9999545812606812},\n",
              " {'NEGATIVO': 4.539786823443137e-05, 'POSITIVO': 0.9999545812606812},\n",
              " {'NEGATIVO': 4.539786823443137e-05, 'POSITIVO': 0.9999545812606812},\n",
              " {'NEGATIVO': 4.539786823443137e-05, 'POSITIVO': 0.9999545812606812},\n",
              " {'NEGATIVO': 0.00010096401820192114, 'POSITIVO': 0.9999545812606812},\n",
              " {'NEGATIVO': 4.539786823443137e-05, 'POSITIVO': 0.9999545812606812},\n",
              " {'NEGATIVO': 4.539786823443137e-05, 'POSITIVO': 0.9999545812606812},\n",
              " {'NEGATIVO': 0.00019402621546760201, 'POSITIVO': 0.9999545812606812},\n",
              " {'NEGATIVO': 4.539786823443137e-05, 'POSITIVO': 0.9999545812606812},\n",
              " {'NEGATIVO': 4.539786823443137e-05, 'POSITIVO': 0.9999545812606812},\n",
              " {'NEGATIVO': 4.539786823443137e-05, 'POSITIVO': 0.9999545812606812},\n",
              " {'NEGATIVO': 4.539786823443137e-05, 'POSITIVO': 0.9999545812606812},\n",
              " {'NEGATIVO': 4.539786823443137e-05, 'POSITIVO': 0.9999545812606812},\n",
              " {'NEGATIVO': 4.539786823443137e-05, 'POSITIVO': 0.9999545812606812},\n",
              " {'NEGATIVO': 4.539786823443137e-05, 'POSITIVO': 0.9999545812606812},\n",
              " {'NEGATIVO': 4.539786823443137e-05, 'POSITIVO': 0.9999545812606812},\n",
              " {'NEGATIVO': 4.539786823443137e-05, 'POSITIVO': 0.9999545812606812},\n",
              " {'NEGATIVO': 4.539786823443137e-05, 'POSITIVO': 0.9999545812606812},\n",
              " {'NEGATIVO': 0.0001660137641010806, 'POSITIVO': 0.9999545812606812},\n",
              " {'NEGATIVO': 4.539786823443137e-05, 'POSITIVO': 0.9999545812606812},\n",
              " {'NEGATIVO': 4.539786823443137e-05, 'POSITIVO': 0.9999545812606812},\n",
              " {'NEGATIVO': 4.539786823443137e-05, 'POSITIVO': 0.9999545812606812},\n",
              " {'NEGATIVO': 4.539786823443137e-05, 'POSITIVO': 0.9999545812606812},\n",
              " {'NEGATIVO': 4.539786823443137e-05, 'POSITIVO': 0.9999545812606812},\n",
              " {'NEGATIVO': 4.539786823443137e-05, 'POSITIVO': 0.9999545812606812},\n",
              " {'NEGATIVO': 4.539786823443137e-05, 'POSITIVO': 0.9999545812606812},\n",
              " {'NEGATIVO': 0.00048398261424154043, 'POSITIVO': 0.9998387098312378},\n",
              " {'NEGATIVO': 4.539786823443137e-05, 'POSITIVO': 0.9999545812606812},\n",
              " {'NEGATIVO': 4.539786823443137e-05, 'POSITIVO': 0.9999545812606812},\n",
              " {'NEGATIVO': 4.539786823443137e-05, 'POSITIVO': 0.9999545812606812},\n",
              " {'NEGATIVO': 4.539786823443137e-05, 'POSITIVO': 0.9999545812606812},\n",
              " {'NEGATIVO': 4.539786823443137e-05, 'POSITIVO': 0.9999545812606812},\n",
              " {'NEGATIVO': 4.539786823443137e-05, 'POSITIVO': 0.9999545812606812},\n",
              " {'NEGATIVO': 4.539786823443137e-05, 'POSITIVO': 0.9999545812606812},\n",
              " {'NEGATIVO': 4.8422280087834224e-05, 'POSITIVO': 0.9999545812606812},\n",
              " {'NEGATIVO': 5.6459743063896894e-05, 'POSITIVO': 0.9999545812606812},\n",
              " {'NEGATIVO': 4.539786823443137e-05, 'POSITIVO': 0.9999545812606812},\n",
              " {'NEGATIVO': 4.539786823443137e-05, 'POSITIVO': 0.9999545812606812},\n",
              " {'NEGATIVO': 4.539786823443137e-05, 'POSITIVO': 0.9999545812606812},\n",
              " {'NEGATIVO': 4.539786823443137e-05, 'POSITIVO': 0.9999545812606812},\n",
              " {'NEGATIVO': 4.539786823443137e-05, 'POSITIVO': 0.9999545812606812},\n",
              " {'NEGATIVO': 4.539786823443137e-05, 'POSITIVO': 0.9999545812606812},\n",
              " {'NEGATIVO': 0.0001359433663310483, 'POSITIVO': 0.9999545812606812},\n",
              " {'NEGATIVO': 4.539786823443137e-05, 'POSITIVO': 0.9999545812606812},\n",
              " {'NEGATIVO': 4.539786823443137e-05, 'POSITIVO': 0.9999545812606812},\n",
              " {'NEGATIVO': 7.879639451857656e-05, 'POSITIVO': 0.9999545812606812},\n",
              " {'NEGATIVO': 4.539786823443137e-05, 'POSITIVO': 0.9999545812606812},\n",
              " {'NEGATIVO': 6.607003888348117e-05, 'POSITIVO': 0.9999545812606812},\n",
              " {'NEGATIVO': 4.539786823443137e-05, 'POSITIVO': 0.9999545812606812},\n",
              " {'NEGATIVO': 0.00012043848255416378, 'POSITIVO': 0.9999545812606812},\n",
              " {'NEGATIVO': 4.539786823443137e-05, 'POSITIVO': 0.9999545812606812},\n",
              " {'NEGATIVO': 7.432601705659181e-05, 'POSITIVO': 0.9999545812606812},\n",
              " {'NEGATIVO': 4.539786823443137e-05, 'POSITIVO': 0.9999545812606812},\n",
              " {'NEGATIVO': 4.539786823443137e-05, 'POSITIVO': 0.9999545812606812},\n",
              " {'NEGATIVO': 4.539786823443137e-05, 'POSITIVO': 0.9999545812606812},\n",
              " {'NEGATIVO': 4.539786823443137e-05, 'POSITIVO': 0.9999545812606812},\n",
              " {'NEGATIVO': 4.539786823443137e-05, 'POSITIVO': 0.9999545812606812},\n",
              " {'NEGATIVO': 0.0003992285346612334, 'POSITIVO': 0.9999434947967529},\n",
              " {'NEGATIVO': 4.539786823443137e-05, 'POSITIVO': 0.9999545812606812},\n",
              " {'NEGATIVO': 4.539786823443137e-05, 'POSITIVO': 0.9999545812606812},\n",
              " {'NEGATIVO': 4.539786823443137e-05, 'POSITIVO': 0.9999545812606812},\n",
              " {'NEGATIVO': 4.539786823443137e-05, 'POSITIVO': 0.9999545812606812},\n",
              " {'NEGATIVO': 6.101880353526212e-05, 'POSITIVO': 0.9999545812606812},\n",
              " {'NEGATIVO': 9.257795318262652e-05, 'POSITIVO': 0.9999545812606812},\n",
              " {'NEGATIVO': 0.00027683854568749666, 'POSITIVO': 0.9999502897262573},\n",
              " {'NEGATIVO': 5.9527614212129265e-05, 'POSITIVO': 0.9999545812606812},\n",
              " {'NEGATIVO': 4.539786823443137e-05, 'POSITIVO': 0.9999545812606812},\n",
              " {'NEGATIVO': 4.539786823443137e-05, 'POSITIVO': 0.9999545812606812},\n",
              " {'NEGATIVO': 4.539786823443137e-05, 'POSITIVO': 0.9999545812606812},\n",
              " {'NEGATIVO': 4.539786823443137e-05, 'POSITIVO': 0.9999545812606812},\n",
              " {'NEGATIVO': 0.00018177098536398262, 'POSITIVO': 0.9999545812606812},\n",
              " {'NEGATIVO': 7.174468919401988e-05, 'POSITIVO': 0.9999545812606812},\n",
              " {'NEGATIVO': 4.539786823443137e-05, 'POSITIVO': 0.9999545812606812},\n",
              " {'NEGATIVO': 4.539786823443137e-05, 'POSITIVO': 0.9999545812606812},\n",
              " {'NEGATIVO': 4.539786823443137e-05, 'POSITIVO': 0.9999545812606812},\n",
              " {'NEGATIVO': 4.539786823443137e-05, 'POSITIVO': 0.9999545812606812},\n",
              " {'NEGATIVO': 0.00013555580517277122, 'POSITIVO': 0.9999545812606812},\n",
              " {'NEGATIVO': 4.539786823443137e-05, 'POSITIVO': 0.9999545812606812},\n",
              " {'NEGATIVO': 8.934686047723517e-05, 'POSITIVO': 0.9999545812606812},\n",
              " {'NEGATIVO': 4.539786823443137e-05, 'POSITIVO': 0.9999545812606812},\n",
              " {'NEGATIVO': 6.275129999266937e-05, 'POSITIVO': 0.9999545812606812},\n",
              " {'NEGATIVO': 0.0005031895125284791, 'POSITIVO': 0.9998557567596436},\n",
              " {'NEGATIVO': 4.539786823443137e-05, 'POSITIVO': 0.9999545812606812},\n",
              " {'NEGATIVO': 4.539786823443137e-05, 'POSITIVO': 0.9999545812606812},\n",
              " {'NEGATIVO': 4.539786823443137e-05, 'POSITIVO': 0.9999545812606812},\n",
              " {'NEGATIVO': 4.539786823443137e-05, 'POSITIVO': 0.9999545812606812},\n",
              " {'NEGATIVO': 4.539786823443137e-05, 'POSITIVO': 0.9999545812606812},\n",
              " {'NEGATIVO': 4.539786823443137e-05, 'POSITIVO': 0.9999545812606812},\n",
              " {'NEGATIVO': 4.539786823443137e-05, 'POSITIVO': 0.9999545812606812},\n",
              " {'NEGATIVO': 4.539786823443137e-05, 'POSITIVO': 0.9999545812606812},\n",
              " {'NEGATIVO': 4.539786823443137e-05, 'POSITIVO': 0.9999545812606812},\n",
              " {'NEGATIVO': 4.539786823443137e-05, 'POSITIVO': 0.9999545812606812},\n",
              " ...]"
            ]
          },
          "metadata": {},
          "execution_count": 88
        }
      ]
    },
    {
      "cell_type": "code",
      "metadata": {
        "id": "YXTXMXAgEDMR"
      },
      "source": [
        "previsoes_final = []\n",
        "for previsao in previsoes:\n",
        "  if previsao['POSITIVO'] > previsao['NEGATIVO']:\n",
        "    previsoes_final.append(1)\n",
        "  else:\n",
        "    previsoes_final.append(0)\n",
        "\n",
        "previsoes_final = np.array(previsoes_final)"
      ],
      "execution_count": null,
      "outputs": []
    },
    {
      "cell_type": "code",
      "metadata": {
        "id": "ilep1MZKEVyg",
        "colab": {
          "base_uri": "https://localhost:8080/"
        },
        "outputId": "2a6abee5-371e-4961-bb25-d421c7b46c02"
      },
      "source": [
        "previsoes_final"
      ],
      "execution_count": null,
      "outputs": [
        {
          "output_type": "execute_result",
          "data": {
            "text/plain": [
              "array([1, 1, 1, ..., 0, 0, 0])"
            ]
          },
          "metadata": {},
          "execution_count": 90
        }
      ]
    },
    {
      "cell_type": "code",
      "metadata": {
        "id": "3bbnP269EaYs",
        "colab": {
          "base_uri": "https://localhost:8080/"
        },
        "outputId": "1923303e-90c8-400d-9f7b-8a1e18a6d590"
      },
      "source": [
        "respostas_reais = base_treinamento['sentiment'].values\n",
        "respostas_reais"
      ],
      "execution_count": null,
      "outputs": [
        {
          "output_type": "execute_result",
          "data": {
            "text/plain": [
              "array([1, 1, 1, ..., 0, 0, 0])"
            ]
          },
          "metadata": {},
          "execution_count": 91
        }
      ]
    },
    {
      "cell_type": "code",
      "metadata": {
        "id": "7dM1nOQtEo6p",
        "colab": {
          "base_uri": "https://localhost:8080/"
        },
        "outputId": "7995fa7e-fdb3-4c3a-f132-511ba6196ec2"
      },
      "source": [
        "from sklearn.metrics import confusion_matrix, accuracy_score\n",
        "accuracy_score(respostas_reais, previsoes_final)"
      ],
      "execution_count": null,
      "outputs": [
        {
          "output_type": "execute_result",
          "data": {
            "text/plain": [
              "0.9998428571428571"
            ]
          },
          "metadata": {},
          "execution_count": 92
        }
      ]
    },
    {
      "cell_type": "code",
      "metadata": {
        "id": "UuI8nXdAE-Nw",
        "colab": {
          "base_uri": "https://localhost:8080/"
        },
        "outputId": "7cea09bf-38b5-44aa-b255-433b2a46f3ea"
      },
      "source": [
        "cm = confusion_matrix(respostas_reais, previsoes_final)\n",
        "cm"
      ],
      "execution_count": null,
      "outputs": [
        {
          "output_type": "execute_result",
          "data": {
            "text/plain": [
              "array([[35041,     7],\n",
              "       [    4, 34948]])"
            ]
          },
          "metadata": {},
          "execution_count": 93
        }
      ]
    },
    {
      "cell_type": "code",
      "metadata": {
        "id": "ws7BgykmyWQG",
        "colab": {
          "base_uri": "https://localhost:8080/",
          "height": 286
        },
        "outputId": "0c88a81e-ae09-4dc0-9705-94e4e5a03c9e"
      },
      "source": [
        "sns.heatmap(cm, annot=True)"
      ],
      "execution_count": null,
      "outputs": [
        {
          "output_type": "execute_result",
          "data": {
            "text/plain": [
              "<matplotlib.axes._subplots.AxesSubplot at 0x7f87239efed0>"
            ]
          },
          "metadata": {},
          "execution_count": 94
        },
        {
          "output_type": "display_data",
          "data": {
            "text/plain": [
              "<Figure size 432x288 with 2 Axes>"
            ],
            "image/png": "[encoded data removed]"
          },
          "metadata": {
            "needs_background": "light"
          }
        }
      ]
    },
    {
      "cell_type": "markdown",
      "metadata": {
        "id": "HmLjfVrZAE2T"
      },
      "source": [
        "## Avaliação na base de teste"
      ]
    },
    {
      "cell_type": "code",
      "metadata": {
        "id": "AwmnAwRcF1sD"
      },
      "source": [
        "previsoes = []\n",
        "for texto in base_teste['tweet_text']:\n",
        "  previsao = modelo_carregado(texto)\n",
        "  previsoes.append(previsao.cats)"
      ],
      "execution_count": null,
      "outputs": []
    },
    {
      "cell_type": "code",
      "metadata": {
        "id": "Y7MpSvS4F8xv"
      },
      "source": [
        "previsoes_final = []\n",
        "for previsao in previsoes:\n",
        "  if previsao['POSITIVO'] > previsao['NEGATIVO']:\n",
        "    previsoes_final.append(1)\n",
        "  else:\n",
        "    previsoes_final.append(0)\n",
        "\n",
        "previsoes_final = np.array(previsoes_final)"
      ],
      "execution_count": null,
      "outputs": []
    },
    {
      "cell_type": "code",
      "metadata": {
        "id": "rgoCy1SXGEkw"
      },
      "source": [
        "respostas_reais = base_teste['sentiment'].values"
      ],
      "execution_count": null,
      "outputs": []
    },
    {
      "cell_type": "code",
      "metadata": {
        "id": "HbpqmtMlGJ0T",
        "colab": {
          "base_uri": "https://localhost:8080/"
        },
        "outputId": "5a398b95-f9d2-44a2-f5d8-b8c25dc7b8d8"
      },
      "source": [
        "accuracy_score(respostas_reais, previsoes_final)"
      ],
      "execution_count": null,
      "outputs": [
        {
          "output_type": "execute_result",
          "data": {
            "text/plain": [
              "0.9968"
            ]
          },
          "metadata": {},
          "execution_count": 98
        }
      ]
    },
    {
      "cell_type": "code",
      "metadata": {
        "id": "noYdfAJ0GQAF"
      },
      "source": [
        "cm = confusion_matrix(respostas_reais, previsoes_final)\n",
        "cm\n",
        "cmp = cm/respostas_reais.shape[0]"
      ],
      "execution_count": null,
      "outputs": []
    },
    {
      "cell_type": "code",
      "metadata": {
        "id": "WCe0F3G8zQkW",
        "colab": {
          "base_uri": "https://localhost:8080/",
          "height": 282
        },
        "outputId": "64e8882e-d23e-4cb0-8920-b8a92db5989e"
      },
      "source": [
        "sns.heatmap(cm, annot=True)"
      ],
      "execution_count": null,
      "outputs": [
        {
          "output_type": "execute_result",
          "data": {
            "text/plain": [
              "<matplotlib.axes._subplots.AxesSubplot at 0x7f87214a4750>"
            ]
          },
          "metadata": {},
          "execution_count": 104
        },
        {
          "output_type": "display_data",
          "data": {
            "text/plain": [
              "<Figure size 432x288 with 2 Axes>"
            ],
            "image/png": "[encoded data removed]"
          },
          "metadata": {
            "needs_background": "light"
          }
        }
      ]
    },
    {
      "cell_type": "code",
      "source": [
        "print('Verdadeiros Positivos :'+str(cm[0][0]))\n",
        "print('Verdadeiros Negativos :'+str(cm[1][1]))\n",
        "print('Falsos Positivos :'+str(cm[0][1]))\n",
        "print('Falsos Negativos :'+str(cm[1][0]))"
      ],
      "metadata": {
        "colab": {
          "base_uri": "https://localhost:8080/"
        },
        "id": "rxxCuDguCg45",
        "outputId": "a09b8bfe-3a5f-46d3-f933-ebab840eb13d"
      },
      "execution_count": null,
      "outputs": [
        {
          "output_type": "stream",
          "name": "stdout",
          "text": [
            "Verdadeiros Positivos :14884\n",
            "Verdadeiros Negativos :15020\n",
            "Falsos Positivos :68\n",
            "Falsos Negativos :28\n"
          ]
        }
      ]
    },
    {
      "cell_type": "code",
      "source": [
        "import numpy as np\n",
        "from pprint import pprint\n",
        "import unicodedata\n",
        "\n",
        "#Gensim\n",
        "import gensim\n",
        "import gensim.corpora as corpora\n",
        "from gensim.utils import simple_preprocess\n",
        "from gensim.models import CoherenceModel\n",
        "\n",
        "#Plotagem\n",
        "import matplotlib.pyplot as plt\n",
        "import matplotlib.colors as mcolors\n",
        "from wordcloud import WordCloud, STOPWORDS\n",
        "%matplotlib inline\n",
        "\n",
        "import logging\n",
        "logging.basicConfig(format='%(asctime)s : %(levelname)s : %(message)s', level=logging.ERROR)\n",
        "\n",
        "import warnings\n",
        "warnings.filterwarnings(\"ignore\",category=DeprecationWarning)"
      ],
      "metadata": {
        "id": "b3fagRiEF3Gl"
      },
      "execution_count": null,
      "outputs": []
    },
    {
      "cell_type": "code",
      "source": [
        "Base_dados = pd.concat([base_teste,base_treinamento], axis=0, ignore_index=True)"
      ],
      "metadata": {
        "id": "aUmAnd7Ct2Ke"
      },
      "execution_count": null,
      "outputs": []
    },
    {
      "cell_type": "code",
      "source": [
        "def sent_to_words(sentences):\n",
        "    for sentence in sentences:\n",
        "        yield(gensim.utils.simple_preprocess(str(sentence), deacc=False))  # deacc=True remove pontuações"
      ],
      "metadata": {
        "id": "dhv7QhAoFHj-"
      },
      "execution_count": null,
      "outputs": []
    },
    {
      "cell_type": "code",
      "source": [
        "data_words_nostops = list(sent_to_words(base_dados.tweet_text.values.tolist()))"
      ],
      "metadata": {
        "id": "Rj65UhvEElAa"
      },
      "execution_count": null,
      "outputs": []
    },
    {
      "cell_type": "code",
      "source": [
        "# Criando dicionário\n",
        "id2word = corpora.Dictionary(data_words_nostops)\n",
        "\n",
        "# Criando corpus\n",
        "texts = data_words_nostops\n",
        "\n",
        "# Frequencia do documento do termo\n",
        "corpus = [id2word.doc2bow(text) for text in texts]\n",
        "# visualizando\n",
        "print(corpus[:1])"
      ],
      "metadata": {
        "colab": {
          "base_uri": "https://localhost:8080/"
        },
        "id": "9E3MDEI7FSXI",
        "outputId": "8972f01e-e316-4a55-a46e-81d791d9ccfd"
      },
      "execution_count": null,
      "outputs": [
        {
          "output_type": "stream",
          "name": "stdout",
          "text": [
            "[[(0, 1), (1, 1), (2, 1), (3, 1), (4, 1)]]\n"
          ]
        }
      ]
    },
    {
      "cell_type": "code",
      "source": [
        "%%time\n",
        "\n",
        "# Construindo LDA Model\n",
        "lda_model = gensim.models.ldamodel.LdaModel(corpus=corpus,\n",
        "                                           id2word=id2word,\n",
        "                                           num_topics=20, \n",
        "                                           random_state=100,\n",
        "                                           update_every=1,\n",
        "                                           chunksize=100,\n",
        "                                           passes=10,\n",
        "                                           alpha='auto',\n",
        "                                           per_word_topics=True)\n",
        "\n",
        "# Imprindo as palavras chaves nos 10 tópicos\n",
        "pprint(lda_model.print_topics())\n",
        "doc_lda = lda_model[corpus]"
      ],
      "metadata": {
        "colab": {
          "base_uri": "https://localhost:8080/"
        },
        "id": "cO2O7DXcGDYs",
        "outputId": "0dd00dd1-6f02-43ef-b984-82325b7772ac"
      },
      "execution_count": null,
      "outputs": [
        {
          "output_type": "stream",
          "name": "stdout",
          "text": [
            "[(0,\n",
            "  '0.135*\"vc\" + 0.123*\"saudade\" + 0.091*\"ta\" + 0.030*\"beber\" + 0.027*\"tirar\" + '\n",
            "  '0.026*\"sdd\" + 0.025*\"odiar\" + 0.020*\"errar\" + 0.018*\"aaaa\" + 0.015*\"oq\"'),\n",
            " (1,\n",
            "  '0.120*\"ai\" + 0.090*\"conseguir\" + 0.080*\"vir\" + 0.080*\"amor\" + 0.074*\"mt\" + '\n",
            "  '0.048*\"eh\" + 0.029*\"feliz\" + 0.027*\"pai\" + 0.024*\"merda\" + 0.020*\"levar\"'),\n",
            " (2,\n",
            "  '0.167*\"triste\" + 0.111*\"tô\" + 0.085*\"gente\" + 0.059*\"deixar\" + 0.057*\"caro\" '\n",
            "  '+ 0.052*\"poxa\" + 0.045*\"pensar\" + 0.018*\"dor\" + 0.016*\"mto\" + '\n",
            "  '0.013*\"neném\"'),\n",
            " (3,\n",
            "  '0.066*\"outro\" + 0.060*\"so\" + 0.048*\"acreditar\" + 0.034*\"ler\" + '\n",
            "  '0.033*\"vezar\" + 0.032*\"jeito\" + 0.030*\"sobrar\" + 0.026*\"causar\" + '\n",
            "  '0.019*\"quantum\" + 0.017*\"jurar\"'),\n",
            " (4,\n",
            "  '0.784*\"emocaonegativa\" + 0.036*\"amar\" + 0.023*\"sentir\" + 0.015*\"pelar\" + '\n",
            "  '0.012*\"morrer\" + 0.006*\"sdds\" + 0.003*\"entrar\" + 0.003*\"iriar\" + '\n",
            "  '0.002*\"virar\" + 0.002*\"apoiar\"'),\n",
            " (5,\n",
            "  '0.079*\"pessoa\" + 0.078*\"passar\" + 0.077*\"nado\" + 0.071*\"deus\" + '\n",
            "  '0.063*\"vidar\" + 0.040*\"melhor\" + 0.037*\"ajudar\" + 0.033*\"menino\" + '\n",
            "  '0.024*\"porra\" + 0.022*\"haver\"'),\n",
            " (6,\n",
            "  '0.183*\"to\" + 0.114*\"pq\" + 0.102*\"nao\" + 0.046*\"voltar\" + 0.041*\"manir\" + '\n",
            "  '0.033*\"falir\" + 0.025*\"celular\" + 0.023*\"ninguém\" + 0.022*\"show\" + '\n",
            "  '0.018*\"quase\"'),\n",
            " (7,\n",
            "  '0.047*\"lindar\" + 0.043*\"suar\" + 0.042*\"ah\" + 0.041*\"pro\" + 0.039*\"peno\" + '\n",
            "  '0.034*\"infelizmente\" + 0.028*\"tao\" + 0.027*\"trabalhar\" + 0.026*\"cair\" + '\n",
            "  '0.021*\"viajar\"'),\n",
            " (8,\n",
            "  '0.090*\"tava\" + 0.073*\"esperar\" + 0.067*\"obrigar\" + 0.064*\"perder\" + '\n",
            "  '0.047*\"acontecer\" + 0.042*\"parecer\" + 0.032*\"agr\" + 0.028*\"melhorar\" + '\n",
            "  '0.021*\"antar\" + 0.020*\"rolar\"'),\n",
            " (9,\n",
            "  '0.378*\"querer\" + 0.160*\"umar\" + 0.052*\"chorar\" + 0.043*\"sair\" + '\n",
            "  '0.030*\"amanhã\" + 0.016*\"entender\" + 0.014*\"músico\" + 0.012*\"perguntar\" + '\n",
            "  '0.010*\"beijar\" + 0.007*\"festa\"'),\n",
            " (10,\n",
            "  '0.088*\"casar\" + 0.056*\"jogar\" + 0.051*\"precisar\" + 0.046*\"mandar\" + '\n",
            "  '0.046*\"algum\" + 0.042*\"né\" + 0.039*\"cmg\" + 0.033*\"vontade\" + 0.025*\"tb\" + '\n",
            "  '0.021*\"graça\"'),\n",
            " (11,\n",
            "  '0.142*\"achar\" + 0.132*\"comer\" + 0.122*\"dia\" + 0.047*\"olhar\" + '\n",
            "  '0.030*\"acordar\" + 0.029*\"foder\" + 0.023*\"fofo\" + 0.019*\"amigar\" + '\n",
            "  '0.015*\"filmar\" + 0.015*\"único\"'),\n",
            " (12,\n",
            "  '0.055*\"chamar\" + 0.048*\"ja\" + 0.030*\"comprar\" + 0.030*\"sonhar\" + '\n",
            "  '0.019*\"mear\" + 0.019*\"td\" + 0.019*\"kkk\" + 0.017*\"escola\" + 0.015*\"real\" + '\n",
            "  '0.014*\"andar\"'),\n",
            " (13,\n",
            "  '0.069*\"mundo\" + 0.064*\"anjo\" + 0.057*\"lindo\" + 0.039*\"namorar\" + '\n",
            "  '0.034*\"merecer\" + 0.032*\"pedir\" + 0.028*\"doer\" + 0.025*\"seguir\" + '\n",
            "  '0.023*\"aaa\" + 0.022*\"receber\"'),\n",
            " (14,\n",
            "  '0.151*\"tá\" + 0.098*\"amigo\" + 0.080*\"dormir\" + 0.059*\"alguém\" + '\n",
            "  '0.055*\"chegar\" + 0.039*\"falto\" + 0.032*\"noite\" + 0.025*\"lt\" + '\n",
            "  '0.016*\"cabeça\" + 0.014*\"aula\"'),\n",
            " (15,\n",
            "  '0.111*\"falar\" + 0.103*\"parir\" + 0.092*\"gostar\" + 0.033*\"horar\" + '\n",
            "  '0.028*\"seriar\" + 0.025*\"conhecer\" + 0.020*\"viver\" + 0.019*\"caralho\" + '\n",
            "  '0.014*\"direito\" + 0.014*\"sábado\"'),\n",
            " (16,\n",
            "  '0.244*\"ficar\" + 0.059*\"acabar\" + 0.055*\"comigo\" + 0.043*\"gt\" + 0.033*\"ruim\" '\n",
            "  '+ 0.031*\"coração\" + 0.029*\"contar\" + 0.023*\"parar\" + 0.018*\"sério\" + '\n",
            "  '0.018*\"mudar\"'),\n",
            " (17,\n",
            "  '0.059*\"hj\" + 0.050*\"tomar\" + 0.043*\"bar\" + 0.032*\"dm\" + 0.032*\"morar\" + '\n",
            "  '0.032*\"nenhum\" + 0.031*\"af\" + 0.028*\"bater\" + 0.025*\"começar\" + '\n",
            "  '0.024*\"legal\"'),\n",
            " (18,\n",
            "  '0.286*\"pra\" + 0.072*\"hoje\" + 0.071*\"mim\" + 0.035*\"mãe\" + 0.031*\"dever\" + '\n",
            "  '0.026*\"verdade\" + 0.023*\"lembrar\" + 0.022*\"esquecer\" + 0.010*\"brasil\" + '\n",
            "  '0.010*\"mensagem\"'),\n",
            " (19,\n",
            "  '0.036*\"ano\" + 0.029*\"desculpar\" + 0.024*\"foto\" + 0.024*\"tbm\" + '\n",
            "  '0.021*\"assistir\" + 0.020*\"ouvir\" + 0.015*\"oi\" + 0.014*\"sofrer\" + '\n",
            "  '0.014*\"semana\" + 0.013*\"vídeo\"')]\n",
            "CPU times: user 15min 47s, sys: 11 s, total: 15min 58s\n",
            "Wall time: 15min 54s\n"
          ]
        }
      ]
    },
    {
      "cell_type": "code",
      "source": [
        "%%time\n",
        "# Calculando a perplexidade\n",
        "print('\\nPerplexity: ', lda_model.log_perplexity(corpus))  # a medida de qualidade do modelo, quanto menor melhro.\n",
        "\n",
        "# Calculando o score de coerência\n",
        "coherence_model_lda = CoherenceModel(model=lda_model, texts=data_words_nostops, dictionary=id2word, coherence='c_v')\n",
        "coherence_lda = coherence_model_lda.get_coherence()\n",
        "print('\\nCoherence Score: ', coherence_lda)"
      ],
      "metadata": {
        "colab": {
          "base_uri": "https://localhost:8080/"
        },
        "id": "4D0HNXuVGi3X",
        "outputId": "013ed512-e937-459c-e45a-ffbef62cc43b"
      },
      "execution_count": null,
      "outputs": [
        {
          "output_type": "stream",
          "name": "stdout",
          "text": [
            "\n",
            "Perplexity:  -9.575925859042172\n",
            "\n",
            "Coherence Score:  0.28535129849159535\n",
            "CPU times: user 18.2 s, sys: 384 ms, total: 18.6 s\n",
            "Wall time: 22.8 s\n"
          ]
        }
      ]
    },
    {
      "cell_type": "code",
      "source": [
        "# Função para determinar a melhor quantidade de tópicos para a modelagem\n",
        "def compute_coherence_values(dictionary, corpus, texts, limit, start=3, step=3):\n",
        "    \"\"\"\n",
        "    Calcula o valor de coerência coherence para diferentes quantidades de tópicos\n",
        "\n",
        "    Entrada:\n",
        "    ----------\n",
        "    dictionary : Gensim dicionário\n",
        "    corpus : Gensim corpus\n",
        "    texts : Lista com os textos de entrada\n",
        "    limite : número máximo de tópicos\n",
        "\n",
        "    Retorno:\n",
        "    -------\n",
        "    model_list : Lista de modelos de tópicos de LDA\n",
        "    coherence_values : Valor de coerência correspondente ao modelo LDA com o respectivo número de tópicos.\n",
        "    \"\"\"\n",
        "    coherence_values = []\n",
        "    model_list = []\n",
        "    for num_topics in range(start, limit, step):\n",
        "        model = gensim.models.ldamodel.LdaModel(corpus=corpus, num_topics=num_topics, id2word=id2word)\n",
        "        model_list.append(model)\n",
        "        coherencemodel = CoherenceModel(model=model, texts=texts, dictionary=dictionary, coherence='c_v')\n",
        "        coherence_values.append(coherencemodel.get_coherence())\n",
        "\n",
        "    return model_list, coherence_values"
      ],
      "metadata": {
        "id": "BMd8YjzOTEoL"
      },
      "execution_count": null,
      "outputs": []
    },
    {
      "cell_type": "code",
      "source": [
        "%%time\n",
        "model_list, coherence_values = compute_coherence_values(dictionary=id2word, corpus=corpus, texts=data_words_nostops, start=3, limit=40, step=6)"
      ],
      "metadata": {
        "colab": {
          "base_uri": "https://localhost:8080/"
        },
        "id": "xrnHDtj7Te4L",
        "outputId": "df548b76-4d28-4bf4-81c5-00fc5884bb27"
      },
      "execution_count": null,
      "outputs": [
        {
          "output_type": "stream",
          "name": "stdout",
          "text": [
            "CPU times: user 2min 57s, sys: 3.05 s, total: 3min\n",
            "Wall time: 3min 28s\n"
          ]
        }
      ]
    },
    {
      "cell_type": "code",
      "source": [
        "# Mostrando gráfico\n",
        "limit=40; start=3; step=6;\n",
        "x = range(start, limit, step)\n",
        "plt.plot(x, coherence_values)\n",
        "plt.xlabel(\"Num Topics\")\n",
        "plt.ylabel(\"Score de Coerencia\")\n",
        "plt.legend((\"valores_coerencia\"), loc='best')\n",
        "plt.show()"
      ],
      "metadata": {
        "colab": {
          "base_uri": "https://localhost:8080/",
          "height": 279
        },
        "id": "Ic964gTLTkj0",
        "outputId": "6af75d5f-b01c-41da-ce28-11a6b5629ac9"
      },
      "execution_count": null,
      "outputs": [
        {
          "output_type": "display_data",
          "data": {
            "text/plain": [
              "<Figure size 432x288 with 1 Axes>"
            ],
            "image/png": "[encoded data removed]"
          },
          "metadata": {
            "needs_background": "light"
          }
        }
      ]
    },
    {
      "cell_type": "code",
      "source": [
        "# Lista dos valores de coerência, para melhor identificar o ponto de inflexão do gráfico\n",
        "for m, cv in zip(x, coherence_values):\n",
        "    print(\"A quantidade de tópicos =\", m, \" tem um valor de coerência de \", round(cv, 4))"
      ],
      "metadata": {
        "colab": {
          "base_uri": "https://localhost:8080/"
        },
        "id": "29oia-MUVnEx",
        "outputId": "cde15b0a-87df-491a-8a8c-c7d866004b97"
      },
      "execution_count": null,
      "outputs": [
        {
          "output_type": "stream",
          "name": "stdout",
          "text": [
            "A quantidade de tópicos = 3  tem um valor de coerência de  0.4268\n",
            "A quantidade de tópicos = 9  tem um valor de coerência de  0.3728\n",
            "A quantidade de tópicos = 15  tem um valor de coerência de  0.3689\n",
            "A quantidade de tópicos = 21  tem um valor de coerência de  0.338\n",
            "A quantidade de tópicos = 27  tem um valor de coerência de  0.3335\n",
            "A quantidade de tópicos = 33  tem um valor de coerência de  0.332\n",
            "A quantidade de tópicos = 39  tem um valor de coerência de  0.3262\n"
          ]
        }
      ]
    },
    {
      "cell_type": "code",
      "source": [
        "# Selecionando o modelo  e imprimindo os tópicos.\n",
        "optimal_model = model_list[3]\n",
        "model_topics = optimal_model.show_topics(formatted=False)\n",
        "pprint(optimal_model.print_topics(num_words=10))"
      ],
      "metadata": {
        "colab": {
          "base_uri": "https://localhost:8080/"
        },
        "id": "HjOnDehzVqXQ",
        "outputId": "2113e65d-4c95-48d8-98f7-310d5a3af700"
      },
      "execution_count": null,
      "outputs": [
        {
          "output_type": "stream",
          "name": "stdout",
          "text": [
            "[(15,\n",
            "  '0.234*\"emocaonegativa\" + 0.063*\"saudade\" + 0.050*\"ai\" + 0.047*\"amor\" + '\n",
            "  '0.037*\"hoje\" + 0.031*\"pensar\" + 0.029*\"eh\" + 0.029*\"perder\" + 0.026*\"anjo\" '\n",
            "  '+ 0.022*\"amar\"'),\n",
            " (5,\n",
            "  '0.178*\"dia\" + 0.075*\"jogar\" + 0.034*\"emocaopositiva\" + 0.033*\"sdds\" + '\n",
            "  '0.024*\"bonito\" + 0.023*\"começar\" + 0.016*\"musicar\" + 0.015*\"nenê\" + '\n",
            "  '0.011*\"dever\" + 0.010*\"manhã\"'),\n",
            " (6,\n",
            "  '0.058*\"gt\" + 0.055*\"amanhã\" + 0.024*\"seriar\" + 0.018*\"legal\" + '\n",
            "  '0.017*\"amigar\" + 0.016*\"sorriso\" + 0.015*\"super\" + 0.014*\"internet\" + '\n",
            "  '0.012*\"emocaonegativa\" + 0.012*\"sortir\"'),\n",
            " (9,\n",
            "  '0.125*\"emocaonegativa\" + 0.081*\"vc\" + 0.075*\"nao\" + 0.071*\"gente\" + '\n",
            "  '0.032*\"pq\" + 0.031*\"pra\" + 0.028*\"ta\" + 0.026*\"achar\" + 0.017*\"lembrar\" + '\n",
            "  '0.017*\"outro\"'),\n",
            " (0,\n",
            "  '0.045*\"trabalhar\" + 0.041*\"comprar\" + 0.035*\"pra\" + 0.028*\"seguir\" + '\n",
            "  '0.022*\"live\" + 0.020*\"gato\" + 0.019*\"cabeça\" + 0.017*\"praia\" + 0.017*\"umar\" '\n",
            "  '+ 0.016*\"irmão\"'),\n",
            " (11,\n",
            "  '0.086*\"nado\" + 0.072*\"vidar\" + 0.030*\"suar\" + 0.025*\"haver\" + 0.025*\"umar\" '\n",
            "  '+ 0.023*\"pessoa\" + 0.020*\"cair\" + 0.019*\"tou\" + 0.017*\"aparecer\" + '\n",
            "  '0.016*\"emocaonegativa\"'),\n",
            " (4,\n",
            "  '0.078*\"voltar\" + 0.069*\"esperar\" + 0.068*\"obrigar\" + 0.041*\"pelar\" + '\n",
            "  '0.029*\"pedir\" + 0.024*\"sofrer\" + 0.018*\"emocaopositiva\" + 0.018*\"neném\" + '\n",
            "  '0.016*\"jurar\" + 0.013*\"passar\"'),\n",
            " (19,\n",
            "  '0.217*\"emocaonegativa\" + 0.107*\"amar\" + 0.052*\"deixar\" + 0.025*\"merda\" + '\n",
            "  '0.024*\"chegar\" + 0.023*\"bar\" + 0.017*\"aguentar\" + 0.016*\"af\" + '\n",
            "  '0.016*\"cabelar\" + 0.013*\"umar\"'),\n",
            " (13,\n",
            "  '0.219*\"emocaonegativa\" + 0.070*\"tá\" + 0.059*\"morrer\" + 0.055*\"mac\" + '\n",
            "  '0.039*\"miller\" + 0.032*\"acreditar\" + 0.025*\"manir\" + 0.021*\"lindar\" + '\n",
            "  '0.020*\"ariano\" + 0.018*\"comer\"'),\n",
            " (18,\n",
            "  '0.107*\"emocaonegativa\" + 0.041*\"alguém\" + 0.035*\"precisar\" + 0.035*\"olhar\" '\n",
            "  '+ 0.034*\"ah\" + 0.027*\"foto\" + 0.026*\"ninguém\" + 0.025*\"umar\" + '\n",
            "  '0.024*\"namorar\" + 0.024*\"tirar\"'),\n",
            " (7,\n",
            "  '0.132*\"emocaonegativa\" + 0.063*\"mim\" + 0.052*\"pra\" + 0.036*\"peno\" + '\n",
            "  '0.033*\"infelizmente\" + 0.031*\"show\" + 0.017*\"umar\" + 0.015*\"msm\" + '\n",
            "  '0.015*\"mentir\" + 0.014*\"vcs\"'),\n",
            " (12,\n",
            "  '0.049*\"assistir\" + 0.028*\"migar\" + 0.024*\"vídeo\" + 0.024*\"pra\" + '\n",
            "  '0.023*\"perguntar\" + 0.020*\"viajar\" + 0.020*\"algum\" + 0.019*\"único\" + '\n",
            "  '0.019*\"umar\" + 0.018*\"receber\"'),\n",
            " (3,\n",
            "  '0.101*\"gostar\" + 0.062*\"lindo\" + 0.045*\"feliz\" + 0.040*\"parir\" + '\n",
            "  '0.023*\"postar\" + 0.022*\"real\" + 0.020*\"ficar\" + 0.019*\"emocaopositiva\" + '\n",
            "  '0.019*\"ganhar\" + 0.019*\"entrar\"'),\n",
            " (10,\n",
            "  '0.275*\"querer\" + 0.251*\"emocaonegativa\" + 0.045*\"vir\" + 0.024*\"pra\" + '\n",
            "  '0.021*\"hj\" + 0.018*\"pai\" + 0.017*\"umar\" + 0.014*\"semana\" + 0.014*\"agr\" + '\n",
            "  '0.012*\"ficar\"'),\n",
            " (14,\n",
            "  '0.070*\"acabar\" + 0.045*\"so\" + 0.042*\"chamar\" + 0.037*\"emocaonegativa\" + '\n",
            "  '0.025*\"imaginar\" + 0.023*\"abraçar\" + 0.023*\"dm\" + 0.021*\"overdose\" + '\n",
            "  '0.017*\"oq\" + 0.016*\"forçar\"'),\n",
            " (17,\n",
            "  '0.137*\"emocaonegativa\" + 0.067*\"sentir\" + 0.052*\"casar\" + 0.045*\"dormir\" + '\n",
            "  '0.042*\"conseguir\" + 0.027*\"pra\" + 0.025*\"acordar\" + 0.025*\"ja\" + '\n",
            "  '0.023*\"falto\" + 0.021*\"mãe\"'),\n",
            " (2,\n",
            "  '0.061*\"amigo\" + 0.059*\"ano\" + 0.039*\"acontecer\" + 0.037*\"mandar\" + '\n",
            "  '0.024*\"levar\" + 0.023*\"menino\" + 0.020*\"sdd\" + 0.020*\"oi\" + '\n",
            "  '0.020*\"responder\" + 0.019*\"umar\"'),\n",
            " (16,\n",
            "  '0.105*\"emocaonegativa\" + 0.070*\"tava\" + 0.065*\"chorar\" + 0.059*\"tô\" + '\n",
            "  '0.033*\"melhor\" + 0.028*\"ouvir\" + 0.024*\"vontade\" + 0.019*\"pra\" + '\n",
            "  '0.012*\"preocupar\" + 0.012*\"ficar\"'),\n",
            " (8,\n",
            "  '0.384*\"emocaonegativa\" + 0.086*\"to\" + 0.071*\"triste\" + 0.031*\"deus\" + '\n",
            "  '0.025*\"ficar\" + 0.022*\"poxa\" + 0.021*\"mt\" + 0.018*\"comigo\" + 0.017*\"manir\" '\n",
            "  '+ 0.014*\"ai\"'),\n",
            " (20,\n",
            "  '0.046*\"verdade\" + 0.034*\"tb\" + 0.029*\"entender\" + 0.021*\"cantar\" + '\n",
            "  '0.017*\"certar\" + 0.017*\"umar\" + 0.017*\"virar\" + 0.014*\"iriar\" + '\n",
            "  '0.012*\"chatear\" + 0.012*\"emocaopositiva\"')]\n"
          ]
        }
      ]
    },
    {
      "cell_type": "code",
      "source": [
        "def format_topics_sentences(ldamodel=lda_model, corpus=corpus, texts=data_words_nostops):\n",
        "    # Saída inicial\n",
        "    sent_topics_df = pd.DataFrame()\n",
        "\n",
        "    # Obtém o tópico principal em cada documento\n",
        "    for i, row in enumerate(ldamodel[corpus]):\n",
        "        row = sorted(row, key=lambda x: (x[1]), reverse=True)\n",
        "        # Obtém o tópico dominante, contribuição em percentual e palavras-chave para cada documento\n",
        "        for j, (topic_num, prop_topic) in enumerate(row):\n",
        "            if j == 0:  # => tópico dominante\n",
        "                wp = ldamodel.show_topic(topic_num)\n",
        "                topic_keywords = \", \".join([word for word, prop in wp])\n",
        "                sent_topics_df = sent_topics_df.append(pd.Series([int(topic_num), round(prop_topic,4), topic_keywords]), ignore_index=True)\n",
        "            else:\n",
        "                break\n",
        "    sent_topics_df.columns = ['Tópico dominante', 'Percentual de Contribuição', 'Palavras Chave']\n",
        "\n",
        "    # Adiciona o texto original no final da saída\n",
        "    contents = pd.Series(texts)\n",
        "    sent_topics_df = pd.concat([sent_topics_df, contents], axis=1)\n",
        "    return(sent_topics_df)"
      ],
      "metadata": {
        "id": "Ie9tU-fGV2Nb"
      },
      "execution_count": null,
      "outputs": []
    },
    {
      "cell_type": "code",
      "source": [
        "df_topic_sents_keywords = format_topics_sentences(ldamodel=optimal_model, corpus=corpus, texts=data_words_nostops)\n",
        "\n",
        "# Formatando\n",
        "df_dominant_topic = df_topic_sents_keywords.reset_index()\n",
        "df_dominant_topic.columns = ['Número do documento', 'Tópico dominante', 'Perc. de Contribuição do Tópico', 'Palavras Chave', 'Transcription']\n",
        "\n",
        "# Mostre\n",
        "df_dominant_topic.head(10)"
      ],
      "metadata": {
        "colab": {
          "base_uri": "https://localhost:8080/",
          "height": 598
        },
        "id": "KMGWdVelWHFh",
        "outputId": "f91d32d2-f7b6-4541-d52c-27d6b6e66be0"
      },
      "execution_count": null,
      "outputs": [
        {
          "output_type": "execute_result",
          "data": {
            "text/plain": [
              "   Número do documento  Tópico dominante  Perc. de Contribuição do Tópico  \\\n",
              "0                    0              17.0                           0.2230   \n",
              "1                    1               6.0                           0.7619   \n",
              "2                    2               1.0                           0.3898   \n",
              "3                    3               8.0                           0.7619   \n",
              "4                    4              14.0                           0.5048   \n",
              "5                    5               5.0                           0.4901   \n",
              "6                    6              20.0                           0.7445   \n",
              "7                    7              20.0                           0.2987   \n",
              "8                    8              13.0                           0.5588   \n",
              "9                    9               9.0                           0.3554   \n",
              "\n",
              "                                      Palavras Chave  \\\n",
              "0  emocaonegativa, sentir, casar, dormir, consegu...   \n",
              "1  gt, amanhã, seriar, legal, amigar, sorriso, su...   \n",
              "2  emocaonegativa, sair, mundo, tbm, parecer, rui...   \n",
              "3  emocaonegativa, to, triste, deus, ficar, poxa,...   \n",
              "4  acabar, so, chamar, emocaonegativa, imaginar, ...   \n",
              "5  dia, jogar, emocaopositiva, sdds, bonito, come...   \n",
              "6  verdade, tb, entender, cantar, certar, umar, v...   \n",
              "7  verdade, tb, entender, cantar, certar, umar, v...   \n",
              "8  emocaonegativa, tá, morrer, mac, miller, acred...   \n",
              "9  emocaonegativa, vc, nao, gente, pq, pra, ta, a...   \n",
              "\n",
              "                                       Transcription  \n",
              "0        [frio, barriga, sair, affu, emocaonegativa]  \n",
              "1              [relativizar, amigar, emocaopositiva]  \n",
              "2            [menino, vidar, paixão, emocaonegativa]  \n",
              "3                       [tô, triste, emocaonegativa]  \n",
              "4                  [neosoro, acabar, emocaonegativa]  \n",
              "5                      [medo, turma, emocaopositiva]  \n",
              "6  [pelar, jeito, sobrar, dacioclo, parir, presid...  \n",
              "7       [esquecer, inscrever, canal, emocaopositiva]  \n",
              "8  [gente, sério, catra, morrer, manir, emocaoneg...  \n",
              "9  [estragar, porra, celular, mulher, seven, resp...  "
            ],
            "text/html": [
              "\n",
              "  <div id=\"df-609bfef0-3c3f-4ab1-908b-c1f5c9de84f8\">\n",
              "    <div class=\"colab-df-container\">\n",
              "      <div>\n",
              "<style scoped>\n",
              "    .dataframe tbody tr th:only-of-type {\n",
              "        vertical-align: middle;\n",
              "    }\n",
              "\n",
              "    .dataframe tbody tr th {\n",
              "        vertical-align: top;\n",
              "    }\n",
              "\n",
              "    .dataframe thead th {\n",
              "        text-align: right;\n",
              "    }\n",
              "</style>\n",
              "<table border=\"1\" class=\"dataframe\">\n",
              "  <thead>\n",
              "    <tr style=\"text-align: right;\">\n",
              "      <th></th>\n",
              "      <th>Número do documento</th>\n",
              "      <th>Tópico dominante</th>\n",
              "      <th>Perc. de Contribuição do Tópico</th>\n",
              "      <th>Palavras Chave</th>\n",
              "      <th>Transcription</th>\n",
              "    </tr>\n",
              "  </thead>\n",
              "  <tbody>\n",
              "    <tr>\n",
              "      <th>0</th>\n",
              "      <td>0</td>\n",
              "      <td>17.0</td>\n",
              "      <td>0.2230</td>\n",
              "      <td>emocaonegativa, sentir, casar, dormir, consegu...</td>\n",
              "      <td>[frio, barriga, sair, affu, emocaonegativa]</td>\n",
              "    </tr>\n",
              "    <tr>\n",
              "      <th>1</th>\n",
              "      <td>1</td>\n",
              "      <td>6.0</td>\n",
              "      <td>0.7619</td>\n",
              "      <td>gt, amanhã, seriar, legal, amigar, sorriso, su...</td>\n",
              "      <td>[relativizar, amigar, emocaopositiva]</td>\n",
              "    </tr>\n",
              "    <tr>\n",
              "      <th>2</th>\n",
              "      <td>2</td>\n",
              "      <td>1.0</td>\n",
              "      <td>0.3898</td>\n",
              "      <td>emocaonegativa, sair, mundo, tbm, parecer, rui...</td>\n",
              "      <td>[menino, vidar, paixão, emocaonegativa]</td>\n",
              "    </tr>\n",
              "    <tr>\n",
              "      <th>3</th>\n",
              "      <td>3</td>\n",
              "      <td>8.0</td>\n",
              "      <td>0.7619</td>\n",
              "      <td>emocaonegativa, to, triste, deus, ficar, poxa,...</td>\n",
              "      <td>[tô, triste, emocaonegativa]</td>\n",
              "    </tr>\n",
              "    <tr>\n",
              "      <th>4</th>\n",
              "      <td>4</td>\n",
              "      <td>14.0</td>\n",
              "      <td>0.5048</td>\n",
              "      <td>acabar, so, chamar, emocaonegativa, imaginar, ...</td>\n",
              "      <td>[neosoro, acabar, emocaonegativa]</td>\n",
              "    </tr>\n",
              "    <tr>\n",
              "      <th>5</th>\n",
              "      <td>5</td>\n",
              "      <td>5.0</td>\n",
              "      <td>0.4901</td>\n",
              "      <td>dia, jogar, emocaopositiva, sdds, bonito, come...</td>\n",
              "      <td>[medo, turma, emocaopositiva]</td>\n",
              "    </tr>\n",
              "    <tr>\n",
              "      <th>6</th>\n",
              "      <td>6</td>\n",
              "      <td>20.0</td>\n",
              "      <td>0.7445</td>\n",
              "      <td>verdade, tb, entender, cantar, certar, umar, v...</td>\n",
              "      <td>[pelar, jeito, sobrar, dacioclo, parir, presid...</td>\n",
              "    </tr>\n",
              "    <tr>\n",
              "      <th>7</th>\n",
              "      <td>7</td>\n",
              "      <td>20.0</td>\n",
              "      <td>0.2987</td>\n",
              "      <td>verdade, tb, entender, cantar, certar, umar, v...</td>\n",
              "      <td>[esquecer, inscrever, canal, emocaopositiva]</td>\n",
              "    </tr>\n",
              "    <tr>\n",
              "      <th>8</th>\n",
              "      <td>8</td>\n",
              "      <td>13.0</td>\n",
              "      <td>0.5588</td>\n",
              "      <td>emocaonegativa, tá, morrer, mac, miller, acred...</td>\n",
              "      <td>[gente, sério, catra, morrer, manir, emocaoneg...</td>\n",
              "    </tr>\n",
              "    <tr>\n",
              "      <th>9</th>\n",
              "      <td>9</td>\n",
              "      <td>9.0</td>\n",
              "      <td>0.3554</td>\n",
              "      <td>emocaonegativa, vc, nao, gente, pq, pra, ta, a...</td>\n",
              "      <td>[estragar, porra, celular, mulher, seven, resp...</td>\n",
              "    </tr>\n",
              "  </tbody>\n",
              "</table>\n",
              "</div>\n",
              "      <button class=\"colab-df-convert\" onclick=\"convertToInteractive('df-609bfef0-3c3f-4ab1-908b-c1f5c9de84f8')\"\n",
              "              title=\"Convert this dataframe to an interactive table.\"\n",
              "              style=\"display:none;\">\n",
              "        \n",
              "  <svg xmlns=\"http://www.w3.org/2000/svg\" height=\"24px\"viewBox=\"0 0 24 24\"\n",
              "       width=\"24px\">\n",
              "    <path d=\"M0 0h24v24H0V0z\" fill=\"none\"/>\n",
              "    <path d=\"M18.56 5.44l.94 2.06.94-2.06 2.06-.94-2.06-.94-.94-2.06-.94 2.06-2.06.94zm-11 1L8.5 8.5l.94-2.06 2.06-.94-2.06-.94L8.5 2.5l-.94 2.06-2.06.94zm10 10l.94 2.06.94-2.06 2.06-.94-2.06-.94-.94-2.06-.94 2.06-2.06.94z\"/><path d=\"M17.41 7.96l-1.37-1.37c-.4-.4-.92-.59-1.43-.59-.52 0-1.04.2-1.43.59L10.3 9.45l-7.72 7.72c-.78.78-.78 2.05 0 2.83L4 21.41c.39.39.9.59 1.41.59.51 0 1.02-.2 1.41-.59l7.78-7.78 2.81-2.81c.8-.78.8-2.07 0-2.86zM5.41 20L4 18.59l7.72-7.72 1.47 1.35L5.41 20z\"/>\n",
              "  </svg>\n",
              "      </button>\n",
              "      \n",
              "  <style>\n",
              "    .colab-df-container {\n",
              "      display:flex;\n",
              "      flex-wrap:wrap;\n",
              "      gap: 12px;\n",
              "    }\n",
              "\n",
              "    .colab-df-convert {\n",
              "      background-color: #E8F0FE;\n",
              "      border: none;\n",
              "      border-radius: 50%;\n",
              "      cursor: pointer;\n",
              "      display: none;\n",
              "      fill: #1967D2;\n",
              "      height: 32px;\n",
              "      padding: 0 0 0 0;\n",
              "      width: 32px;\n",
              "    }\n",
              "\n",
              "    .colab-df-convert:hover {\n",
              "      background-color: #E2EBFA;\n",
              "      box-shadow: 0px 1px 2px rgba(60, 64, 67, 0.3), 0px 1px 3px 1px rgba(60, 64, 67, 0.15);\n",
              "      fill: #174EA6;\n",
              "    }\n",
              "\n",
              "    [theme=dark] .colab-df-convert {\n",
              "      background-color: #3B4455;\n",
              "      fill: #D2E3FC;\n",
              "    }\n",
              "\n",
              "    [theme=dark] .colab-df-convert:hover {\n",
              "      background-color: #434B5C;\n",
              "      box-shadow: 0px 1px 3px 1px rgba(0, 0, 0, 0.15);\n",
              "      filter: drop-shadow(0px 1px 2px rgba(0, 0, 0, 0.3));\n",
              "      fill: #FFFFFF;\n",
              "    }\n",
              "  </style>\n",
              "\n",
              "      <script>\n",
              "        const buttonEl =\n",
              "          document.querySelector('#df-609bfef0-3c3f-4ab1-908b-c1f5c9de84f8 button.colab-df-convert');\n",
              "        buttonEl.style.display =\n",
              "          google.colab.kernel.accessAllowed ? 'block' : 'none';\n",
              "\n",
              "        async function convertToInteractive(key) {\n",
              "          const element = document.querySelector('#df-609bfef0-3c3f-4ab1-908b-c1f5c9de84f8');\n",
              "          const dataTable =\n",
              "            await google.colab.kernel.invokeFunction('convertToInteractive',\n",
              "                                                     [key], {});\n",
              "          if (!dataTable) return;\n",
              "\n",
              "          const docLinkHtml = 'Like what you see? Visit the ' +\n",
              "            '<a target=\"_blank\" href=https://colab.research.google.com/notebooks/data_table.ipynb>data table notebook</a>'\n",
              "            + ' to learn more about interactive tables.';\n",
              "          element.innerHTML = '';\n",
              "          dataTable['output_type'] = 'display_data';\n",
              "          await google.colab.output.renderOutput(dataTable, element);\n",
              "          const docLink = document.createElement('div');\n",
              "          docLink.innerHTML = docLinkHtml;\n",
              "          element.appendChild(docLink);\n",
              "        }\n",
              "      </script>\n",
              "    </div>\n",
              "  </div>\n",
              "  "
            ]
          },
          "metadata": {},
          "execution_count": 141
        }
      ]
    },
    {
      "cell_type": "code",
      "source": [
        "# Gráfico do pyLDAVis\n",
        "\n",
        "import pyLDAvis\n",
        "import pyLDAvis.gensim_models as gensimvis "
      ],
      "metadata": {
        "colab": {
          "base_uri": "https://localhost:8080/"
        },
        "id": "0LZ33YziWMJZ",
        "outputId": "21113988-e485-45a1-8ca0-f8cbaaef00fa"
      },
      "execution_count": null,
      "outputs": [
        {
          "output_type": "stream",
          "name": "stderr",
          "text": [
            "/usr/local/lib/python3.7/dist-packages/past/types/oldstr.py:5: DeprecationWarning: Using or importing the ABCs from 'collections' instead of from 'collections.abc' is deprecated since Python 3.3,and in 3.9 it will stop working\n",
            "  from collections import Iterable\n"
          ]
        }
      ]
    },
    {
      "cell_type": "code",
      "source": [
        "# Visualizando os topicos\n",
        "pyLDAvis.enable_notebook()\n",
        "vis = gensimvis.prepare(lda_model, corpus, id2word)\n",
        "vis"
      ],
      "metadata": {
        "colab": {
          "base_uri": "https://localhost:8080/",
          "height": 916
        },
        "id": "VsE0_GY4ZjwP",
        "outputId": "21e888e8-13ff-48c7-a520-a75f4aed34d6"
      },
      "execution_count": null,
      "outputs": [
        {
          "output_type": "stream",
          "name": "stderr",
          "text": [
            "/usr/local/lib/python3.7/dist-packages/pyLDAvis/_prepare.py:247: FutureWarning: In a future version of pandas all arguments of DataFrame.drop except for the argument 'labels' will be keyword-only\n",
            "  by='saliency', ascending=False).head(R).drop('saliency', 1)\n"
          ]
        },
        {
          "output_type": "execute_result",
          "data": {
            "text/plain": [
              "PreparedData(topic_coordinates=              x         y  topics  cluster       Freq\n",
              "topic                                                \n",
              "4     -0.461062  0.140994       1        1  15.056742\n",
              "19     0.066759  0.073624       2        1  11.342649\n",
              "9     -0.068662 -0.328043       3        1   5.489957\n",
              "6     -0.061774 -0.214403       4        1   5.193625\n",
              "18     0.001547  0.007621       5        1   5.015751\n",
              "2     -0.031724 -0.064003       6        1   4.591964\n",
              "11     0.043030  0.039941       7        1   4.413694\n",
              "1     -0.015044 -0.026146       8        1   4.260237\n",
              "5      0.045219  0.036080       9        1   4.196469\n",
              "15     0.070802  0.050538      10        1   4.157960\n",
              "12     0.070147  0.051866      11        1   3.983583\n",
              "16     0.011949  0.010083      12        1   3.948306\n",
              "7      0.033317  0.026603      13        1   3.889696\n",
              "0     -0.001926 -0.008607      14        1   3.811850\n",
              "10     0.041116  0.032429      15        1   3.776569\n",
              "8      0.045978  0.032520      16        1   3.750304\n",
              "3      0.056233  0.037938      17        1   3.446568\n",
              "13     0.048376  0.033685      18        1   3.399466\n",
              "14     0.038313  0.028486      19        1   3.381737\n",
              "17     0.067406  0.038792      20        1   2.892873, topic_info=                Term          Freq         Total Category  logprob  loglift\n",
              "2     emocaonegativa  76343.000000  76343.000000  Default  30.0000  30.0000\n",
              "66            querer  13443.000000  13443.000000  Default  29.0000  29.0000\n",
              "44               pra   9283.000000   9283.000000  Default  28.0000  28.0000\n",
              "72             ficar   6227.000000   6227.000000  Default  27.0000  27.0000\n",
              "48                to   6153.000000   6153.000000  Default  26.0000  26.0000\n",
              "...              ...           ...           ...      ...      ...      ...\n",
              "174           chocar    122.292551    123.268967  Topic20  -5.0308   3.5350\n",
              "2832              bc    118.549478    119.525893  Topic20  -5.0619   3.5347\n",
              "2939          bostar    115.166813    116.143228  Topic20  -5.0909   3.5345\n",
              "2377            dedo    113.347608    114.324024  Topic20  -5.1068   3.5343\n",
              "1116           bicho    112.235614    113.212030  Topic20  -5.1166   3.5343\n",
              "\n",
              "[631 rows x 6 columns], token_table=      Topic      Freq     Term\n",
              "term                          \n",
              "403      18  0.997616      aaa\n",
              "510      14  0.998010     aaaa\n",
              "237       6  0.996096    aaaaa\n",
              "50        2  0.997633   aaaaaa\n",
              "4293     19  0.994849  aaaaaaa\n",
              "...     ...       ...      ...\n",
              "1297      9  0.994509    época\n",
              "3901     16  0.986641    ícone\n",
              "2150     18  0.993084     ódio\n",
              "2195      5  0.990781   ônibus\n",
              "1940      7  0.997463    único\n",
              "\n",
              "[602 rows x 3 columns], R=30, lambda_step=0.01, plot_opts={'xlab': 'PC1', 'ylab': 'PC2'}, topic_order=[5, 20, 10, 7, 19, 3, 12, 2, 6, 16, 13, 17, 8, 1, 11, 9, 4, 14, 15, 18])"
            ],
            "text/html": [
              "\n",
              "<link rel=\"stylesheet\" type=\"text/css\" href=\"https://cdn.jsdelivr.net/gh/bmabey/pyLDAvis@3.3.1/pyLDAvis/js/ldavis.v1.0.0.css\">\n",
              "\n",
              "\n",
              "<div id=\"ldavis_el691402181748593448433659077\"></div>\n",
              "<script type=\"text/javascript\">\n",
              "\n",
              "var ldavis_el691402181748593448433659077_data = {\"mdsDat\": {\"x\": [-0.461061947826014, 0.06675940815575752, -0.06866225870534622, -0.061774290846406, 0.0015474423348787638, -0.0317244480192007, 0.043030035505590536, -0.015044411577939, 0.04521892682600105, 0.07080242545137802, 0.0701468285547805, 0.011949281133590377, 0.033317437299002786, -0.0019257224882641357, 0.04111627534459725, 0.04597769195275447, 0.056232665506161385, 0.048375894922043104, 0.03831297050113307, 0.06740579597550166], \"y\": [0.14099435957854223, 0.0736236669428196, -0.32804312835101007, -0.21440282041397365, 0.00762111376415655, -0.06400255258189466, 0.03994075305428838, -0.026145786451072187, 0.03608045137677336, 0.05053806320428316, 0.051866236950542655, 0.010082702291402583, 0.026602654426317613, -0.008606719250889282, 0.032429374222993246, 0.03252014745818679, 0.03793820924875956, 0.033684972724955894, 0.028486371869607084, 0.038791929935211404], \"topics\": [1, 2, 3, 4, 5, 6, 7, 8, 9, 10, 11, 12, 13, 14, 15, 16, 17, 18, 19, 20], \"cluster\": [1, 1, 1, 1, 1, 1, 1, 1, 1, 1, 1, 1, 1, 1, 1, 1, 1, 1, 1, 1], \"Freq\": [15.056742304761356, 11.34264884455294, 5.4899572791184434, 5.193625020866228, 5.0157510558430625, 4.591964282610371, 4.4136935096424, 4.260237127244196, 4.196469027280045, 4.157959974341555, 3.9835830823894898, 3.94830563802752, 3.889696031131563, 3.81185019146238, 3.776569143100443, 3.7503037765316765, 3.446568111183924, 3.399465577909513, 3.381737283309056, 2.8928727386938404]}, \"tinfo\": {\"Term\": [\"emocaonegativa\", \"querer\", \"pra\", \"ficar\", \"to\", \"umar\", \"triste\", \"achar\", \"comer\", \"pq\", \"t\\u00e1\", \"dia\", \"vc\", \"ai\", \"nao\", \"t\\u00f4\", \"saudade\", \"falar\", \"parir\", \"gostar\", \"conseguir\", \"gente\", \"ta\", \"amigo\", \"tava\", \"casar\", \"vir\", \"amor\", \"hoje\", \"mim\", \"emocaonegativa\", \"amar\", \"sentir\", \"pelar\", \"morrer\", \"sdds\", \"entrar\", \"iriar\", \"virar\", \"apoiar\", \"culpar\", \"chatear\", \"taehyung\", \"chance\", \"demi\", \"ex\", \"tae\", \"bonoro\", \"caramba\", \"nojo\", \"faca\", \"drogar\", \"unhar\", \"namjoon\", \"enfim\", \"cabelo\", \"inteirar\", \"im\", \"negar\", \"no\\u00e7\\u00e3o\", \"ano\", \"desculpar\", \"foto\", \"tbm\", \"assistir\", \"ouvir\", \"oi\", \"sofrer\", \"semana\", \"v\\u00eddeo\", \"ngm\", \"ceder\", \"realmente\", \"rir\", \"postar\", \"demorar\", \"quebrar\", \"soft\", \"aaaaaa\", \"atar\", \"ruir\", \"mo\", \"tadinho\", \"po\", \"grupar\", \"emocaopositiva\", \"apagar\", \"manh\\u00e3\", \"amo\", \"julia\", \"facada\", \"querer\", \"umar\", \"chorar\", \"sair\", \"amanh\\u00e3\", \"entender\", \"m\\u00fasico\", \"perguntar\", \"beijar\", \"festa\", \"yoongi\", \"igual\", \"freira\", \"mae\", \"sacar\", \"abrir\", \"cachorro\", \"tio\", \"agradecer\", \"fome\", \"vender\", \"bocar\", \"tatuagem\", \"pras\", \"luzir\", \"my\", \"perfazer\", \"armys\", \"lo\", \"realidade\", \"to\", \"pq\", \"nao\", \"voltar\", \"manir\", \"falir\", \"celular\", \"ningu\\u00e9m\", \"show\", \"quase\", \"migar\", \"responder\", \"cantar\", \"vcs\", \"mac\", \"aff\", \"antigo\", \"marcar\", \"maravilhoso\", \"preocupar\", \"miller\", \"bad\", \"encontrar\", \"mulher\", \"estragar\", \"socorrer\", \"dps\", \"tratar\", \"p\\u00e9\", \"au\", \"pra\", \"hoje\", \"mim\", \"m\\u00e3e\", \"dever\", \"verdade\", \"lembrar\", \"esquecer\", \"brasil\", \"mensagem\", \"estudar\", \"ganhar\", \"desistir\", \"ligar\", \"aten\\u00e7\\u00e3o\", \"brigar\", \"juntar\", \"chato\", \"r\\u00e1pido\", \"idiota\", \"criar\", \"dan\\u00e7ar\", \"machucar\", \"magoar\", \"tambem\", \"guardar\", \"video\", \"raivar\", \"\\u00f4nibus\", \"falecer\", \"triste\", \"t\\u00f4\", \"gente\", \"deixar\", \"caro\", \"poxa\", \"pensar\", \"dor\", \"mto\", \"nen\\u00e9m\", \"apaixonar\", \"cuidar\", \"aaaaa\", \"certar\", \"pr\\u00edncipe\", \"horr\\u00edvel\", \"tristeza\", \"arrumar\", \"domingo\", \"super\", \"sexo\", \"tocar\", \"descobrir\", \"proteger\", \"motivar\", \"morte\", \"cidade\", \"aq\", \"exatamente\", \"filho\", \"achar\", \"comer\", \"dia\", \"olhar\", \"acordar\", \"foder\", \"fofo\", \"amigar\", \"filmar\", \"\\u00fanico\", \"ok\", \"homem\", \"pesar\", \"faculdade\", \"cena\", \"filhar\", \"beijo\", \"avisar\", \"iti\", \"combinar\", \"f\\u00e9ria\", \"lidar\", \"lutar\", \"dica\", \"est\\u00f4mago\", \"inchar\", \"nenem\", \"mam\\u00e3e\", \"roupar\", \"insuport\\u00e1vel\", \"ai\", \"conseguir\", \"vir\", \"amor\", \"mt\", \"eh\", \"feliz\", \"pai\", \"merda\", \"levar\", \"medo\", \"voce\", \"matar\", \"imaginar\", \"anivers\\u00e1rio\", \"crian\\u00e7a\", \"olho\", \"colar\", \"alguem\", \"tweets\", \"feio\", \"sp\", \"qria\", \"perdoar\", \"entao\", \"azul\", \"pagar\", \"bloquear\", \"pobre\", \"casal\", \"pessoa\", \"passar\", \"nado\", \"deus\", \"vidar\", \"melhor\", \"ajudar\", \"menino\", \"porra\", \"haver\", \"abra\\u00e7ar\", \"kkkk\", \"kkkkk\", \"formar\", \"escolher\", \"fechar\", \"vdd\", \"correr\", \"ve\", \"pizza\", \"bichar\", \"buscar\", \"lixar\", \"\\u00e9poca\", \"comemorar\", \"diferente\", \"fundir\", \"es\", \"lanchar\", \"depress\\u00e3o\", \"falar\", \"parir\", \"gostar\", \"horar\", \"seriar\", \"conhecer\", \"viver\", \"caralho\", \"direito\", \"s\\u00e1bado\", \"importante\", \"escrever\", \"situa\\u00e7\\u00e3o\", \"puta\", \"mostrar\", \"rt\", \"twitter\", \"dms\", \"comido\", \"smp\", \"f\\u00e3\", \"garoto\", \"fds\", \"recuperar\", \"esfor\\u00e7ar\", \"total\", \"costa\", \"carregar\", \"feij\\u00e3o\", \"instagram\", \"chamar\", \"ja\", \"comprar\", \"sonhar\", \"mear\", \"td\", \"kkk\", \"escola\", \"real\", \"andar\", \"n\\u00f3\", \"bu\\u00e9\", \"pessoal\", \"claro\", \"viagem\", \"escutar\", \"procurar\", \"preciso\", \"tweet\", \"votar\", \"palavra\", \"time\", \"s\\u00e9rie\", \"etc\", \"quartar\", \"nd\", \"apesar\", \"pronto\", \"m\\u00e9dico\", \"lan\\u00e7ar\", \"ficar\", \"acabar\", \"comigo\", \"gt\", \"ruim\", \"cora\\u00e7\\u00e3o\", \"contar\", \"parar\", \"s\\u00e9rio\", \"mudar\", \"animar\", \"comedir\", \"internet\", \"baixar\", \"tardar\", \"faltar\", \"ne\", \"bolsonaro\", \"cama\", \"v\\u00e1cuo\", \"cortar\", \"complicar\", \"ansioso\", \"d\\u00f3\", \"carai\", \"gastar\", \"gabi\", \"incrivel\", \"concordar\", \"grosso\", \"lindar\", \"suar\", \"ah\", \"pro\", \"peno\", \"infelizmente\", \"tao\", \"trabalhar\", \"cair\", \"viajar\", \"aguentar\", \"continuar\", \"mds\", \"tou\", \"feriar\", \"dif\\u00edcil\", \"dinheiro\", \"oh\", \"me\", \"apertar\", \"nen\\u00ea\", \"praia\", \"the\", \"pqp\", \"m\\u00e3o\", \"curtir\", \"sad\", \"normal\", \"not\\u00edcia\", \"fam\\u00edlia\", \"vc\", \"saudade\", \"ta\", \"beber\", \"tirar\", \"sdd\", \"odiar\", \"errar\", \"aaaa\", \"oq\", \"msm\", \"for\\u00e7ar\", \"p\\u00f4r\", \"precioso\", \"mimo\", \"sumir\", \"adorar\", \"mano\", \"musicar\", \"sorriso\", \"tadinha\", \"abandonar\", \"amizade\", \"cinema\", \"cheio\", \"gnt\", \"valer\", \"aproveitar\", \"junto\", \"amanhar\", \"casar\", \"jogar\", \"precisar\", \"mandar\", \"algum\", \"n\\u00e9\", \"cmg\", \"vontade\", \"tb\", \"gra\\u00e7a\", \"conversar\", \"problema\", \"mentir\", \"aparecer\", \"instar\", \"encher\", \"obg\", \"trocar\", \"ara\\u00fajo\", \"idear\", \"resolver\", \"ignorar\", \"montar\", \"cm\", \"explicar\", \"perceber\", \"motivo\", \"preferir\", \"crescer\", \"cancelar\", \"tava\", \"esperar\", \"obrigar\", \"perder\", \"acontecer\", \"parecer\", \"agr\", \"melhorar\", \"antar\", \"rolar\", \"cabelar\", \"sono\", \"live\", \"gato\", \"incr\\u00edvel\", \"trazer\", \"sol\", \"temporada\", \"paz\", \"desejar\", \"ahhh\", \"ninguem\", \"importar\", \"nene\", \"amp\", \"descansar\", \"epis\\u00f3dio\", \"posto\", \"fixar\", \"\\u00edcone\", \"outro\", \"so\", \"acreditar\", \"ler\", \"vezar\", \"jeito\", \"sobrar\", \"causar\", \"quantum\", \"jurar\", \"existir\", \"jimin\", \"corpo\", \"sortir\", \"converso\", \"acompanhar\", \"kkkkkkk\", \"alto\", \"frio\", \"aprender\", \"esperan\\u00e7ar\", \"favorito\", \"sinceramente\", \"sorry\", \"\\u00e1lbum\", \"academiar\", \"positivo\", \"burro\", \"familia\", \"noto\", \"mundo\", \"anjo\", \"lindo\", \"namorar\", \"merecer\", \"pedir\", \"doer\", \"seguir\", \"aaa\", \"receber\", \"bonito\", \"mau\", \"colocar\", \"irm\\u00e3o\", \"ti\", \"terminar\", \"beb\\u00e9\", \"certo\", \"\\u00f3dio\", \"desenhar\", \"velho\", \"bts\", \"almo\", \"especial\", \"qnd\", \"livrar\", \"significar\", \"gatar\", \"querido\", \"rem\\u00e9dio\", \"t\\u00e1\", \"amigo\", \"dormir\", \"algu\\u00e9m\", \"chegar\", \"falto\", \"noite\", \"lt\", \"cabe\\u00e7a\", \"aula\", \"doce\", \"coragem\", \"bolar\", \"nome\", \"voz\", \"banhar\", \"aaaaaaa\", \"branco\", \"explodir\", \"duvidar\", \"cal\\u00e7ar\", \"net\", \"av\\u00f4\", \"preto\", \"ow\", \"pequeno\", \"queimar\", \"orelhar\", \"bolsar\", \"necesito\", \"hj\", \"tomar\", \"bar\", \"dm\", \"morar\", \"nenhum\", \"af\", \"bater\", \"come\\u00e7ar\", \"legal\", \"cansar\", \"vergonha\", \"doente\", \"vestir\", \"fav\", \"kkkkkk\", \"dnv\", \"nascer\", \"hist\\u00f3ria\", \"fc\", \"baby\", \"energia\", \"participar\", \"meter\", \"\\u00e1gua\", \"chocar\", \"bc\", \"bostar\", \"dedo\", \"bicho\"], \"Freq\": [76343.0, 13443.0, 9283.0, 6227.0, 6153.0, 5680.0, 4957.0, 4070.0, 3783.0, 3820.0, 3304.0, 3496.0, 3338.0, 3303.0, 3442.0, 3295.0, 3043.0, 2977.0, 2766.0, 2479.0, 2484.0, 2517.0, 2233.0, 2143.0, 2180.0, 2148.0, 2219.0, 2213.0, 2322.0, 2293.0, 76342.19496772188, 3543.3038907415025, 2245.090567105651, 1435.5238579481456, 1184.2982774384097, 576.081412688322, 334.882674089622, 273.98056709861726, 243.16744662158158, 203.14799851261063, 176.87215890780976, 172.71785879714668, 163.33167719349248, 157.1974296044065, 144.23283672360995, 140.63013189069625, 131.77679801685025, 128.48252607338642, 118.56882725869738, 114.60103859745527, 105.28850888510785, 102.34190018095993, 94.33186004782362, 93.52118454539514, 92.37449922501165, 86.03542928744176, 85.22893313856217, 83.14031679710327, 77.206162138781, 72.70204389823405, 2646.6375320822576, 2110.9897697850934, 1775.5615917236873, 1774.4888906284723, 1553.874998887559, 1501.87695134169, 1102.0293610515848, 1051.3681913393664, 1009.2305320117222, 945.4199907755152, 745.818778325688, 737.9340766855943, 715.2133734574412, 633.258640687437, 616.3780546810542, 604.7157965589131, 585.9801635457674, 558.5045524299036, 543.3492489961518, 541.7347976218061, 497.72001390408354, 477.0095487007058, 471.97057392426603, 392.5532023373331, 389.4945278336803, 380.1464647753371, 340.2362288764472, 309.2494936010255, 293.59488587897584, 279.761935684588, 327.85772029064117, 13442.62346184637, 5679.501679660583, 1849.870668520985, 1536.7603263561716, 1064.8546583465522, 561.1276372602028, 482.49064241902164, 425.07464283901095, 341.79523376298926, 256.7713298874658, 244.4769778519718, 222.39886220710468, 204.82872967682206, 202.1792605215676, 199.052872692852, 183.58259164429805, 173.8822623367055, 161.0004295989832, 138.92113952203314, 136.1127250444532, 133.58924267736526, 131.5540924786292, 117.83536109272323, 115.88610984901227, 111.63713036196161, 111.61910861894219, 109.64013266462462, 105.62790049007094, 94.32745709334378, 86.29807997904436, 6152.2629557693635, 3820.0002083889985, 3441.08976642517, 1539.8073482597524, 1382.7199965319594, 1110.4743621304735, 842.038623298384, 771.8954081896819, 746.5858638733336, 589.6623826599518, 585.5982311587222, 478.9897267009299, 451.15261427641093, 424.3809418675734, 420.16747290563774, 388.81659608195935, 342.0654587490319, 330.6491671096294, 330.1735482770262, 318.7971601719771, 309.0030489189331, 261.4592083155187, 248.1670749988287, 234.7944930271932, 232.34327368141894, 217.04505668100083, 197.9897263156467, 189.29537211782798, 168.67295954041285, 160.13884541780166, 9282.367908367343, 2322.010860316591, 2292.687757271934, 1124.878192058595, 998.2273890402097, 843.5859226516754, 759.4571251500809, 722.8890249441201, 325.2417118284373, 308.5993940047476, 306.8885068852593, 290.06208847955736, 285.9449877114078, 281.16964651064245, 262.55179131363104, 259.44867943488345, 229.6165870943659, 227.97684966623478, 207.95814046744815, 203.25015571833515, 200.32585504352522, 194.93507203502168, 193.1796936896719, 191.90573942415975, 174.1060905652476, 164.38262685078425, 148.63273289583432, 142.08235197579063, 138.30585693062517, 135.0698758746446, 4956.127653335169, 3294.846440006031, 2516.456274720215, 1746.3374947418838, 1682.6261668041839, 1536.0428168129952, 1346.6604243833071, 528.9885671159931, 489.87605727854236, 392.1968619995034, 344.35633555900563, 323.7290364683005, 322.27861918626417, 316.3984466654692, 280.6465295411492, 252.9537037417944, 246.47198548507552, 230.79300123068248, 226.2817541021268, 211.2184971094712, 199.2957908918596, 199.08093731687543, 192.92045483219485, 188.3763757419264, 177.52788205669594, 167.70131603940814, 155.07014229905587, 135.3241454827626, 126.61079465275192, 118.17768460845215, 4069.484993371196, 3782.441161686356, 3495.712664111615, 1331.3649756983853, 870.0983566613655, 821.8276089880327, 646.5263130187365, 556.0267000764784, 428.81061106256175, 415.0815820232599, 394.09992164568126, 365.45228585045203, 326.5021665685817, 242.9364464376576, 236.43531352050627, 217.5848712807716, 196.52279485377616, 195.51670988559667, 191.44743437024937, 175.62903758296875, 164.2566762078485, 130.52036812729543, 122.60841029422168, 113.6881333444151, 109.52644652968006, 104.40811193275974, 98.0202955621738, 96.48583446113011, 95.90457018066698, 89.94844317474859, 3302.207727418361, 2483.35148437786, 2218.4318817838175, 2212.4188187703626, 2037.0373349954612, 1326.4387151103208, 804.0970465835234, 737.780219610795, 652.4895787425733, 558.38538903585, 500.93514982242453, 442.9945701504765, 384.9083259883893, 341.08012979684986, 320.1833854634132, 231.3747186750816, 197.4501546403448, 188.92874345879412, 180.63056554724776, 173.63698848653752, 172.11337745498645, 160.0434160179761, 146.1496062896021, 140.76012284355645, 126.51946783953484, 123.64522556750732, 122.64745975123988, 116.18425906240641, 114.53656108811876, 108.51901826262153, 2148.627719494563, 2128.285237084031, 2095.159970362663, 1920.346200192464, 1698.829930947952, 1090.0357174362052, 996.2616155308116, 882.9075152155754, 657.3819841176125, 587.2260719560375, 568.3888834770866, 444.8194396715884, 411.05054258455493, 352.20603202022863, 237.9878657783691, 226.36195723244126, 226.25190382401067, 216.30537185296222, 206.10077576586735, 172.10259231526769, 171.06943812681737, 160.506156942025, 152.549727937421, 149.85444359517342, 148.7861517203687, 148.30323928606387, 128.34082298353024, 127.130640098913, 125.27801538498075, 113.3187097488073, 2976.6808684655307, 2765.972947762428, 2478.1077311865242, 894.2811719429156, 762.965938847558, 682.4954945584227, 548.8335711932546, 522.2285108414221, 380.10764826691144, 379.2312913206079, 346.7950596888855, 338.3688936636054, 328.16400566845766, 327.9008931257674, 279.52752311402116, 251.73443483992835, 223.91310850892552, 219.5680307457958, 219.33370749094016, 215.90637910536088, 205.38168947811846, 183.4948902253675, 170.30828140729878, 152.17021575309337, 133.39118128536256, 127.22769292579434, 127.12072907047155, 125.69311614362068, 124.14888029229103, 123.28269606214141, 1414.300139336258, 1243.7904853907612, 784.3849192445294, 779.7999831404757, 501.5693681237023, 480.90227616897806, 477.82294322540906, 439.0779550571895, 384.1297050442841, 366.30242262217047, 365.75815380109793, 364.3554607290858, 327.1011925268436, 293.515679780966, 274.38587778793567, 269.42182831153605, 242.5667121682504, 229.2112535719347, 228.68537269762444, 208.62047399678926, 197.340512882251, 192.16428186351206, 181.31032818659403, 180.20767551481944, 171.52711233129335, 170.91933787946408, 164.85704067676102, 164.7184349266233, 163.83302888435105, 154.4576005559753, 6226.396372927188, 1516.6150134302143, 1403.634663179409, 1095.1676117245142, 841.0845695279874, 790.0662571986392, 742.1441671523468, 582.8346394057786, 466.5501198115499, 452.07367345017167, 398.2225225858537, 304.545250791095, 303.822599067462, 285.89875209224664, 242.60740991316146, 226.54573600131096, 223.35286829958076, 195.526601343705, 177.76248578608448, 163.92865294341047, 162.5400947752037, 151.15856210554026, 139.71713164131432, 130.82279094832617, 126.13536917976924, 114.65901122302387, 111.39025711980133, 106.02647207222763, 95.19036027348778, 93.84801322404526, 1190.3852155276877, 1071.2937209599452, 1053.832315103816, 1021.0959294255186, 987.5836062747916, 847.6987500878446, 712.028905135708, 669.2410070630755, 651.3658491448592, 531.6742593871352, 498.7955028712491, 458.595969443538, 455.91492546179967, 443.36074282198746, 440.4348978807863, 435.1357212324378, 430.25592209909394, 385.34661885247255, 332.97280837198224, 276.7127943797135, 268.8941648846838, 263.9892387283081, 259.93499825000447, 258.2425807397543, 237.41961517457116, 236.6822823727882, 232.53032308942892, 220.82691988523726, 209.69743007557327, 195.3552089456058, 3337.462087385728, 3043.0080055099147, 2232.721408121617, 749.0199275229994, 656.6174017662371, 631.0679655038622, 610.7794599101884, 484.3629932386225, 454.921425682952, 377.04319587289183, 354.5051641769824, 337.279516591642, 331.34429316131923, 309.80645665257686, 273.67364462542366, 252.79962642763692, 251.47908762426903, 232.3840721790652, 220.44113109407363, 218.89020031662756, 217.38174159900902, 201.69092262024446, 200.7954030288774, 194.25077789643157, 186.78870803410848, 176.3435100280607, 172.45709833611568, 167.0714619817445, 157.92099566212775, 156.26960433646323, 2147.6741512423223, 1362.8136694918119, 1239.5758134973762, 1122.6188957384352, 1114.2784782913714, 1019.3875912892701, 960.5100081787563, 798.5906465967332, 609.2621145919294, 521.7670191626676, 498.54853937743053, 460.6274589840548, 385.4287944201896, 378.69964363306985, 228.21813383875096, 224.63980691479568, 220.48225146258662, 220.10795586286207, 189.82192993450695, 188.05959777988477, 161.82888841629648, 160.07306495879362, 145.06792372301828, 143.3381122963104, 139.2914891661575, 136.99236018180935, 123.64492265657923, 122.56477478464348, 119.8852738994139, 119.1523513641838, 2179.719817951286, 1764.496038947858, 1629.005726138475, 1547.829019208134, 1130.774326679293, 1010.3347666799078, 776.1487773385451, 671.289474245885, 503.07228275134213, 487.01255683411074, 428.77845109625434, 421.5027077366009, 379.700223751048, 360.2791072943807, 318.84549082341505, 232.51440163250615, 194.58428076970102, 169.37585177141642, 167.8742567990336, 160.87018090616434, 148.89743337649375, 138.35310394062287, 137.36955516581892, 136.1262827106208, 135.2463748145019, 134.77330143606457, 126.67611484517617, 110.21943035094908, 108.86533040576595, 104.43230990428783, 1462.6862109716685, 1328.8089104089336, 1077.1335720865068, 765.9066085594503, 743.163624984517, 717.187392659756, 670.9111201228775, 580.7097190371181, 428.58706426923175, 380.6408323360517, 306.5117571775011, 245.26884272183244, 229.15155171623402, 224.8308957565941, 219.41062036261857, 212.18723494067603, 193.35334705130964, 192.0447282710921, 189.00234745216525, 185.58043229490522, 169.00781015948044, 165.1540329433318, 163.0588160585471, 145.971130892396, 133.38943465448043, 131.52692503104265, 128.0047055568854, 126.52627870234305, 125.06272251575771, 123.84396120050671, 1516.2613911585147, 1414.9615095382305, 1244.0664376445875, 849.1319053072251, 750.3017252466813, 695.2845752782948, 607.308217344548, 543.4642605889159, 495.2041288693454, 492.59479985579617, 440.9898367603596, 431.9233115951107, 414.3241887816425, 363.6851870942019, 303.40093148600295, 266.122552270142, 243.0045805979857, 207.8547211280175, 192.35826567682892, 188.18189709365535, 183.70974200732078, 173.31685845713068, 172.39616944833028, 159.00776897977815, 139.62028397183957, 138.73595627913522, 138.5573351547975, 134.53200430884993, 128.83258822721615, 124.32632520212107, 3303.9684705071572, 2142.0726216301814, 1755.71641204527, 1282.113431756273, 1203.8743291299302, 856.6680754570141, 692.6357538858932, 555.2339889849023, 349.9432381627255, 313.982076633648, 237.5613809524958, 233.45015750406313, 230.22280715534532, 219.84363082691613, 181.1823697435994, 152.93160661632032, 128.68656787037634, 127.30852833690007, 124.93356643294908, 115.83441963930852, 115.51016845017905, 108.88714202467192, 104.19788476549498, 101.426481128626, 101.21271152965869, 96.83483648899657, 96.2391753471649, 92.5856511544811, 89.79929994841835, 85.47825012479343, 1112.8907272663769, 927.0377896336875, 799.8144964745919, 604.7879446235705, 594.5279363955423, 590.0775561079405, 582.3750016601832, 518.0573732994309, 469.98255565932044, 454.5971106348414, 290.3216106366446, 272.16741238081113, 227.7869793765296, 207.35229505586256, 176.7544226665039, 172.64561497559635, 168.74913525384954, 155.19698012073272, 150.3147268357591, 147.1474838632679, 133.9096804628187, 132.84158187214015, 131.04033293375966, 130.73745179252947, 124.59128053448134, 122.29255134815952, 118.5494777125059, 115.1668125003674, 113.3476080769101, 112.23561442659718], \"Total\": [76343.0, 13443.0, 9283.0, 6227.0, 6153.0, 5680.0, 4957.0, 4070.0, 3783.0, 3820.0, 3304.0, 3496.0, 3338.0, 3303.0, 3442.0, 3295.0, 3043.0, 2977.0, 2766.0, 2479.0, 2484.0, 2517.0, 2233.0, 2143.0, 2180.0, 2148.0, 2219.0, 2213.0, 2322.0, 2293.0, 76343.18532047624, 3544.2942434958504, 2246.080919859999, 1436.5142107024933, 1185.2886301927574, 577.0717654611412, 335.8730268439699, 274.97091990059835, 244.1577993820468, 204.1383512996382, 177.8625116621578, 173.7082115576119, 164.32202994784052, 158.18778240313605, 145.223189477958, 141.62048465116146, 132.7671507711983, 129.47619460877715, 119.55918001916257, 115.59139150898403, 106.2788617661739, 103.3322529269643, 95.32221281414944, 94.51153732690523, 93.36485198547683, 87.02578206026098, 86.21928589291018, 84.13066961512494, 78.1965149152898, 73.69239667105327, 2647.5765899444327, 2111.9288276472685, 1776.5006495858618, 1775.4279484906467, 1554.8140567497335, 1502.8160092038645, 1102.9684189137593, 1052.3072492015408, 1010.169589873897, 946.3590486376901, 746.7578361878628, 738.8731345477692, 716.1524313196161, 634.1976985496119, 617.3171125432291, 605.654854421088, 586.9192214079422, 559.4523261612841, 544.2883068583267, 542.673855483981, 498.6590717662582, 477.94860656288046, 472.9096317864407, 393.49226019950777, 390.43358569585496, 381.08552263751176, 341.1752867386219, 310.18855146320016, 294.5339437411505, 280.70099359324115, 383.6314647026823, 13443.609137092362, 5680.487354906579, 1850.85634376698, 1537.7460016021666, 1065.8403335925473, 562.1133125061983, 483.4763176566732, 426.06031808500614, 342.78090901510166, 257.757005133461, 245.46265309796718, 223.38453745921723, 205.81440492281743, 203.16493580596503, 200.03854793884736, 184.56826689029342, 174.86793757435726, 161.98610484497857, 139.90681483447108, 137.09840029044858, 134.57491794183187, 132.53976773660239, 118.82103640239224, 116.87178510086824, 112.62280565132204, 112.60478393138013, 110.62580791061995, 106.6135757545375, 95.31313239035019, 87.2837552370175, 6153.247414690689, 3820.984667310324, 3442.0742253464955, 1540.7918071810775, 1383.704455444941, 1111.4588210517986, 843.0230822473876, 772.8798671110073, 747.570322794659, 590.6468415812773, 586.5826900800477, 479.97418562225516, 452.1370731977362, 425.3654007888987, 421.15193181861935, 389.8010550152625, 343.0499177329794, 331.63362603095464, 331.15800719835147, 319.78161909330237, 309.9881774996771, 262.44366723684396, 249.1515339201541, 235.7789519485186, 233.32773263467857, 218.02951563791012, 198.9741852489499, 190.27983103915338, 169.65741846785542, 161.12330438691905, 9283.346122940831, 2322.989074890082, 2293.6659718454252, 1125.8564066320862, 999.205603613701, 844.5641372251667, 760.4353397152286, 723.8672395176114, 326.2199264019284, 309.57760857823865, 307.86672145875036, 291.04030304470484, 286.9232022848989, 282.1478610841335, 263.5300058871221, 260.4268940083745, 230.5948016595135, 228.95506423972603, 208.93635505355, 204.22837028348275, 201.30406962899428, 195.91328660851292, 194.15790826316314, 192.8839540096288, 175.08430513873884, 165.36084144274673, 149.61094749331426, 143.06056654928187, 139.28407154262322, 136.0480904397922, 4957.111031783155, 3295.829818454017, 2517.439653168201, 1747.3208731898696, 1683.6095452521697, 1537.026195260981, 1347.643802831293, 529.9719455639793, 490.8594357265283, 393.1802404474894, 345.3397140069916, 324.71241491628643, 323.2619976342501, 317.38182511345514, 281.6299079891352, 253.9370821897805, 247.45536393306162, 231.7763796906464, 227.2651325501129, 212.2018755574573, 200.2791697449141, 200.06431577072217, 193.90383328018095, 189.3597541899125, 178.51126051729264, 168.6846944790506, 156.05352074704197, 136.3075239307487, 127.59417310073798, 119.16106305643821, 4070.4590045771333, 3783.4151728839493, 3496.6866753092086, 1332.3389869043226, 871.0723678589596, 822.8016201856268, 647.5003242246742, 557.0007112824161, 429.7846222684992, 416.0555932208537, 395.07393285161874, 366.4262970563895, 327.47617777451916, 243.91045765557297, 237.40932472644383, 218.55888248670917, 197.49680605971372, 196.49072109153423, 192.42144557618693, 176.6030487889063, 165.23068741378606, 131.49437938760926, 123.5824214918156, 114.66214456233045, 110.5004577356176, 105.38212319587753, 98.99430675976771, 97.45984567318483, 96.87858138660452, 90.92245445509612, 3303.1920006573, 2484.3357576167987, 2219.4161550227564, 2213.4030920093014, 2038.0216082343998, 1327.4229883492594, 805.0813198224627, 738.7644928497343, 653.4738519815126, 559.3696622747893, 501.91942306136355, 443.9788433955327, 385.89259922732833, 342.0644030274452, 321.16765872082345, 232.35899194742146, 198.4344278792839, 189.9130166977332, 181.61483878618685, 174.62126178263858, 173.09765070590336, 161.0276892569152, 147.1338795285412, 141.74439608249554, 127.50374107847392, 124.62949883043505, 123.63173299017896, 117.1685323013455, 115.5208343903666, 109.50329151786077, 2149.601403295836, 2129.258920885304, 2096.133654163936, 1921.3198839937365, 1699.8036147492246, 1091.0094012374777, 997.2352993404284, 883.8811990251921, 658.3556679272293, 588.1997557656542, 569.3625672783596, 445.7931234812049, 412.0242263941714, 353.1797158298451, 238.9615495879857, 227.33564104205786, 227.22558762528365, 217.279055668696, 207.0744596081635, 173.07627619132685, 172.04312192809036, 161.47984079740738, 153.523411738694, 150.82812740479002, 149.7598355299853, 149.27692309568047, 129.31450685958941, 128.10432396626538, 126.25169926103992, 114.29239356414638, 2977.647958361907, 2766.940037658804, 2479.0748210829006, 895.248261839292, 763.9330287439344, 683.4625844547991, 549.8006610979746, 523.1956007377985, 381.0747381716312, 380.19838123118836, 347.7621495936053, 339.33598356832516, 329.13109557317745, 328.8679830221436, 280.49461301874095, 252.70152474464828, 224.8801984053018, 220.53512064217207, 220.30079739566008, 216.8734690100808, 206.34877937449474, 184.46198013008743, 171.27537130367506, 153.1373056578133, 134.35827118173884, 128.1947828305142, 128.08781903551682, 126.66020604834056, 125.1159786951528, 124.24978595851766, 1415.2704623215238, 1244.760808376027, 785.3552422214519, 780.7703061173981, 502.5396911006246, 481.872599154244, 478.79326621067503, 440.0482780424555, 385.1000280212064, 367.2727455990928, 366.7284767863639, 365.32578371435176, 328.07151551210956, 294.486002766232, 275.3562007913296, 270.39215128845836, 243.5370351451728, 230.1815765488571, 229.65569567454685, 209.59079697371166, 198.31083586751706, 193.1346048487781, 182.2806511718601, 181.17799851769735, 172.4974353165594, 171.88966086473013, 165.82736366202707, 165.68875791188935, 164.80335191003806, 155.4279235328977, 6227.379190867738, 1517.5978313707642, 1404.617481119959, 1096.1504296650642, 842.0673874685374, 791.0490751391892, 743.1269850928968, 583.8174573463286, 467.53293774375624, 453.0564913907216, 399.20534053252084, 305.5280687377621, 304.80541700801194, 286.88157003279656, 243.59022784536782, 227.52855396033218, 224.33568624013077, 196.50941928425502, 178.7453037266345, 164.91147089593827, 163.52291270741006, 152.14138003774661, 140.69994960954256, 131.80560888053253, 127.11818716297721, 115.64182922711205, 112.37307507232909, 107.00929008465945, 96.17317824671724, 94.8308311772058, 1191.3629053922282, 1072.2714108244857, 1054.8100049683565, 1022.0736192900595, 988.5612961393324, 848.6764399523854, 713.0065949919051, 670.2186969192726, 652.3435390094, 532.651949251676, 499.77319273578973, 459.5736593080787, 456.8926153263403, 444.3384326865281, 441.4125877369833, 436.1134110886348, 431.2336119636346, 386.3243087170132, 333.9504982365229, 277.69048424425415, 269.8718547408808, 264.9669285928488, 260.9126881062015, 259.2202705959513, 238.39730503911184, 237.65997223732887, 233.5080129539696, 221.80460979772684, 210.67511993177033, 196.33289880180286, 3338.4477120853853, 3043.993630209572, 2233.7070328212744, 750.0055522226569, 657.6030264658946, 632.0535902035197, 611.7650846098459, 485.3486179502577, 455.90705038260944, 378.02882057254925, 355.49078887663984, 338.2651412912994, 332.3299178831374, 310.7920813522343, 274.65926933119823, 253.78525113341152, 252.46471233004362, 233.36969687872264, 221.42675579373105, 219.87582500794136, 218.36736629866644, 202.67654731155827, 201.7810277285348, 195.236402596089, 187.7743327337659, 177.32913476537487, 173.44272304189028, 168.05708668140193, 158.90662036178517, 157.25522904223783, 2148.653355304979, 1363.7928735461244, 1240.5550175600324, 1123.5980998010914, 1115.2576823540276, 1020.3667953519266, 961.4892122414128, 799.5698506593898, 610.2413186545859, 522.7462232253241, 499.5277434317433, 461.6066630467112, 386.4079984745024, 379.6788476957263, 229.1973379133852, 225.61901097745212, 221.46145552524305, 221.0871599255185, 190.8015374052726, 189.0388018425412, 162.8080924946203, 161.05226902145006, 146.04712779765254, 144.31731635896685, 140.27069322881394, 137.97156423612213, 124.62412678567823, 123.54397883895626, 120.86447798605897, 120.13155542684022, 2180.6956082524025, 1765.4718292489742, 1629.9815164395911, 1548.8048095092502, 1131.750116980409, 1011.3105569810241, 777.1245676396613, 672.2652645386577, 504.0480730524583, 487.9883471352269, 429.7542413890269, 422.47849803771703, 380.67601404382054, 361.25489758715327, 319.8212811161876, 233.49019193362236, 195.56007107081723, 170.35164207253263, 168.85004709180615, 161.84597120728054, 149.87322367760996, 139.32889424173908, 138.34534546693513, 137.10207300339337, 136.2221651737743, 135.74909172883713, 127.65190514629235, 111.19522065206526, 109.8411207129993, 105.40810020540401, 1463.6626475614735, 1329.7853469987385, 1078.110008667968, 766.8830451409119, 744.1400615743222, 718.1638292495612, 671.8875567043391, 581.6861556269233, 429.5635008506932, 381.61726892585676, 307.4881937673062, 246.24527930329387, 230.1279883060391, 225.80733234639916, 220.38705695242365, 213.16367152213746, 194.32978364111472, 193.0211648608972, 189.97878403362668, 186.5568688847103, 169.98424674928552, 166.13046952479323, 164.03525268963247, 146.94756750618973, 134.3658712442855, 132.5033616872903, 128.98114222147666, 127.5027153143089, 126.039159137497, 124.82039779642895, 1517.2403354327735, 1415.9404538124893, 1245.0453819188463, 850.1108495814841, 751.2806695209403, 696.2635195525538, 608.287161618807, 544.4432048631749, 496.18307314360436, 493.5737441300551, 441.96878103461853, 432.90225586936964, 415.3031330475578, 364.66413136846086, 304.3798757519183, 267.10149653605737, 243.9835248944054, 208.83366540227644, 193.33720995108786, 189.1608413900751, 184.68868627323607, 174.2958027313896, 173.37511377034855, 159.98671325403708, 140.5992282460985, 139.7149005450505, 139.5362794745927, 135.51094858310887, 129.81153256291637, 125.30526948249718, 3304.949781478841, 2143.053932601865, 1756.6977230086102, 1283.0947427279568, 1204.855640101614, 857.649386428698, 693.6170648575771, 556.2152999565863, 350.92454913440935, 314.96338762380304, 238.54269195242426, 234.4314685034252, 231.20411812702918, 220.82494179025633, 182.16368071528325, 153.91291761073137, 129.6678788420602, 128.2898393498903, 125.91487740463292, 116.81573068080337, 116.49147942186289, 109.86845301482698, 105.17919573717882, 102.40779210030983, 102.19402252350332, 97.81614746068041, 97.22048631884874, 93.56696215384316, 90.78061092010219, 86.45956110845508, 1113.8671429775952, 928.0142053449059, 800.7909121774667, 605.764360334789, 595.5043521067607, 591.0539718108153, 583.3514173714017, 519.0337890106493, 470.95897137053885, 455.5735263460598, 291.298026347863, 273.14382809202954, 228.76339508774802, 208.328710767081, 177.7308383693787, 173.62203068681478, 169.72555096506798, 156.17339583195115, 151.2911425386339, 148.123899633904, 134.88609617403714, 133.8179975833586, 132.0167486449781, 131.71386753142613, 125.56769623735613, 123.26896705103431, 119.52589342372433, 116.14322821158582, 114.32402378812853, 113.2120301378156], \"Category\": [\"Default\", \"Default\", \"Default\", \"Default\", \"Default\", \"Default\", \"Default\", \"Default\", \"Default\", \"Default\", \"Default\", \"Default\", \"Default\", \"Default\", \"Default\", \"Default\", \"Default\", \"Default\", \"Default\", \"Default\", \"Default\", \"Default\", \"Default\", \"Default\", \"Default\", \"Default\", \"Default\", \"Default\", \"Default\", \"Default\", \"Topic1\", \"Topic1\", \"Topic1\", \"Topic1\", \"Topic1\", \"Topic1\", \"Topic1\", \"Topic1\", \"Topic1\", \"Topic1\", \"Topic1\", \"Topic1\", \"Topic1\", \"Topic1\", \"Topic1\", \"Topic1\", \"Topic1\", \"Topic1\", \"Topic1\", \"Topic1\", \"Topic1\", \"Topic1\", \"Topic1\", \"Topic1\", \"Topic1\", \"Topic1\", \"Topic1\", \"Topic1\", \"Topic1\", \"Topic1\", \"Topic2\", \"Topic2\", \"Topic2\", \"Topic2\", \"Topic2\", \"Topic2\", \"Topic2\", \"Topic2\", \"Topic2\", \"Topic2\", \"Topic2\", \"Topic2\", \"Topic2\", \"Topic2\", \"Topic2\", \"Topic2\", \"Topic2\", \"Topic2\", \"Topic2\", \"Topic2\", \"Topic2\", \"Topic2\", \"Topic2\", \"Topic2\", \"Topic2\", \"Topic2\", \"Topic2\", \"Topic2\", \"Topic2\", \"Topic2\", \"Topic2\", \"Topic3\", \"Topic3\", \"Topic3\", \"Topic3\", \"Topic3\", \"Topic3\", \"Topic3\", \"Topic3\", \"Topic3\", \"Topic3\", \"Topic3\", \"Topic3\", \"Topic3\", \"Topic3\", \"Topic3\", \"Topic3\", \"Topic3\", \"Topic3\", \"Topic3\", \"Topic3\", \"Topic3\", \"Topic3\", \"Topic3\", \"Topic3\", \"Topic3\", \"Topic3\", \"Topic3\", \"Topic3\", \"Topic3\", \"Topic3\", \"Topic4\", \"Topic4\", \"Topic4\", \"Topic4\", \"Topic4\", \"Topic4\", \"Topic4\", \"Topic4\", \"Topic4\", \"Topic4\", \"Topic4\", \"Topic4\", \"Topic4\", \"Topic4\", \"Topic4\", \"Topic4\", \"Topic4\", \"Topic4\", \"Topic4\", \"Topic4\", \"Topic4\", \"Topic4\", \"Topic4\", \"Topic4\", \"Topic4\", \"Topic4\", \"Topic4\", \"Topic4\", \"Topic4\", \"Topic4\", \"Topic5\", \"Topic5\", \"Topic5\", \"Topic5\", \"Topic5\", \"Topic5\", \"Topic5\", \"Topic5\", \"Topic5\", \"Topic5\", \"Topic5\", \"Topic5\", \"Topic5\", \"Topic5\", \"Topic5\", \"Topic5\", \"Topic5\", \"Topic5\", \"Topic5\", \"Topic5\", \"Topic5\", \"Topic5\", \"Topic5\", \"Topic5\", \"Topic5\", \"Topic5\", \"Topic5\", \"Topic5\", \"Topic5\", \"Topic5\", \"Topic6\", \"Topic6\", \"Topic6\", \"Topic6\", \"Topic6\", \"Topic6\", \"Topic6\", \"Topic6\", \"Topic6\", \"Topic6\", \"Topic6\", \"Topic6\", \"Topic6\", \"Topic6\", \"Topic6\", \"Topic6\", \"Topic6\", \"Topic6\", \"Topic6\", \"Topic6\", \"Topic6\", \"Topic6\", \"Topic6\", \"Topic6\", \"Topic6\", \"Topic6\", \"Topic6\", \"Topic6\", \"Topic6\", \"Topic6\", \"Topic7\", \"Topic7\", \"Topic7\", \"Topic7\", \"Topic7\", \"Topic7\", \"Topic7\", \"Topic7\", \"Topic7\", \"Topic7\", \"Topic7\", \"Topic7\", \"Topic7\", \"Topic7\", \"Topic7\", \"Topic7\", \"Topic7\", \"Topic7\", \"Topic7\", \"Topic7\", \"Topic7\", \"Topic7\", \"Topic7\", \"Topic7\", \"Topic7\", \"Topic7\", \"Topic7\", \"Topic7\", \"Topic7\", \"Topic7\", \"Topic8\", \"Topic8\", \"Topic8\", \"Topic8\", \"Topic8\", \"Topic8\", \"Topic8\", \"Topic8\", \"Topic8\", \"Topic8\", \"Topic8\", \"Topic8\", \"Topic8\", \"Topic8\", \"Topic8\", \"Topic8\", \"Topic8\", \"Topic8\", \"Topic8\", \"Topic8\", \"Topic8\", \"Topic8\", \"Topic8\", \"Topic8\", \"Topic8\", \"Topic8\", \"Topic8\", \"Topic8\", \"Topic8\", \"Topic8\", \"Topic9\", \"Topic9\", \"Topic9\", \"Topic9\", \"Topic9\", \"Topic9\", \"Topic9\", \"Topic9\", \"Topic9\", \"Topic9\", \"Topic9\", \"Topic9\", \"Topic9\", \"Topic9\", \"Topic9\", \"Topic9\", \"Topic9\", \"Topic9\", \"Topic9\", \"Topic9\", \"Topic9\", \"Topic9\", \"Topic9\", \"Topic9\", \"Topic9\", \"Topic9\", \"Topic9\", \"Topic9\", \"Topic9\", \"Topic9\", \"Topic10\", \"Topic10\", \"Topic10\", \"Topic10\", \"Topic10\", \"Topic10\", \"Topic10\", \"Topic10\", \"Topic10\", \"Topic10\", \"Topic10\", \"Topic10\", \"Topic10\", \"Topic10\", \"Topic10\", \"Topic10\", \"Topic10\", \"Topic10\", \"Topic10\", \"Topic10\", \"Topic10\", \"Topic10\", \"Topic10\", \"Topic10\", \"Topic10\", \"Topic10\", \"Topic10\", \"Topic10\", \"Topic10\", \"Topic10\", \"Topic11\", \"Topic11\", \"Topic11\", \"Topic11\", \"Topic11\", \"Topic11\", \"Topic11\", \"Topic11\", \"Topic11\", \"Topic11\", \"Topic11\", \"Topic11\", \"Topic11\", \"Topic11\", \"Topic11\", \"Topic11\", \"Topic11\", \"Topic11\", \"Topic11\", \"Topic11\", \"Topic11\", \"Topic11\", \"Topic11\", \"Topic11\", \"Topic11\", \"Topic11\", \"Topic11\", \"Topic11\", \"Topic11\", \"Topic11\", \"Topic12\", \"Topic12\", \"Topic12\", \"Topic12\", \"Topic12\", \"Topic12\", \"Topic12\", \"Topic12\", \"Topic12\", \"Topic12\", \"Topic12\", \"Topic12\", \"Topic12\", \"Topic12\", \"Topic12\", \"Topic12\", \"Topic12\", \"Topic12\", \"Topic12\", \"Topic12\", \"Topic12\", \"Topic12\", \"Topic12\", \"Topic12\", \"Topic12\", \"Topic12\", \"Topic12\", \"Topic12\", \"Topic12\", \"Topic12\", \"Topic13\", \"Topic13\", \"Topic13\", \"Topic13\", \"Topic13\", \"Topic13\", \"Topic13\", \"Topic13\", \"Topic13\", \"Topic13\", \"Topic13\", \"Topic13\", \"Topic13\", \"Topic13\", \"Topic13\", \"Topic13\", \"Topic13\", \"Topic13\", \"Topic13\", \"Topic13\", \"Topic13\", \"Topic13\", \"Topic13\", \"Topic13\", \"Topic13\", \"Topic13\", \"Topic13\", \"Topic13\", \"Topic13\", \"Topic13\", \"Topic14\", \"Topic14\", \"Topic14\", \"Topic14\", \"Topic14\", \"Topic14\", \"Topic14\", \"Topic14\", \"Topic14\", \"Topic14\", \"Topic14\", \"Topic14\", \"Topic14\", \"Topic14\", \"Topic14\", \"Topic14\", \"Topic14\", \"Topic14\", \"Topic14\", \"Topic14\", \"Topic14\", \"Topic14\", \"Topic14\", \"Topic14\", \"Topic14\", \"Topic14\", \"Topic14\", \"Topic14\", \"Topic14\", \"Topic14\", \"Topic15\", \"Topic15\", \"Topic15\", \"Topic15\", \"Topic15\", \"Topic15\", \"Topic15\", \"Topic15\", \"Topic15\", \"Topic15\", \"Topic15\", \"Topic15\", \"Topic15\", \"Topic15\", \"Topic15\", \"Topic15\", \"Topic15\", \"Topic15\", \"Topic15\", \"Topic15\", \"Topic15\", \"Topic15\", \"Topic15\", \"Topic15\", \"Topic15\", \"Topic15\", \"Topic15\", \"Topic15\", \"Topic15\", \"Topic15\", \"Topic16\", \"Topic16\", \"Topic16\", \"Topic16\", \"Topic16\", \"Topic16\", \"Topic16\", \"Topic16\", \"Topic16\", \"Topic16\", \"Topic16\", \"Topic16\", \"Topic16\", \"Topic16\", \"Topic16\", \"Topic16\", \"Topic16\", \"Topic16\", \"Topic16\", \"Topic16\", \"Topic16\", \"Topic16\", \"Topic16\", \"Topic16\", \"Topic16\", \"Topic16\", \"Topic16\", \"Topic16\", \"Topic16\", \"Topic16\", \"Topic17\", \"Topic17\", \"Topic17\", \"Topic17\", \"Topic17\", \"Topic17\", \"Topic17\", \"Topic17\", \"Topic17\", \"Topic17\", \"Topic17\", \"Topic17\", \"Topic17\", \"Topic17\", \"Topic17\", \"Topic17\", \"Topic17\", \"Topic17\", \"Topic17\", \"Topic17\", \"Topic17\", \"Topic17\", \"Topic17\", \"Topic17\", \"Topic17\", \"Topic17\", \"Topic17\", \"Topic17\", \"Topic17\", \"Topic17\", \"Topic18\", \"Topic18\", \"Topic18\", \"Topic18\", \"Topic18\", \"Topic18\", \"Topic18\", \"Topic18\", \"Topic18\", \"Topic18\", \"Topic18\", \"Topic18\", \"Topic18\", \"Topic18\", \"Topic18\", \"Topic18\", \"Topic18\", \"Topic18\", \"Topic18\", \"Topic18\", \"Topic18\", \"Topic18\", \"Topic18\", \"Topic18\", \"Topic18\", \"Topic18\", \"Topic18\", \"Topic18\", \"Topic18\", \"Topic18\", \"Topic19\", \"Topic19\", \"Topic19\", \"Topic19\", \"Topic19\", \"Topic19\", \"Topic19\", \"Topic19\", \"Topic19\", \"Topic19\", \"Topic19\", \"Topic19\", \"Topic19\", \"Topic19\", \"Topic19\", \"Topic19\", \"Topic19\", \"Topic19\", \"Topic19\", \"Topic19\", \"Topic19\", \"Topic19\", \"Topic19\", \"Topic19\", \"Topic19\", \"Topic19\", \"Topic19\", \"Topic19\", \"Topic19\", \"Topic19\", \"Topic20\", \"Topic20\", \"Topic20\", \"Topic20\", \"Topic20\", \"Topic20\", \"Topic20\", \"Topic20\", \"Topic20\", \"Topic20\", \"Topic20\", \"Topic20\", \"Topic20\", \"Topic20\", \"Topic20\", \"Topic20\", \"Topic20\", \"Topic20\", \"Topic20\", \"Topic20\", \"Topic20\", \"Topic20\", \"Topic20\", \"Topic20\", \"Topic20\", \"Topic20\", \"Topic20\", \"Topic20\", \"Topic20\", \"Topic20\"], \"logprob\": [30.0, 29.0, 28.0, 27.0, 26.0, 25.0, 24.0, 23.0, 22.0, 21.0, 20.0, 19.0, 18.0, 17.0, 16.0, 15.0, 14.0, 13.0, 12.0, 11.0, 10.0, 9.0, 8.0, 7.0, 6.0, 5.0, 4.0, 3.0, 2.0, 1.0, -0.2438, -3.314, -3.7703, -4.2175, -4.4099, -5.1306, -5.673, -5.8738, -5.9931, -6.1729, -6.3114, -6.3352, -6.391, -6.4293, -6.5154, -6.5407, -6.6057, -6.631, -6.7113, -6.7454, -6.8301, -6.8585, -6.94, -6.9486, -6.961, -7.0321, -7.0415, -7.0663, -7.1403, -7.2004, -3.3225, -3.5486, -3.7217, -3.7223, -3.8551, -3.8891, -4.1987, -4.2457, -4.2866, -4.3519, -4.5891, -4.5997, -4.631, -4.7527, -4.7797, -4.7988, -4.8303, -4.8783, -4.9058, -4.9088, -4.9935, -5.036, -5.0466, -5.2309, -5.2387, -5.263, -5.3739, -5.4694, -5.5214, -5.5696, -5.411, -0.9717, -1.8333, -2.955, -3.1405, -3.5073, -4.148, -4.299, -4.4256, -4.6437, -4.9297, -4.9788, -5.0734, -5.1557, -5.1688, -5.1843, -5.2652, -5.3195, -5.3965, -5.544, -5.5644, -5.5831, -5.5985, -5.7086, -5.7253, -5.7627, -5.7628, -5.7807, -5.818, -5.9311, -6.0201, -1.6978, -2.1744, -2.2789, -3.083, -3.1906, -3.4099, -3.6866, -3.7736, -3.8069, -4.0429, -4.0498, -4.2507, -4.3106, -4.3718, -4.3818, -4.4593, -4.5874, -4.6214, -4.6228, -4.6579, -4.6891, -4.8561, -4.9083, -4.9637, -4.9742, -5.0423, -5.1342, -5.1791, -5.2945, -5.3464, -1.2517, -2.6374, -2.6501, -3.3621, -3.4816, -3.6499, -3.755, -3.8043, -4.603, -4.6555, -4.6611, -4.7175, -4.7318, -4.7486, -4.8171, -4.829, -4.9512, -4.9583, -5.0502, -5.0731, -5.0876, -5.1149, -5.124, -5.1306, -5.2279, -5.2854, -5.3861, -5.4312, -5.4581, -5.4818, -1.7909, -2.1992, -2.4687, -2.834, -2.8712, -2.9623, -3.0939, -4.0283, -4.1051, -4.3275, -4.4576, -4.5194, -4.5239, -4.5423, -4.6622, -4.7661, -4.7921, -4.8578, -4.8775, -4.9464, -5.0045, -5.0056, -5.037, -5.0609, -5.1202, -5.1771, -5.2554, -5.3916, -5.4582, -5.5271, -1.9484, -2.0216, -2.1004, -3.0657, -3.4911, -3.5482, -3.7881, -3.9389, -4.1987, -4.2312, -4.2831, -4.3586, -4.4713, -4.7669, -4.794, -4.8771, -4.9789, -4.9841, -5.0051, -5.0913, -5.1583, -5.3882, -5.4507, -5.5262, -5.5635, -5.6114, -5.6745, -5.6903, -5.6963, -5.7605, -2.122, -2.407, -2.5198, -2.5225, -2.6051, -3.0341, -3.5346, -3.6207, -3.7435, -3.8993, -4.0078, -4.1308, -4.2713, -4.3922, -4.4554, -4.7803, -4.9388, -4.9829, -5.0279, -5.0673, -5.0762, -5.1489, -5.2397, -5.2773, -5.3839, -5.4069, -5.415, -5.4691, -5.4834, -5.5374, -2.5367, -2.5462, -2.5618, -2.649, -2.7715, -3.2153, -3.3052, -3.426, -3.721, -3.8338, -3.8664, -4.1116, -4.1905, -4.345, -4.737, -4.7871, -4.7876, -4.8325, -4.8809, -5.0611, -5.0672, -5.1309, -5.1817, -5.1996, -5.2067, -5.21, -5.3545, -5.364, -5.3787, -5.479, -2.2015, -2.2749, -2.3848, -3.404, -3.5628, -3.6743, -3.8922, -3.9419, -4.2596, -4.2619, -4.3513, -4.3759, -4.4065, -4.4073, -4.5669, -4.6716, -4.7888, -4.8084, -4.8094, -4.8252, -4.8751, -4.9878, -5.0624, -5.175, -5.3067, -5.354, -5.3549, -5.3662, -5.3785, -5.3855, -2.9028, -3.0313, -3.4923, -3.4981, -3.9394, -3.9815, -3.9879, -4.0725, -4.2062, -4.2537, -4.2552, -4.259, -4.3669, -4.4752, -4.5426, -4.5609, -4.6659, -4.7225, -4.7248, -4.8167, -4.8722, -4.8988, -4.957, -4.9631, -5.0124, -5.016, -5.0521, -5.0529, -5.0583, -5.1173, -1.4117, -2.824, -2.9015, -3.1496, -3.4136, -3.4762, -3.5387, -3.7804, -4.0029, -4.0344, -4.1613, -4.4295, -4.4318, -4.4926, -4.6568, -4.7253, -4.7395, -4.8726, -4.9678, -5.0488, -5.0574, -5.1299, -5.2087, -5.2744, -5.3109, -5.4063, -5.4352, -5.4846, -5.5924, -5.6066, -3.0513, -3.1567, -3.1731, -3.2047, -3.2381, -3.3908, -3.5652, -3.6272, -3.6543, -3.8573, -3.9211, -4.0052, -4.011, -4.0389, -4.0456, -4.0577, -4.0689, -4.1792, -4.3253, -4.5103, -4.539, -4.5574, -4.5729, -4.5794, -4.6635, -4.6666, -4.6843, -4.7359, -4.7877, -4.8585, -2.0001, -2.0925, -2.4021, -3.4943, -3.626, -3.6657, -3.6984, -3.9303, -3.993, -4.1807, -4.2424, -4.2922, -4.3099, -4.3772, -4.5012, -4.5805, -4.5857, -4.6647, -4.7175, -4.7245, -4.7315, -4.8064, -4.8108, -4.844, -4.8831, -4.9407, -4.963, -4.9947, -5.051, -5.0615, -2.4317, -2.8865, -2.9813, -3.0804, -3.0878, -3.1769, -3.2363, -3.421, -3.6916, -3.8466, -3.8921, -3.9712, -4.1495, -4.1671, -4.6735, -4.6893, -4.708, -4.7097, -4.8577, -4.867, -5.0173, -5.0282, -5.1266, -5.1386, -5.1672, -5.1839, -5.2864, -5.2952, -5.3173, -5.3234, -2.4099, -2.6212, -2.7011, -2.7522, -3.0662, -3.1788, -3.4425, -3.5876, -3.8761, -3.9085, -4.0359, -4.053, -4.1574, -4.2099, -4.3321, -4.6479, -4.826, -4.9647, -4.9736, -5.0162, -5.0936, -5.167, -5.1742, -5.1832, -5.1897, -5.1932, -5.2552, -5.3944, -5.4067, -5.4483, -2.7243, -2.8203, -3.0303, -3.3713, -3.4015, -3.437, -3.5037, -3.6481, -3.9519, -4.0705, -4.2871, -4.51, -4.578, -4.597, -4.6214, -4.6549, -4.7479, -4.7546, -4.7706, -4.7889, -4.8824, -4.9055, -4.9183, -5.029, -5.1191, -5.1332, -5.1603, -5.1719, -5.1836, -5.1933, -2.6746, -2.7438, -2.8725, -3.2544, -3.3781, -3.4543, -3.5896, -3.7006, -3.7936, -3.7989, -3.9096, -3.9304, -3.972, -4.1023, -4.2836, -4.4147, -4.5055, -4.6618, -4.7393, -4.7612, -4.7853, -4.8435, -4.8488, -4.9297, -5.0597, -5.066, -5.0673, -5.0968, -5.1401, -5.1757, -1.8905, -2.3239, -2.5227, -2.8371, -2.9001, -3.2403, -3.4529, -3.674, -4.1356, -4.244, -4.523, -4.5404, -4.5543, -4.6005, -4.7939, -4.9634, -5.136, -5.1468, -5.1656, -5.2412, -5.244, -5.3031, -5.3471, -5.374, -5.3762, -5.4204, -5.4265, -5.4652, -5.4958, -5.5451, -2.8225, -3.0052, -3.1529, -3.4324, -3.4495, -3.457, -3.4701, -3.5872, -3.6845, -3.7178, -4.1663, -4.2308, -4.4088, -4.5028, -4.6625, -4.686, -4.7088, -4.7925, -4.8245, -4.8458, -4.9401, -4.9481, -4.9617, -4.9641, -5.0122, -5.0308, -5.0619, -5.0909, -5.1068, -5.1166], \"loglift\": [30.0, 29.0, 28.0, 27.0, 26.0, 25.0, 24.0, 23.0, 22.0, 21.0, 20.0, 19.0, 18.0, 17.0, 16.0, 15.0, 14.0, 13.0, 12.0, 11.0, 10.0, 9.0, 8.0, 7.0, 6.0, 5.0, 4.0, 3.0, 2.0, 1.0, 1.8933, 1.8931, 1.8929, 1.8927, 1.8925, 1.8916, 1.8904, 1.8897, 1.8893, 1.8885, 1.8878, 1.8876, 1.8873, 1.8871, 1.8865, 1.8863, 1.8859, 1.8856, 1.885, 1.8847, 1.884, 1.8837, 1.8829, 1.8828, 1.8827, 1.8819, 1.8818, 1.8815, 1.8806, 1.8798, 2.1762, 2.1762, 2.1761, 2.1761, 2.176, 2.176, 2.1757, 2.1757, 2.1757, 2.1756, 2.1753, 2.1753, 2.1753, 2.1751, 2.1751, 2.175, 2.175, 2.1749, 2.1749, 2.1749, 2.1747, 2.1746, 2.1746, 2.1742, 2.1742, 2.1741, 2.1738, 2.1736, 2.1734, 2.1732, 2.0195, 2.9022, 2.9021, 2.9017, 2.9016, 2.9013, 2.9005, 2.9002, 2.8999, 2.8994, 2.8984, 2.8982, 2.8978, 2.8974, 2.8974, 2.8973, 2.8969, 2.8966, 2.8961, 2.8952, 2.895, 2.8949, 2.8948, 2.8939, 2.8938, 2.8935, 2.8935, 2.8933, 2.893, 2.8919, 2.8909, 2.9576, 2.9575, 2.9575, 2.9571, 2.957, 2.9569, 2.9566, 2.9565, 2.9564, 2.9561, 2.9561, 2.9557, 2.9556, 2.9554, 2.9554, 2.9552, 2.9549, 2.9548, 2.9548, 2.9547, 2.9546, 2.954, 2.9538, 2.9536, 2.9535, 2.9532, 2.9528, 2.9526, 2.9519, 2.9516, 2.9925, 2.9922, 2.9922, 2.9917, 2.9916, 2.9914, 2.9913, 2.9912, 2.9896, 2.9894, 2.9894, 2.9892, 2.9892, 2.9891, 2.9889, 2.9888, 2.9883, 2.9883, 2.9879, 2.9878, 2.9877, 2.9876, 2.9875, 2.9875, 2.987, 2.9867, 2.986, 2.9857, 2.9855, 2.9854, 3.0807, 3.0806, 3.0805, 3.0803, 3.0803, 3.0802, 3.0801, 3.079, 3.0789, 3.0784, 3.078, 3.0778, 3.0778, 3.0778, 3.0774, 3.077, 3.0769, 3.0766, 3.0765, 3.0762, 3.0759, 3.0759, 3.0758, 3.0757, 3.0753, 3.075, 3.0745, 3.0736, 3.0731, 3.0726, 3.1202, 3.1202, 3.1202, 3.1197, 3.1193, 3.1193, 3.119, 3.1187, 3.1182, 3.1181, 3.118, 3.1178, 3.1175, 3.1165, 3.1163, 3.116, 3.1155, 3.1155, 3.1154, 3.1149, 3.1145, 3.113, 3.1125, 3.1119, 3.1116, 3.1112, 3.1106, 3.1104, 3.1104, 3.1097, 3.1555, 3.1554, 3.1554, 3.1554, 3.1554, 3.1551, 3.1546, 3.1545, 3.1543, 3.1541, 3.1539, 3.1536, 3.1533, 3.153, 3.1528, 3.1516, 3.1509, 3.1506, 3.1504, 3.1502, 3.1501, 3.1497, 3.1491, 3.1489, 3.1481, 3.1479, 3.1479, 3.1474, 3.1473, 3.1468, 3.1705, 3.1705, 3.1705, 3.1704, 3.1704, 3.17, 3.1699, 3.1698, 3.1694, 3.1693, 3.1692, 3.1687, 3.1686, 3.1682, 3.1668, 3.1666, 3.1666, 3.1664, 3.1662, 3.1653, 3.1653, 3.1649, 3.1646, 3.1645, 3.1644, 3.1644, 3.1634, 3.1633, 3.1632, 3.1624, 3.1798, 3.1798, 3.1798, 3.1791, 3.1789, 3.1787, 3.1784, 3.1783, 3.1776, 3.1776, 3.1774, 3.1773, 3.1772, 3.1772, 3.1767, 3.1763, 3.1758, 3.1758, 3.1757, 3.1757, 3.1754, 3.1749, 3.1745, 3.1738, 3.1729, 3.1726, 3.1726, 3.1725, 3.1724, 3.1723, 3.2223, 3.2222, 3.2218, 3.2217, 3.2211, 3.221, 3.221, 3.2208, 3.2205, 3.2203, 3.2203, 3.2203, 3.22, 3.2197, 3.2195, 3.2194, 3.219, 3.2188, 3.2188, 3.2183, 3.2181, 3.218, 3.2177, 3.2176, 3.2173, 3.2173, 3.2171, 3.2171, 3.2171, 3.2167, 3.2317, 3.2312, 3.2312, 3.231, 3.2307, 3.2306, 3.2306, 3.2302, 3.2298, 3.2297, 3.2294, 3.2287, 3.2287, 3.2285, 3.2278, 3.2276, 3.2275, 3.2269, 3.2264, 3.2259, 3.2259, 3.2254, 3.2249, 3.2244, 3.2241, 3.2233, 3.2231, 3.2227, 3.2216, 3.2215, 3.246, 3.2459, 3.2459, 3.2459, 3.2458, 3.2457, 3.2455, 3.2454, 3.2453, 3.245, 3.2449, 3.2447, 3.2447, 3.2446, 3.2446, 3.2446, 3.2446, 3.2443, 3.2439, 3.2433, 3.2432, 3.2431, 3.2431, 3.2431, 3.2427, 3.2427, 3.2426, 3.2424, 3.2422, 3.2418, 3.2668, 3.2667, 3.2666, 3.2657, 3.2656, 3.2655, 3.2654, 3.265, 3.2649, 3.2644, 3.2643, 3.2641, 3.2641, 3.2639, 3.2635, 3.2632, 3.2631, 3.2628, 3.2626, 3.2626, 3.2625, 3.2622, 3.2622, 3.262, 3.2618, 3.2615, 3.2614, 3.2612, 3.2608, 3.2608, 3.2759, 3.2756, 3.2756, 3.2755, 3.2755, 3.2754, 3.2753, 3.2751, 3.2747, 3.2745, 3.2744, 3.2742, 3.2738, 3.2738, 3.2721, 3.272, 3.2719, 3.2719, 3.2712, 3.2712, 3.2703, 3.2703, 3.2696, 3.2695, 3.2693, 3.2692, 3.2685, 3.2684, 3.2682, 3.2682, 3.2829, 3.2828, 3.2827, 3.2827, 3.2825, 3.2824, 3.2821, 3.2819, 3.2814, 3.2813, 3.2811, 3.281, 3.2808, 3.2806, 3.2803, 3.2791, 3.2783, 3.2776, 3.2775, 3.2773, 3.2768, 3.2763, 3.2763, 3.2762, 3.2761, 3.2761, 3.2757, 3.2745, 3.2744, 3.274, 3.3671, 3.3671, 3.3669, 3.3665, 3.3665, 3.3664, 3.3663, 3.3661, 3.3655, 3.3652, 3.3646, 3.3638, 3.3635, 3.3635, 3.3634, 3.3632, 3.3628, 3.3627, 3.3626, 3.3625, 3.362, 3.3619, 3.3618, 3.3611, 3.3605, 3.3604, 3.3602, 3.3601, 3.36, 3.3599, 3.3809, 3.3809, 3.3808, 3.3804, 3.3802, 3.3801, 3.3799, 3.3798, 3.3796, 3.3796, 3.3793, 3.3793, 3.3792, 3.3789, 3.3783, 3.3779, 3.3775, 3.3769, 3.3765, 3.3764, 3.3762, 3.3759, 3.3759, 3.3754, 3.3746, 3.3745, 3.3745, 3.3743, 3.374, 3.3737, 3.3865, 3.3863, 3.3862, 3.386, 3.386, 3.3856, 3.3854, 3.385, 3.384, 3.3837, 3.3827, 3.3826, 3.3825, 3.3823, 3.3814, 3.3804, 3.3792, 3.3791, 3.379, 3.3783, 3.3783, 3.3778, 3.3774, 3.3772, 3.3771, 3.3767, 3.3766, 3.3762, 3.3759, 3.3754, 3.542, 3.5419, 3.5417, 3.5413, 3.5413, 3.5413, 3.5412, 3.541, 3.5408, 3.5408, 3.5396, 3.5393, 3.5386, 3.5382, 3.5374, 3.5373, 3.5372, 3.5366, 3.5364, 3.5363, 3.5357, 3.5356, 3.5355, 3.5355, 3.5351, 3.535, 3.5347, 3.5345, 3.5343, 3.5343]}, \"token.table\": {\"Topic\": [18, 14, 6, 2, 19, 14, 9, 3, 12, 17, 7, 17, 16, 7, 17, 14, 20, 4, 16, 3, 13, 13, 16, 8, 9, 8, 15, 19, 18, 17, 14, 3, 1, 7, 19, 14, 2, 8, 16, 11, 12, 8, 18, 2, 12, 16, 4, 2, 6, 15, 13, 11, 1, 17, 14, 6, 15, 3, 6, 2, 2, 5, 4, 19, 7, 19, 8, 20, 4, 12, 19, 20, 20, 20, 14, 18, 3, 7, 9, 20, 8, 3, 19, 19, 12, 18, 1, 20, 19, 5, 5, 18, 17, 9, 11, 16, 1, 19, 3, 13, 19, 12, 15, 20, 4, 12, 10, 1, 6, 10, 8, 15, 17, 2, 4, 7, 6, 18, 11, 1, 1, 5, 19, 14, 20, 3, 6, 14, 11, 15, 15, 8, 18, 7, 12, 9, 7, 20, 10, 12, 12, 11, 12, 10, 8, 12, 13, 15, 17, 19, 12, 17, 9, 12, 10, 15, 8, 5, 6, 1, 13, 5, 20, 6, 1, 2, 9, 16, 6, 2, 16, 18, 5, 9, 5, 7, 7, 9, 13, 13, 10, 20, 10, 20, 19, 20, 18, 6, 6, 19, 4, 1, 19, 12, 8, 1, 2, 15, 4, 20, 1, 8, 3, 1, 16, 14, 9, 11, 9, 10, 11, 10, 18, 17, 16, 5, 4, 5, 7, 11, 1, 6, 17, 15, 19, 1, 2, 13, 7, 10, 5, 4, 12, 19, 17, 13, 20, 17, 20, 10, 9, 10, 8, 8, 13, 3, 12, 7, 6, 7, 16, 7, 7, 3, 9, 14, 2, 3, 17, 9, 10, 7, 12, 5, 10, 12, 18, 16, 6, 14, 10, 15, 12, 2, 12, 5, 9, 20, 20, 5, 7, 10, 6, 15, 5, 15, 3, 1, 8, 10, 16, 7, 12, 16, 13, 10, 15, 7, 1, 12, 1, 18, 7, 11, 17, 17, 15, 2, 5, 14, 17, 11, 9, 9, 20, 17, 9, 11, 20, 5, 17, 8, 7, 5, 13, 18, 16, 18, 9, 3, 19, 7, 3, 4, 5, 3, 5, 7, 15, 2, 4, 14, 4, 4, 8, 18, 13, 13, 11, 8, 9, 16, 9, 5, 15, 8, 18, 20, 4, 4, 5, 14, 2, 15, 20, 1, 6, 10, 6, 15, 14, 8, 6, 12, 4, 18, 14, 3, 5, 13, 11, 3, 9, 1, 18, 4, 20, 11, 12, 19, 1, 16, 7, 20, 6, 13, 19, 2, 16, 4, 19, 1, 19, 13, 17, 13, 1, 15, 11, 15, 16, 14, 13, 2, 7, 7, 8, 14, 19, 17, 2, 19, 8, 8, 11, 12, 16, 10, 20, 9, 16, 18, 1, 13, 6, 19, 15, 16, 8, 3, 3, 7, 9, 11, 9, 2, 8, 9, 17, 2, 16, 6, 4, 13, 5, 13, 3, 14, 15, 11, 15, 4, 19, 13, 15, 11, 11, 6, 6, 10, 4, 14, 18, 8, 17, 11, 4, 2, 19, 3, 18, 5, 11, 3, 2, 18, 10, 18, 15, 4, 2, 16, 7, 10, 12, 2, 5, 3, 13, 3, 14, 14, 1, 18, 2, 1, 10, 6, 4, 18, 17, 10, 10, 17, 17, 4, 2, 2, 16, 11, 16, 14, 17, 17, 8, 13, 14, 6, 10, 11, 12, 14, 14, 2, 1, 1, 5, 13, 12, 3, 16, 15, 2, 11, 16, 18, 13, 18, 11, 3, 14, 4, 6, 20, 10, 13, 13, 4, 16, 6, 6, 15, 11, 8, 10, 19, 6, 3, 1, 14, 14, 4, 9, 9, 18, 3, 5, 20, 20, 17, 11, 13, 9, 5, 8, 1, 10, 8, 4, 15, 11, 19, 12, 2, 3, 20, 17, 9, 16, 18, 5, 7], \"Freq\": [0.9976156519485663, 0.9980104488802087, 0.9960960532215791, 0.997633043293245, 0.9948493115795185, 0.9966619358750065, 0.9976068548291243, 0.9969211018780861, 0.9996060673266618, 0.996201140251232, 0.9996415626406032, 0.9945409482121037, 0.999337206182571, 0.9987689107145076, 0.9989704124263353, 0.9941983482898441, 0.9976833563249212, 0.997944964476222, 0.9985529119957217, 0.9935184370000564, 0.998452912747166, 0.9992320844848445, 0.9941735844723782, 0.9996391367328745, 0.9987612759583968, 0.9966146004902678, 0.9988722943818931, 0.9991467950950923, 0.9920685631262511, 0.9947095705197246, 0.9920178867826348, 0.9992115764753292, 0.9996348374579155, 0.9982033931696207, 0.9995082099494409, 0.9961293302084596, 0.9981871571936043, 0.9993660928665155, 0.991028147495562, 0.9965346037397447, 0.9969806502815995, 0.9963643328052578, 0.9993358097722562, 0.9997822197300646, 0.9950252319813547, 0.9979206883063528, 0.9969394607644342, 0.9965551820887828, 0.9961205909640486, 0.9982120476296054, 0.9975134753135912, 0.995010692784616, 0.9944236284245908, 0.9970150180583571, 0.9937099547405226, 0.9904075439635087, 0.9957991040524475, 0.9942448628123105, 0.996650307112042, 0.9994764282287008, 0.9987582680146254, 0.997988821480355, 0.9930282935097858, 0.9969412710757553, 0.9975025737153989, 0.988788697908231, 0.9949490382586588, 0.9934307819770108, 0.9944991347970263, 0.9969270593691474, 0.9940686095429607, 0.9990123362223029, 0.9980082433310943, 0.9956001715723637, 0.9986592736284726, 0.9959688880844267, 0.997721842160506, 0.99748448559941, 0.9939368577110199, 0.9892941577291727, 0.9900269101405132, 0.9959275035272804, 0.994791969378471, 0.9914011272650586, 0.9974076597136643, 0.9978080328833392, 0.9885987179864407, 0.9901567381138818, 0.9899458962890081, 0.9962604172731455, 0.9945209421868364, 0.9925654966379965, 0.9960572187575014, 0.9970284786321446, 0.9963709549846929, 0.9982449471898426, 0.9882128946620592, 0.9973653905470853, 0.9950366111341126, 0.9979404425290388, 0.995780983945761, 0.9958303591138018, 0.9905806977790332, 0.9955439919585554, 0.9974851139949789, 0.9912035627007205, 0.9977148111793898, 0.9953229854949411, 0.9996379533164986, 0.994787581127978, 0.995403868588017, 0.9996959233543345, 0.9988204023419058, 0.9988182889498296, 0.9987864125325487, 0.9940637347413892, 0.9956461744053517, 0.9960079932482603, 0.9991023183516176, 0.9924913138986358, 0.9959229816986689, 0.9958285952621426, 0.9992898401491968, 0.9958762588981542, 0.9897057054878301, 0.9995373256439573, 0.9932489780301099, 0.9936671513117004, 0.998349657499281, 0.9908720838759901, 0.9994911932082188, 0.9951924480290555, 0.9968622123363355, 0.996585286646851, 0.9982716195603771, 0.9949263063270848, 0.9996259535844515, 0.9979637899926863, 0.9940953577515934, 0.9995603919727194, 0.9924978987474451, 0.9982743577064329, 0.9878013988088484, 0.9978600372748044, 0.9994623280638685, 0.9984834555661359, 0.9987517576421974, 0.99894351527281, 0.9937062685458744, 0.9938938722153494, 0.9986738178803829, 0.9950984305979375, 0.9941133043644745, 0.9968022052766042, 0.9915072405502104, 0.9928475429632958, 0.9941513262041997, 0.9935218913785613, 0.9978060126944327, 0.9951506832210033, 0.99722303999653, 0.9953383120444612, 0.9884186740086905, 0.9992440580261265, 0.9915771752269382, 0.9989187663298531, 0.9886922171822307, 0.9944817919641521, 0.9953387549648132, 0.9995601993613094, 0.9947729856914567, 0.9938632045536249, 0.9967824063110023, 0.9993130326684628, 0.9987934378977251, 0.9998036211496851, 0.9942252557297102, 0.9914459444286507, 0.9974469689298123, 0.9971393418105391, 0.9971797181393137, 0.9987381886673449, 0.9975735354957801, 0.9957251518057095, 0.9977249692791573, 0.9966629491249891, 0.9978839572819825, 0.9944332307560029, 0.9981660433686825, 0.9996028212483732, 0.9951039616132563, 0.9871070949366996, 0.99301694492643, 0.9938879013770747, 0.9989280068510573, 0.9999844737880498, 0.9971514986190008, 0.9972563882149365, 0.9953781784842508, 0.993887237904236, 0.9853815225274588, 0.9960492055039868, 0.9980194162254677, 0.9974007235645764, 0.9948931028836173, 0.9972213417317366, 0.9913794949922519, 0.997617811283983, 0.9959761326052514, 0.996062947541618, 0.9948513620612708, 0.989890676846373, 0.9938325300022239, 0.9942097766816168, 0.9991663252709049, 0.9988019356723625, 0.9943095806928471, 0.9971847510681128, 0.9954709894793831, 0.9934981149624397, 0.9956186800752036, 0.9953432583455918, 0.9984123170345992, 0.990941135317973, 0.9927341595886805, 0.9879669226323899, 0.8549872212755094, 0.14336675966510065, 0.9962672463316081, 0.9997823925558132, 0.9922961767680523, 0.9986874717945753, 0.9976769774556545, 0.9992428299501244, 0.9917552676120017, 0.9932110267309382, 0.9958879484501176, 0.9931952908576803, 0.992412435557788, 0.9925536795280753, 0.994124805789644, 0.9910804462644064, 0.993658777566148, 0.9986568812418836, 0.996799847181012, 0.9970631054893385, 0.9997785278805954, 0.9974428745226442, 0.9902563553340549, 0.9981743826376155, 0.9923423877365833, 0.9990257430637461, 0.9992272988816288, 0.991988234084996, 0.996659729375813, 0.9962599123088184, 0.9997181821543502, 0.9960430130091096, 0.994847929790658, 0.9898348074665999, 0.9934635941216454, 0.9925517019081083, 0.9877811026222669, 0.9964255705006428, 0.9920743552191276, 0.9944498523466665, 0.9962294664124832, 0.9965262821472185, 0.9994281280322295, 0.9925047016829273, 0.999566442660883, 0.9985724942770128, 0.9912388073910977, 0.9963282213713763, 0.9989504819467017, 0.9917704734030524, 0.9979602919690225, 0.9914658418399862, 0.9992215023281168, 0.9995742231847866, 0.9961075472261479, 0.9986056808010692, 0.9963097859450075, 0.9945048221189718, 0.9939853102594038, 0.9934662887530638, 0.9938019995700463, 0.9865605537160532, 0.996888296420134, 0.997808417061788, 0.9902754555103073, 0.9868846522165005, 0.9905682012855056, 0.9974320623276809, 0.999202947176873, 0.9899413431671028, 0.9947759519186139, 0.9898544923734798, 0.9858583160335541, 0.9973576027095648, 0.9964690087920958, 0.9981787861450244, 0.9926128526270523, 0.999388791508451, 0.9983794376684533, 0.9949429312642372, 0.9994186261260753, 0.9975027035555957, 0.9974205764603845, 0.9942946344229016, 0.9983824921560961, 0.9983431968102785, 0.9982208709838066, 0.9975141597785768, 0.996417328582357, 0.9931570775400516, 0.9900856838492773, 0.9908129536801316, 0.9987410893897638, 0.9981124763142043, 0.9988485269735626, 0.997551418378288, 0.9962403002325144, 0.995931703753759, 0.9988560115594841, 0.9991603664139252, 0.9982241748392828, 0.9948831474505471, 0.9965906715284254, 0.9862229646910321, 0.9978150547878113, 0.9952871817465224, 0.9944699863609309, 0.9972648069934167, 0.9940362549559727, 0.9942660587500315, 0.9954171718732774, 0.9850210549472839, 0.9994676924060326, 0.9961682935827464, 0.9994908916841534, 0.9941307852002977, 0.9965031580901564, 0.9980893794198797, 0.9976869231772892, 0.9979157977184533, 0.9980463345293888, 0.9971537750608485, 0.9989260726860347, 0.9981681859296145, 0.999074800605446, 0.9981179087996969, 0.9990030345411081, 0.9981342042762996, 0.9963561870353072, 0.9977445892026997, 0.9982953514273741, 0.9945801642241215, 0.9990066360806383, 0.9968122090731085, 0.9997096474144013, 0.9975996829351379, 0.9980152540464502, 0.9928302061571295, 0.9991530673034102, 0.9989128131664033, 0.9959409804122115, 0.998236639864781, 0.9971359760957874, 0.9949919265091296, 0.9986194048003586, 0.999498725513865, 0.9982491204936169, 0.9976680802266434, 0.9966962617227654, 0.9991825056295912, 0.9935565339038787, 0.9946291453145661, 0.9992393287216368, 0.9941387548870043, 0.995125390953962, 0.9969464530055399, 0.9994591689505656, 0.9945875673872929, 0.9986932885493334, 0.9996879133696231, 0.9924865830975861, 0.9948242328232281, 0.9940460376032146, 0.9831185690773494, 0.9846986158323554, 0.991961660540566, 0.9899559197663698, 0.9982167926093345, 0.9969982203425428, 0.9967693750735218, 0.9920955197693574, 0.9989851647332801, 0.9904621776482815, 0.9988615732554966, 0.9991103666722735, 0.994883775502105, 0.996264272579137, 0.9963724387943939, 0.9934273739636134, 0.9967954453663586, 0.9906042318837318, 0.998660486250481, 0.9980135799849864, 0.9934008583038665, 0.9993978358467922, 0.9987493817004385, 0.9965720285078327, 0.9991219885382457, 0.9972816914447704, 0.9989950103408489, 0.9927712751531376, 0.9972784599571244, 0.99394057324517, 0.9995472675602007, 0.9994570132345764, 0.9883161216867776, 0.9948902035513071, 0.9989651738041911, 0.9933899937349224, 0.9985998066072839, 0.9987041003656321, 0.9996602609214476, 0.9922983359655951, 0.999408751621066, 0.9949656686127901, 0.9981852854313468, 0.9996420427318697, 0.9994322090683456, 0.9995222752258865, 0.9916563115409092, 0.9929582284472805, 0.9994803673746951, 0.9947483208996686, 0.9943430206527796, 0.9975113427841111, 0.9985459162930409, 0.9997202256683896, 0.9967338965394879, 0.9937814920969464, 0.9987489964878644, 0.9954914246151771, 0.9979408274383093, 0.9923931343405851, 0.9978663923023244, 0.9892511508583165, 0.9993323501810542, 0.9997423001147459, 0.9952925340555123, 0.9998549959332547, 0.9963507574398669, 0.9925406709573588, 0.9974514107670054, 0.9995526054450015, 0.9948667631590129, 0.9955968810129925, 0.9975557722938594, 0.9862530763388504, 0.9989495675558037, 0.9986857576043051, 0.9977948522496684, 0.9958430618916485, 0.9928192017584223, 0.9977633483828732, 0.9973606946648705, 0.9961250237461324, 0.9959981999465812, 0.9957380402895979, 0.9922935524287508, 0.9986882012797241, 0.9971162741309949, 0.9989048589855394, 0.9984338195540143, 0.9874462022865635, 0.9999546894672293, 0.993748378538532, 0.9925865905968119, 0.99714352650957, 0.9852921630888647, 0.9983908016377288, 0.9988375716154303, 0.9925732945807821, 0.9895832833855442, 0.9950365336130512, 0.9979703374651447, 0.9981114744623782, 0.99797465013042, 0.9909311080526825, 0.997223899834569, 0.9987324203686997, 0.9986783118896769, 0.9955184675576924, 0.9948082609599583, 0.997824430315932, 0.9995148733266811, 0.9996735767776546, 0.99833306824002, 0.9981427518633064, 0.9973492095221621, 0.9988421846335297, 0.9995187529307419, 0.9987786511266983, 0.9936130664684534, 0.9992370981334212, 0.9961567022095472, 0.9936888402178327, 0.996563388909797, 0.9959724487551762, 0.9994094182188794, 0.9986790100583308, 0.9952780905149563, 0.9987577304988322, 0.9991914839922327, 0.99713606633629, 0.999013402390738, 0.9988674026253656, 0.996016728951854, 0.9935516625265007, 0.9964246849825024, 0.9936179345200964, 0.9988142826418285, 0.9969058440949402, 0.9943361690168857, 0.9968480106956067, 0.9929742890228506, 0.998860106527835, 0.9996834711039158, 0.9937382296547175, 0.9980765209137219, 0.9942218329854774, 0.9919546396289033, 0.9938069540963159, 0.9985882388760843, 0.9975769641886353, 0.9930901427284999, 0.9996810154293106, 0.9979658561021029, 0.9991957158881831, 0.9981891496719765, 0.9920655764976006, 0.9958761124503521, 0.996501940504212, 0.9954665999238302, 0.9941253156073895, 0.9939124109075759, 0.9990829931712216, 0.9997972753886492, 0.9946801319034729, 0.9989071230385649, 0.9906799418499438, 0.9969878079678236, 0.9981816429101807, 0.9932739532499898, 0.9979005887589415, 0.9997758711120183, 0.9941186810019794, 0.9950826636613146, 0.9971448751897011, 0.9964422328856385, 0.9960859230312692, 0.9997126184838984, 0.9997482216923426, 0.9999142054411656, 0.9861290167830308, 0.9916818473753908, 0.9995663517268386, 0.9967900520673135, 0.9946062957165512, 0.9948112403132833, 0.9962710965834842, 0.995727896768398, 0.9993320374376536, 0.9958123597372878, 0.9936220468019574, 0.9984679475905245, 0.9950747403275026, 0.9987760314167781, 0.9995272308269899, 0.9959164252111861, 0.999361924522559, 0.9952579873140357, 0.9985437247449364, 0.9977952927034844, 0.9994861037179799, 0.9992873034683338, 0.9971811883811589, 0.9936118950236735, 0.9944729684903882, 0.9985639185892009, 0.9940412397588507, 0.9954789627080277, 0.9898346862068698, 0.9945094630621018, 0.9866414421409729, 0.9930835354900065, 0.9907809160918284, 0.9974628553538195], \"Term\": [\"aaa\", \"aaaa\", \"aaaaa\", \"aaaaaa\", \"aaaaaaa\", \"abandonar\", \"abra\\u00e7ar\", \"abrir\", \"acabar\", \"academiar\", \"achar\", \"acompanhar\", \"acontecer\", \"acordar\", \"acreditar\", \"adorar\", \"af\", \"aff\", \"agr\", \"agradecer\", \"aguentar\", \"ah\", \"ahhh\", \"ai\", \"ajudar\", \"alguem\", \"algum\", \"algu\\u00e9m\", \"almo\", \"alto\", \"amanhar\", \"amanh\\u00e3\", \"amar\", \"amigar\", \"amigo\", \"amizade\", \"amo\", \"amor\", \"amp\", \"andar\", \"animar\", \"anivers\\u00e1rio\", \"anjo\", \"ano\", \"ansioso\", \"antar\", \"antigo\", \"apagar\", \"apaixonar\", \"aparecer\", \"apertar\", \"apesar\", \"apoiar\", \"aprender\", \"aproveitar\", \"aq\", \"ara\\u00fajo\", \"armys\", \"arrumar\", \"assistir\", \"atar\", \"aten\\u00e7\\u00e3o\", \"au\", \"aula\", \"avisar\", \"av\\u00f4\", \"azul\", \"baby\", \"bad\", \"baixar\", \"banhar\", \"bar\", \"bater\", \"bc\", \"beber\", \"beb\\u00e9\", \"beijar\", \"beijo\", \"bichar\", \"bicho\", \"bloquear\", \"bocar\", \"bolar\", \"bolsar\", \"bolsonaro\", \"bonito\", \"bonoro\", \"bostar\", \"branco\", \"brasil\", \"brigar\", \"bts\", \"burro\", \"buscar\", \"bu\\u00e9\", \"cabelar\", \"cabelo\", \"cabe\\u00e7a\", \"cachorro\", \"cair\", \"cal\\u00e7ar\", \"cama\", \"cancelar\", \"cansar\", \"cantar\", \"carai\", \"caralho\", \"caramba\", \"caro\", \"carregar\", \"casal\", \"casar\", \"causar\", \"ceder\", \"celular\", \"cena\", \"certar\", \"certo\", \"chamar\", \"chance\", \"chatear\", \"chato\", \"chegar\", \"cheio\", \"chocar\", \"chorar\", \"cidade\", \"cinema\", \"claro\", \"cm\", \"cmg\", \"colar\", \"colocar\", \"combinar\", \"comedir\", \"comemorar\", \"comer\", \"come\\u00e7ar\", \"comido\", \"comigo\", \"complicar\", \"comprar\", \"concordar\", \"conhecer\", \"conseguir\", \"contar\", \"continuar\", \"conversar\", \"converso\", \"coragem\", \"cora\\u00e7\\u00e3o\", \"corpo\", \"correr\", \"cortar\", \"costa\", \"crescer\", \"crian\\u00e7a\", \"criar\", \"cuidar\", \"culpar\", \"curtir\", \"dan\\u00e7ar\", \"dedo\", \"deixar\", \"demi\", \"demorar\", \"depress\\u00e3o\", \"descansar\", \"descobrir\", \"desculpar\", \"desejar\", \"desenhar\", \"desistir\", \"deus\", \"dever\", \"dia\", \"dica\", \"diferente\", \"dif\\u00edcil\", \"dinheiro\", \"direito\", \"dm\", \"dms\", \"dnv\", \"doce\", \"doente\", \"doer\", \"domingo\", \"dor\", \"dormir\", \"dps\", \"drogar\", \"duvidar\", \"d\\u00f3\", \"eh\", \"emocaonegativa\", \"emocaopositiva\", \"encher\", \"encontrar\", \"energia\", \"enfim\", \"entao\", \"entender\", \"entrar\", \"epis\\u00f3dio\", \"errar\", \"es\", \"escola\", \"escolher\", \"escrever\", \"escutar\", \"esfor\\u00e7ar\", \"especial\", \"esperan\\u00e7ar\", \"esperar\", \"esquecer\", \"estragar\", \"estudar\", \"est\\u00f4mago\", \"etc\", \"ex\", \"exatamente\", \"existir\", \"explicar\", \"explodir\", \"faca\", \"facada\", \"facada\", \"faculdade\", \"falar\", \"falecer\", \"falir\", \"faltar\", \"falto\", \"familia\", \"fam\\u00edlia\", \"fav\", \"favorito\", \"fc\", \"fds\", \"fechar\", \"feij\\u00e3o\", \"feio\", \"feliz\", \"feriar\", \"festa\", \"ficar\", \"filhar\", \"filho\", \"filmar\", \"fixar\", \"foder\", \"fofo\", \"fome\", \"formar\", \"for\\u00e7ar\", \"foto\", \"freira\", \"frio\", \"fundir\", \"f\\u00e3\", \"f\\u00e9ria\", \"gabi\", \"ganhar\", \"garoto\", \"gastar\", \"gatar\", \"gato\", \"gente\", \"gnt\", \"gostar\", \"gra\\u00e7a\", \"grosso\", \"grupar\", \"gt\", \"guardar\", \"haver\", \"hist\\u00f3ria\", \"hj\", \"hoje\", \"homem\", \"horar\", \"horr\\u00edvel\", \"idear\", \"idiota\", \"ignorar\", \"igual\", \"im\", \"imaginar\", \"importante\", \"importar\", \"inchar\", \"incrivel\", \"incr\\u00edvel\", \"infelizmente\", \"instagram\", \"instar\", \"insuport\\u00e1vel\", \"inteirar\", \"internet\", \"iriar\", \"irm\\u00e3o\", \"iti\", \"ja\", \"jeito\", \"jimin\", \"jogar\", \"julia\", \"juntar\", \"junto\", \"jurar\", \"kkk\", \"kkkk\", \"kkkkk\", \"kkkkkk\", \"kkkkkkk\", \"lanchar\", \"lan\\u00e7ar\", \"legal\", \"lembrar\", \"ler\", \"levar\", \"lidar\", \"ligar\", \"lindar\", \"lindo\", \"live\", \"livrar\", \"lixar\", \"lo\", \"lt\", \"lutar\", \"luzir\", \"mac\", \"machucar\", \"mae\", \"magoar\", \"mam\\u00e3e\", \"mandar\", \"manh\\u00e3\", \"manir\", \"mano\", \"maravilhoso\", \"marcar\", \"matar\", \"mau\", \"mds\", \"me\", \"mear\", \"medo\", \"melhor\", \"melhorar\", \"menino\", \"mensagem\", \"mentir\", \"merda\", \"merecer\", \"meter\", \"migar\", \"miller\", \"mim\", \"mimo\", \"mo\", \"montar\", \"morar\", \"morrer\", \"morte\", \"mostrar\", \"motivar\", \"motivo\", \"msm\", \"mt\", \"mto\", \"mudar\", \"mulher\", \"mundo\", \"musicar\", \"my\", \"m\\u00e3e\", \"m\\u00e3o\", \"m\\u00e9dico\", \"m\\u00fasico\", \"nado\", \"namjoon\", \"namorar\", \"nao\", \"nascer\", \"nd\", \"ne\", \"necesito\", \"negar\", \"nene\", \"nenem\", \"nenhum\", \"nen\\u00e9m\", \"nen\\u00ea\", \"net\", \"ngm\", \"ninguem\", \"ningu\\u00e9m\", \"noite\", \"nojo\", \"nome\", \"normal\", \"noto\", \"not\\u00edcia\", \"no\\u00e7\\u00e3o\", \"n\\u00e9\", \"n\\u00f3\", \"obg\", \"obrigar\", \"odiar\", \"oh\", \"oi\", \"ok\", \"olhar\", \"olho\", \"oq\", \"orelhar\", \"outro\", \"ouvir\", \"ow\", \"pagar\", \"pai\", \"palavra\", \"parar\", \"parecer\", \"parir\", \"participar\", \"passar\", \"paz\", \"pedir\", \"pelar\", \"peno\", \"pensar\", \"pequeno\", \"perceber\", \"perder\", \"perdoar\", \"perfazer\", \"perguntar\", \"pesar\", \"pessoa\", \"pessoal\", \"pizza\", \"po\", \"pobre\", \"porra\", \"positivo\", \"postar\", \"posto\", \"poxa\", \"pq\", \"pqp\", \"pra\", \"praia\", \"pras\", \"precioso\", \"precisar\", \"preciso\", \"preferir\", \"preocupar\", \"preto\", \"pro\", \"problema\", \"procurar\", \"pronto\", \"proteger\", \"pr\\u00edncipe\", \"puta\", \"p\\u00e9\", \"p\\u00f4r\", \"qnd\", \"qria\", \"quantum\", \"quartar\", \"quase\", \"quebrar\", \"queimar\", \"querer\", \"querido\", \"raivar\", \"real\", \"realidade\", \"realmente\", \"receber\", \"recuperar\", \"rem\\u00e9dio\", \"resolver\", \"responder\", \"rir\", \"rolar\", \"roupar\", \"rt\", \"ruim\", \"ruir\", \"r\\u00e1pido\", \"sacar\", \"sad\", \"sair\", \"saudade\", \"sdd\", \"sdds\", \"seguir\", \"semana\", \"sentir\", \"seriar\", \"sexo\", \"show\", \"significar\", \"sinceramente\", \"situa\\u00e7\\u00e3o\", \"smp\", \"so\", \"sobrar\", \"socorrer\", \"sofrer\", \"soft\", \"sol\", \"sonhar\", \"sono\", \"sorriso\", \"sorry\", \"sortir\", \"sp\", \"suar\", \"sumir\", \"super\", \"s\\u00e1bado\", \"s\\u00e9rie\", \"s\\u00e9rio\", \"ta\", \"tadinha\", \"tadinho\", \"tae\", \"taehyung\", \"tambem\", \"tao\", \"tardar\", \"tatuagem\", \"tava\", \"tb\", \"tbm\", \"td\", \"temporada\", \"terminar\", \"the\", \"ti\", \"time\", \"tio\", \"tirar\", \"to\", \"tocar\", \"tomar\", \"total\", \"tou\", \"trabalhar\", \"tratar\", \"trazer\", \"triste\", \"tristeza\", \"trocar\", \"tweet\", \"tweets\", \"twitter\", \"t\\u00e1\", \"t\\u00f4\", \"umar\", \"unhar\", \"valer\", \"vc\", \"vcs\", \"vdd\", \"ve\", \"velho\", \"vender\", \"verdade\", \"vergonha\", \"vestir\", \"vezar\", \"viagem\", \"viajar\", \"vidar\", \"video\", \"vir\", \"virar\", \"viver\", \"voce\", \"voltar\", \"vontade\", \"votar\", \"voz\", \"v\\u00e1cuo\", \"v\\u00eddeo\", \"yoongi\", \"\\u00e1gua\", \"\\u00e1lbum\", \"\\u00e9poca\", \"\\u00edcone\", \"\\u00f3dio\", \"\\u00f4nibus\", \"\\u00fanico\"]}, \"R\": 30, \"lambda.step\": 0.01, \"plot.opts\": {\"xlab\": \"PC1\", \"ylab\": \"PC2\"}, \"topic.order\": [5, 20, 10, 7, 19, 3, 12, 2, 6, 16, 13, 17, 8, 1, 11, 9, 4, 14, 15, 18]};\n",
              "\n",
              "function LDAvis_load_lib(url, callback){\n",
              "  var s = document.createElement('script');\n",
              "  s.src = url;\n",
              "  s.async = true;\n",
              "  s.onreadystatechange = s.onload = callback;\n",
              "  s.onerror = function(){console.warn(\"failed to load library \" + url);};\n",
              "  document.getElementsByTagName(\"head\")[0].appendChild(s);\n",
              "}\n",
              "\n",
              "if(typeof(LDAvis) !== \"undefined\"){\n",
              "   // already loaded: just create the visualization\n",
              "   !function(LDAvis){\n",
              "       new LDAvis(\"#\" + \"ldavis_el691402181748593448433659077\", ldavis_el691402181748593448433659077_data);\n",
              "   }(LDAvis);\n",
              "}else if(typeof define === \"function\" && define.amd){\n",
              "   // require.js is available: use it to load d3/LDAvis\n",
              "   require.config({paths: {d3: \"https://d3js.org/d3.v5\"}});\n",
              "   require([\"d3\"], function(d3){\n",
              "      window.d3 = d3;\n",
              "      LDAvis_load_lib(\"https://cdn.jsdelivr.net/gh/bmabey/pyLDAvis@3.3.1/pyLDAvis/js/ldavis.v3.0.0.js\", function(){\n",
              "        new LDAvis(\"#\" + \"ldavis_el691402181748593448433659077\", ldavis_el691402181748593448433659077_data);\n",
              "      });\n",
              "    });\n",
              "}else{\n",
              "    // require.js not available: dynamically load d3 & LDAvis\n",
              "    LDAvis_load_lib(\"https://d3js.org/d3.v5.js\", function(){\n",
              "         LDAvis_load_lib(\"https://cdn.jsdelivr.net/gh/bmabey/pyLDAvis@3.3.1/pyLDAvis/js/ldavis.v3.0.0.js\", function(){\n",
              "                 new LDAvis(\"#\" + \"ldavis_el691402181748593448433659077\", ldavis_el691402181748593448433659077_data);\n",
              "            })\n",
              "         });\n",
              "}\n",
              "</script>"
            ]
          },
          "metadata": {},
          "execution_count": 145
        }
      ]
    },
    {
      "cell_type": "markdown",
      "source": [
        "Essa base deveria ser melhor explorada, para ser melhor entendida, os tópicos não permitem uma compreendão de temas. Na literatura hpa críticas ao uso da LDA em textos curtos. O que se vê é que muitas palavras chave são gírias e impropérios.\n",
        "\n",
        "Acho que uma boa idéia seria buscar mensagens de contas corporativas, parece que o conteúdo dos tweets foi coletado de forma aletório, ou com algum critério que atendia o objetivo de classificar emoções, mas que não atende a identificação de vagas.\n",
        "\n",
        "Também tentei identifiar NER - Named Entity Recognition e o SpaCy não deu bons resultados."
      ],
      "metadata": {
        "id": "iK_GSM1cWx4r"
      }
    },
    {
      "cell_type": "code",
      "source": [
        ""
      ],
      "metadata": {
        "id": "ItN_vuBJWj9j"
      },
      "execution_count": null,
      "outputs": []
    }
  ]
}